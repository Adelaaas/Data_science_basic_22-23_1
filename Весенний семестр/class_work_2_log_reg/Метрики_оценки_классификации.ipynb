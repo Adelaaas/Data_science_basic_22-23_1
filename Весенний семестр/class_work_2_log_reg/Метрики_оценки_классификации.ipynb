{
  "nbformat": 4,
  "nbformat_minor": 0,
  "metadata": {
    "colab": {
      "provenance": []
    },
    "kernelspec": {
      "name": "python3",
      "display_name": "Python 3"
    }
  },
  "cells": [
    {
      "cell_type": "markdown",
      "metadata": {
        "id": "5FhnqqlU4V87"
      },
      "source": [
        "# Метрики оценки классификации\n",
        "\n",
        "После того, как мы классифицировали данные, нам нужно понять насколько хорошо работает наш классификатор.\n",
        "\n",
        "Существует множество различных классификаторов:\n",
        "- метод опорных векторов\n",
        "- логистическая регрессия\n",
        "- дерево решений\n",
        "и т.д.\n",
        "\n",
        "Пока мы с вами посмотрели только логистическую регрессию, так как же нам ее теперь оценивать?"
      ]
    },
    {
      "cell_type": "code",
      "metadata": {
        "id": "M2US_6To4EQL",
        "colab": {
          "resources": {
            "http://localhost:8080/nbextensions/google.colab/files.js": {
              "data": "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",
              "ok": true,
              "headers": [
                [
                  "content-type",
                  "application/javascript"
                ]
              ],
              "status": 200,
              "status_text": ""
            }
          },
          "base_uri": "https://localhost:8080/",
          "height": 73
        },
        "outputId": "29a331a0-b878-409a-a7c5-8146baad5ee0"
      },
      "source": [
        "from google.colab import files\n",
        "uploaded = files.upload()"
      ],
      "execution_count": null,
      "outputs": [
        {
          "output_type": "display_data",
          "data": {
            "text/html": [
              "\n",
              "     <input type=\"file\" id=\"files-8790c53e-feb8-4b01-ae5e-81cd2648914e\" name=\"files[]\" multiple disabled\n",
              "        style=\"border:none\" />\n",
              "     <output id=\"result-8790c53e-feb8-4b01-ae5e-81cd2648914e\">\n",
              "      Upload widget is only available when the cell has been executed in the\n",
              "      current browser session. Please rerun this cell to enable.\n",
              "      </output>\n",
              "      <script src=\"/nbextensions/google.colab/files.js\"></script> "
            ],
            "text/plain": [
              "<IPython.core.display.HTML object>"
            ]
          },
          "metadata": {
            "tags": []
          }
        },
        {
          "output_type": "stream",
          "text": [
            "Saving bank.csv to bank.csv\n"
          ],
          "name": "stdout"
        }
      ]
    },
    {
      "cell_type": "code",
      "metadata": {
        "colab": {
          "base_uri": "https://localhost:8080/",
          "height": 399
        },
        "id": "xN676oi5ds5E",
        "outputId": "d456b5e7-dc98-4daa-a037-2147e53870dc"
      },
      "source": [
        "import pandas as pd\n",
        "from sklearn.linear_model import LogisticRegression\n",
        "from sklearn.model_selection import train_test_split\n",
        "\n",
        "bank = pd.read_csv(\"bank.csv\", sep=';')\n",
        "bank"
      ],
      "execution_count": null,
      "outputs": [
        {
          "output_type": "execute_result",
          "data": {
            "text/html": [
              "<div>\n",
              "<style scoped>\n",
              "    .dataframe tbody tr th:only-of-type {\n",
              "        vertical-align: middle;\n",
              "    }\n",
              "\n",
              "    .dataframe tbody tr th {\n",
              "        vertical-align: top;\n",
              "    }\n",
              "\n",
              "    .dataframe thead th {\n",
              "        text-align: right;\n",
              "    }\n",
              "</style>\n",
              "<table border=\"1\" class=\"dataframe\">\n",
              "  <thead>\n",
              "    <tr style=\"text-align: right;\">\n",
              "      <th></th>\n",
              "      <th>age</th>\n",
              "      <th>job</th>\n",
              "      <th>marital</th>\n",
              "      <th>education</th>\n",
              "      <th>default</th>\n",
              "      <th>balance</th>\n",
              "      <th>housing</th>\n",
              "      <th>loan</th>\n",
              "      <th>contact</th>\n",
              "      <th>day</th>\n",
              "      <th>month</th>\n",
              "      <th>duration</th>\n",
              "      <th>campaign</th>\n",
              "      <th>pdays</th>\n",
              "      <th>previous</th>\n",
              "      <th>poutcome</th>\n",
              "      <th>y</th>\n",
              "    </tr>\n",
              "  </thead>\n",
              "  <tbody>\n",
              "    <tr>\n",
              "      <th>0</th>\n",
              "      <td>30</td>\n",
              "      <td>unemployed</td>\n",
              "      <td>married</td>\n",
              "      <td>primary</td>\n",
              "      <td>no</td>\n",
              "      <td>1787</td>\n",
              "      <td>no</td>\n",
              "      <td>no</td>\n",
              "      <td>cellular</td>\n",
              "      <td>19</td>\n",
              "      <td>oct</td>\n",
              "      <td>79</td>\n",
              "      <td>1</td>\n",
              "      <td>-1</td>\n",
              "      <td>0</td>\n",
              "      <td>unknown</td>\n",
              "      <td>no</td>\n",
              "    </tr>\n",
              "    <tr>\n",
              "      <th>1</th>\n",
              "      <td>33</td>\n",
              "      <td>services</td>\n",
              "      <td>married</td>\n",
              "      <td>secondary</td>\n",
              "      <td>no</td>\n",
              "      <td>4789</td>\n",
              "      <td>yes</td>\n",
              "      <td>yes</td>\n",
              "      <td>cellular</td>\n",
              "      <td>11</td>\n",
              "      <td>may</td>\n",
              "      <td>220</td>\n",
              "      <td>1</td>\n",
              "      <td>339</td>\n",
              "      <td>4</td>\n",
              "      <td>failure</td>\n",
              "      <td>no</td>\n",
              "    </tr>\n",
              "    <tr>\n",
              "      <th>2</th>\n",
              "      <td>35</td>\n",
              "      <td>management</td>\n",
              "      <td>single</td>\n",
              "      <td>tertiary</td>\n",
              "      <td>no</td>\n",
              "      <td>1350</td>\n",
              "      <td>yes</td>\n",
              "      <td>no</td>\n",
              "      <td>cellular</td>\n",
              "      <td>16</td>\n",
              "      <td>apr</td>\n",
              "      <td>185</td>\n",
              "      <td>1</td>\n",
              "      <td>330</td>\n",
              "      <td>1</td>\n",
              "      <td>failure</td>\n",
              "      <td>no</td>\n",
              "    </tr>\n",
              "    <tr>\n",
              "      <th>3</th>\n",
              "      <td>30</td>\n",
              "      <td>management</td>\n",
              "      <td>married</td>\n",
              "      <td>tertiary</td>\n",
              "      <td>no</td>\n",
              "      <td>1476</td>\n",
              "      <td>yes</td>\n",
              "      <td>yes</td>\n",
              "      <td>unknown</td>\n",
              "      <td>3</td>\n",
              "      <td>jun</td>\n",
              "      <td>199</td>\n",
              "      <td>4</td>\n",
              "      <td>-1</td>\n",
              "      <td>0</td>\n",
              "      <td>unknown</td>\n",
              "      <td>no</td>\n",
              "    </tr>\n",
              "    <tr>\n",
              "      <th>4</th>\n",
              "      <td>59</td>\n",
              "      <td>blue-collar</td>\n",
              "      <td>married</td>\n",
              "      <td>secondary</td>\n",
              "      <td>no</td>\n",
              "      <td>0</td>\n",
              "      <td>yes</td>\n",
              "      <td>no</td>\n",
              "      <td>unknown</td>\n",
              "      <td>5</td>\n",
              "      <td>may</td>\n",
              "      <td>226</td>\n",
              "      <td>1</td>\n",
              "      <td>-1</td>\n",
              "      <td>0</td>\n",
              "      <td>unknown</td>\n",
              "      <td>no</td>\n",
              "    </tr>\n",
              "    <tr>\n",
              "      <th>...</th>\n",
              "      <td>...</td>\n",
              "      <td>...</td>\n",
              "      <td>...</td>\n",
              "      <td>...</td>\n",
              "      <td>...</td>\n",
              "      <td>...</td>\n",
              "      <td>...</td>\n",
              "      <td>...</td>\n",
              "      <td>...</td>\n",
              "      <td>...</td>\n",
              "      <td>...</td>\n",
              "      <td>...</td>\n",
              "      <td>...</td>\n",
              "      <td>...</td>\n",
              "      <td>...</td>\n",
              "      <td>...</td>\n",
              "      <td>...</td>\n",
              "    </tr>\n",
              "    <tr>\n",
              "      <th>4516</th>\n",
              "      <td>33</td>\n",
              "      <td>services</td>\n",
              "      <td>married</td>\n",
              "      <td>secondary</td>\n",
              "      <td>no</td>\n",
              "      <td>-333</td>\n",
              "      <td>yes</td>\n",
              "      <td>no</td>\n",
              "      <td>cellular</td>\n",
              "      <td>30</td>\n",
              "      <td>jul</td>\n",
              "      <td>329</td>\n",
              "      <td>5</td>\n",
              "      <td>-1</td>\n",
              "      <td>0</td>\n",
              "      <td>unknown</td>\n",
              "      <td>no</td>\n",
              "    </tr>\n",
              "    <tr>\n",
              "      <th>4517</th>\n",
              "      <td>57</td>\n",
              "      <td>self-employed</td>\n",
              "      <td>married</td>\n",
              "      <td>tertiary</td>\n",
              "      <td>yes</td>\n",
              "      <td>-3313</td>\n",
              "      <td>yes</td>\n",
              "      <td>yes</td>\n",
              "      <td>unknown</td>\n",
              "      <td>9</td>\n",
              "      <td>may</td>\n",
              "      <td>153</td>\n",
              "      <td>1</td>\n",
              "      <td>-1</td>\n",
              "      <td>0</td>\n",
              "      <td>unknown</td>\n",
              "      <td>no</td>\n",
              "    </tr>\n",
              "    <tr>\n",
              "      <th>4518</th>\n",
              "      <td>57</td>\n",
              "      <td>technician</td>\n",
              "      <td>married</td>\n",
              "      <td>secondary</td>\n",
              "      <td>no</td>\n",
              "      <td>295</td>\n",
              "      <td>no</td>\n",
              "      <td>no</td>\n",
              "      <td>cellular</td>\n",
              "      <td>19</td>\n",
              "      <td>aug</td>\n",
              "      <td>151</td>\n",
              "      <td>11</td>\n",
              "      <td>-1</td>\n",
              "      <td>0</td>\n",
              "      <td>unknown</td>\n",
              "      <td>no</td>\n",
              "    </tr>\n",
              "    <tr>\n",
              "      <th>4519</th>\n",
              "      <td>28</td>\n",
              "      <td>blue-collar</td>\n",
              "      <td>married</td>\n",
              "      <td>secondary</td>\n",
              "      <td>no</td>\n",
              "      <td>1137</td>\n",
              "      <td>no</td>\n",
              "      <td>no</td>\n",
              "      <td>cellular</td>\n",
              "      <td>6</td>\n",
              "      <td>feb</td>\n",
              "      <td>129</td>\n",
              "      <td>4</td>\n",
              "      <td>211</td>\n",
              "      <td>3</td>\n",
              "      <td>other</td>\n",
              "      <td>no</td>\n",
              "    </tr>\n",
              "    <tr>\n",
              "      <th>4520</th>\n",
              "      <td>44</td>\n",
              "      <td>entrepreneur</td>\n",
              "      <td>single</td>\n",
              "      <td>tertiary</td>\n",
              "      <td>no</td>\n",
              "      <td>1136</td>\n",
              "      <td>yes</td>\n",
              "      <td>yes</td>\n",
              "      <td>cellular</td>\n",
              "      <td>3</td>\n",
              "      <td>apr</td>\n",
              "      <td>345</td>\n",
              "      <td>2</td>\n",
              "      <td>249</td>\n",
              "      <td>7</td>\n",
              "      <td>other</td>\n",
              "      <td>no</td>\n",
              "    </tr>\n",
              "  </tbody>\n",
              "</table>\n",
              "<p>4521 rows × 17 columns</p>\n",
              "</div>"
            ],
            "text/plain": [
              "      age            job  marital  education  ... pdays  previous poutcome   y\n",
              "0      30     unemployed  married    primary  ...    -1         0  unknown  no\n",
              "1      33       services  married  secondary  ...   339         4  failure  no\n",
              "2      35     management   single   tertiary  ...   330         1  failure  no\n",
              "3      30     management  married   tertiary  ...    -1         0  unknown  no\n",
              "4      59    blue-collar  married  secondary  ...    -1         0  unknown  no\n",
              "...   ...            ...      ...        ...  ...   ...       ...      ...  ..\n",
              "4516   33       services  married  secondary  ...    -1         0  unknown  no\n",
              "4517   57  self-employed  married   tertiary  ...    -1         0  unknown  no\n",
              "4518   57     technician  married  secondary  ...    -1         0  unknown  no\n",
              "4519   28    blue-collar  married  secondary  ...   211         3    other  no\n",
              "4520   44   entrepreneur   single   tertiary  ...   249         7    other  no\n",
              "\n",
              "[4521 rows x 17 columns]"
            ]
          },
          "metadata": {
            "tags": []
          },
          "execution_count": 2
        }
      ]
    },
    {
      "cell_type": "code",
      "metadata": {
        "colab": {
          "base_uri": "https://localhost:8080/",
          "height": 402
        },
        "id": "Oo22K9j-kklh",
        "outputId": "d1bb3911-ba9f-4dd7-d0f7-82cd54f1f185"
      },
      "source": [
        "from sklearn import preprocessing\n",
        "le = preprocessing.LabelEncoder()\n",
        "\n",
        "bank['y'] = le.fit_transform(bank['y'])\n",
        "bank"
      ],
      "execution_count": null,
      "outputs": [
        {
          "output_type": "execute_result",
          "data": {
            "text/html": [
              "<div>\n",
              "<style scoped>\n",
              "    .dataframe tbody tr th:only-of-type {\n",
              "        vertical-align: middle;\n",
              "    }\n",
              "\n",
              "    .dataframe tbody tr th {\n",
              "        vertical-align: top;\n",
              "    }\n",
              "\n",
              "    .dataframe thead th {\n",
              "        text-align: right;\n",
              "    }\n",
              "</style>\n",
              "<table border=\"1\" class=\"dataframe\">\n",
              "  <thead>\n",
              "    <tr style=\"text-align: right;\">\n",
              "      <th></th>\n",
              "      <th>age</th>\n",
              "      <th>job</th>\n",
              "      <th>marital</th>\n",
              "      <th>education</th>\n",
              "      <th>default</th>\n",
              "      <th>balance</th>\n",
              "      <th>housing</th>\n",
              "      <th>loan</th>\n",
              "      <th>contact</th>\n",
              "      <th>day</th>\n",
              "      <th>month</th>\n",
              "      <th>duration</th>\n",
              "      <th>campaign</th>\n",
              "      <th>pdays</th>\n",
              "      <th>previous</th>\n",
              "      <th>poutcome</th>\n",
              "      <th>y</th>\n",
              "    </tr>\n",
              "  </thead>\n",
              "  <tbody>\n",
              "    <tr>\n",
              "      <th>0</th>\n",
              "      <td>30</td>\n",
              "      <td>unemployed</td>\n",
              "      <td>married</td>\n",
              "      <td>primary</td>\n",
              "      <td>no</td>\n",
              "      <td>1787</td>\n",
              "      <td>no</td>\n",
              "      <td>no</td>\n",
              "      <td>cellular</td>\n",
              "      <td>19</td>\n",
              "      <td>oct</td>\n",
              "      <td>79</td>\n",
              "      <td>1</td>\n",
              "      <td>-1</td>\n",
              "      <td>0</td>\n",
              "      <td>unknown</td>\n",
              "      <td>0</td>\n",
              "    </tr>\n",
              "    <tr>\n",
              "      <th>1</th>\n",
              "      <td>33</td>\n",
              "      <td>services</td>\n",
              "      <td>married</td>\n",
              "      <td>secondary</td>\n",
              "      <td>no</td>\n",
              "      <td>4789</td>\n",
              "      <td>yes</td>\n",
              "      <td>yes</td>\n",
              "      <td>cellular</td>\n",
              "      <td>11</td>\n",
              "      <td>may</td>\n",
              "      <td>220</td>\n",
              "      <td>1</td>\n",
              "      <td>339</td>\n",
              "      <td>4</td>\n",
              "      <td>failure</td>\n",
              "      <td>0</td>\n",
              "    </tr>\n",
              "    <tr>\n",
              "      <th>2</th>\n",
              "      <td>35</td>\n",
              "      <td>management</td>\n",
              "      <td>single</td>\n",
              "      <td>tertiary</td>\n",
              "      <td>no</td>\n",
              "      <td>1350</td>\n",
              "      <td>yes</td>\n",
              "      <td>no</td>\n",
              "      <td>cellular</td>\n",
              "      <td>16</td>\n",
              "      <td>apr</td>\n",
              "      <td>185</td>\n",
              "      <td>1</td>\n",
              "      <td>330</td>\n",
              "      <td>1</td>\n",
              "      <td>failure</td>\n",
              "      <td>0</td>\n",
              "    </tr>\n",
              "    <tr>\n",
              "      <th>3</th>\n",
              "      <td>30</td>\n",
              "      <td>management</td>\n",
              "      <td>married</td>\n",
              "      <td>tertiary</td>\n",
              "      <td>no</td>\n",
              "      <td>1476</td>\n",
              "      <td>yes</td>\n",
              "      <td>yes</td>\n",
              "      <td>unknown</td>\n",
              "      <td>3</td>\n",
              "      <td>jun</td>\n",
              "      <td>199</td>\n",
              "      <td>4</td>\n",
              "      <td>-1</td>\n",
              "      <td>0</td>\n",
              "      <td>unknown</td>\n",
              "      <td>0</td>\n",
              "    </tr>\n",
              "    <tr>\n",
              "      <th>4</th>\n",
              "      <td>59</td>\n",
              "      <td>blue-collar</td>\n",
              "      <td>married</td>\n",
              "      <td>secondary</td>\n",
              "      <td>no</td>\n",
              "      <td>0</td>\n",
              "      <td>yes</td>\n",
              "      <td>no</td>\n",
              "      <td>unknown</td>\n",
              "      <td>5</td>\n",
              "      <td>may</td>\n",
              "      <td>226</td>\n",
              "      <td>1</td>\n",
              "      <td>-1</td>\n",
              "      <td>0</td>\n",
              "      <td>unknown</td>\n",
              "      <td>0</td>\n",
              "    </tr>\n",
              "    <tr>\n",
              "      <th>...</th>\n",
              "      <td>...</td>\n",
              "      <td>...</td>\n",
              "      <td>...</td>\n",
              "      <td>...</td>\n",
              "      <td>...</td>\n",
              "      <td>...</td>\n",
              "      <td>...</td>\n",
              "      <td>...</td>\n",
              "      <td>...</td>\n",
              "      <td>...</td>\n",
              "      <td>...</td>\n",
              "      <td>...</td>\n",
              "      <td>...</td>\n",
              "      <td>...</td>\n",
              "      <td>...</td>\n",
              "      <td>...</td>\n",
              "      <td>...</td>\n",
              "    </tr>\n",
              "    <tr>\n",
              "      <th>4516</th>\n",
              "      <td>33</td>\n",
              "      <td>services</td>\n",
              "      <td>married</td>\n",
              "      <td>secondary</td>\n",
              "      <td>no</td>\n",
              "      <td>-333</td>\n",
              "      <td>yes</td>\n",
              "      <td>no</td>\n",
              "      <td>cellular</td>\n",
              "      <td>30</td>\n",
              "      <td>jul</td>\n",
              "      <td>329</td>\n",
              "      <td>5</td>\n",
              "      <td>-1</td>\n",
              "      <td>0</td>\n",
              "      <td>unknown</td>\n",
              "      <td>0</td>\n",
              "    </tr>\n",
              "    <tr>\n",
              "      <th>4517</th>\n",
              "      <td>57</td>\n",
              "      <td>self-employed</td>\n",
              "      <td>married</td>\n",
              "      <td>tertiary</td>\n",
              "      <td>yes</td>\n",
              "      <td>-3313</td>\n",
              "      <td>yes</td>\n",
              "      <td>yes</td>\n",
              "      <td>unknown</td>\n",
              "      <td>9</td>\n",
              "      <td>may</td>\n",
              "      <td>153</td>\n",
              "      <td>1</td>\n",
              "      <td>-1</td>\n",
              "      <td>0</td>\n",
              "      <td>unknown</td>\n",
              "      <td>0</td>\n",
              "    </tr>\n",
              "    <tr>\n",
              "      <th>4518</th>\n",
              "      <td>57</td>\n",
              "      <td>technician</td>\n",
              "      <td>married</td>\n",
              "      <td>secondary</td>\n",
              "      <td>no</td>\n",
              "      <td>295</td>\n",
              "      <td>no</td>\n",
              "      <td>no</td>\n",
              "      <td>cellular</td>\n",
              "      <td>19</td>\n",
              "      <td>aug</td>\n",
              "      <td>151</td>\n",
              "      <td>11</td>\n",
              "      <td>-1</td>\n",
              "      <td>0</td>\n",
              "      <td>unknown</td>\n",
              "      <td>0</td>\n",
              "    </tr>\n",
              "    <tr>\n",
              "      <th>4519</th>\n",
              "      <td>28</td>\n",
              "      <td>blue-collar</td>\n",
              "      <td>married</td>\n",
              "      <td>secondary</td>\n",
              "      <td>no</td>\n",
              "      <td>1137</td>\n",
              "      <td>no</td>\n",
              "      <td>no</td>\n",
              "      <td>cellular</td>\n",
              "      <td>6</td>\n",
              "      <td>feb</td>\n",
              "      <td>129</td>\n",
              "      <td>4</td>\n",
              "      <td>211</td>\n",
              "      <td>3</td>\n",
              "      <td>other</td>\n",
              "      <td>0</td>\n",
              "    </tr>\n",
              "    <tr>\n",
              "      <th>4520</th>\n",
              "      <td>44</td>\n",
              "      <td>entrepreneur</td>\n",
              "      <td>single</td>\n",
              "      <td>tertiary</td>\n",
              "      <td>no</td>\n",
              "      <td>1136</td>\n",
              "      <td>yes</td>\n",
              "      <td>yes</td>\n",
              "      <td>cellular</td>\n",
              "      <td>3</td>\n",
              "      <td>apr</td>\n",
              "      <td>345</td>\n",
              "      <td>2</td>\n",
              "      <td>249</td>\n",
              "      <td>7</td>\n",
              "      <td>other</td>\n",
              "      <td>0</td>\n",
              "    </tr>\n",
              "  </tbody>\n",
              "</table>\n",
              "<p>4521 rows × 17 columns</p>\n",
              "</div>"
            ],
            "text/plain": [
              "      age            job  marital  education  ... pdays  previous poutcome  y\n",
              "0      30     unemployed  married    primary  ...    -1         0  unknown  0\n",
              "1      33       services  married  secondary  ...   339         4  failure  0\n",
              "2      35     management   single   tertiary  ...   330         1  failure  0\n",
              "3      30     management  married   tertiary  ...    -1         0  unknown  0\n",
              "4      59    blue-collar  married  secondary  ...    -1         0  unknown  0\n",
              "...   ...            ...      ...        ...  ...   ...       ...      ... ..\n",
              "4516   33       services  married  secondary  ...    -1         0  unknown  0\n",
              "4517   57  self-employed  married   tertiary  ...    -1         0  unknown  0\n",
              "4518   57     technician  married  secondary  ...    -1         0  unknown  0\n",
              "4519   28    blue-collar  married  secondary  ...   211         3    other  0\n",
              "4520   44   entrepreneur   single   tertiary  ...   249         7    other  0\n",
              "\n",
              "[4521 rows x 17 columns]"
            ]
          },
          "metadata": {
            "tags": []
          },
          "execution_count": 3
        }
      ]
    },
    {
      "cell_type": "code",
      "metadata": {
        "colab": {
          "base_uri": "https://localhost:8080/"
        },
        "id": "h9GqAvdOel-g",
        "outputId": "9067ac14-386b-4af5-d4c0-b5dc1d6d26b0"
      },
      "source": [
        "bank = pd.get_dummies(bank, columns=['job', 'marital', 'education', 'default','housing','loan'])\n",
        "\n",
        "x = bank.drop(['contact', 'day', 'month','y','poutcome'], axis = 1) #вектор признаков \n",
        "y = bank['y'] #вектор ответов \n",
        "\n",
        "X_train, X_test, y_train, y_test = train_test_split(x,y, test_size=0.3)\n",
        "\n",
        "model = LogisticRegression()\n",
        "model.fit(X_train, y_train) #обучаем модель \n",
        "\n",
        "otvets_pred = model.predict(X_test)\n",
        "\n",
        "print(model.score(X_test,y_test)) #оцениваем\n",
        "print('         ')\n",
        "\n",
        "# otvets_pred - ответы, которые выдала наша модель для X_test\n",
        "# y_test - правильные ответы для X_test"
      ],
      "execution_count": null,
      "outputs": [
        {
          "output_type": "stream",
          "text": [
            "0.8865143699336773\n",
            "         \n"
          ],
          "name": "stdout"
        },
        {
          "output_type": "stream",
          "text": [
            "/usr/local/lib/python3.6/dist-packages/sklearn/linear_model/_logistic.py:940: ConvergenceWarning: lbfgs failed to converge (status=1):\n",
            "STOP: TOTAL NO. of ITERATIONS REACHED LIMIT.\n",
            "\n",
            "Increase the number of iterations (max_iter) or scale the data as shown in:\n",
            "    https://scikit-learn.org/stable/modules/preprocessing.html\n",
            "Please also refer to the documentation for alternative solver options:\n",
            "    https://scikit-learn.org/stable/modules/linear_model.html#logistic-regression\n",
            "  extra_warning_msg=_LOGISTIC_SOLVER_CONVERGENCE_MSG)\n"
          ],
          "name": "stderr"
        }
      ]
    },
    {
      "cell_type": "markdown",
      "metadata": {
        "id": "ofg8oTjdfFvk"
      },
      "source": [
        "**Матрица ошибок или confusion matrix**\n",
        "\n",
        "Матрица неточностей – это матрица размера N на N, где N — это количество классов. Столбцы этой матрицы резервируются за экспертными решениями, а строки за решениями классификатора.\n",
        "\n",
        "![image.png](data:image/png;base64,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)\n",
        "\n",
        "Здесь y^ — это ответ алгоритма на объекте, а y — истинная метка класса на этом объекте.\n",
        "\n",
        "- TP — истино-положительное решение (класс 1 класифицирован как класс 1)\n",
        "- TN — истино-отрицательное решение (класс 0 классифицирован как класс 0)\n",
        "- FP — ложно-положительное решение (ошибка 1-го рода, ML-модель предсказала положительный результат 1, а на самом деле он отрицательный 0) - по сути это ложное срабатывание\n",
        "- FN — ложно-отрицательное решение (ошибка 2-го рода – ML-модель предсказала отрицательный 0 результат, но на самом деле он положительный 1) - по сути это ложны пропуск"
      ]
    },
    {
      "cell_type": "markdown",
      "metadata": {
        "id": "r_fx5nuYjbD3"
      },
      "source": [
        "**Например:**\n",
        "Есть больница и пациенты, наш классификатор определяет больной или нет.\n",
        "\n",
        "Если наш классификатор определил что больной пациент здоровый - то это ложный пропус\n",
        "\n",
        "Если наш классификатор определил что здоровой пациент больной - это ложное срабатывание"
      ]
    },
    {
      "cell_type": "code",
      "metadata": {
        "colab": {
          "base_uri": "https://localhost:8080/"
        },
        "id": "vPDS_3eNfDcY",
        "outputId": "84767821-0578-4d6f-bc72-efe0b72d255b"
      },
      "source": [
        "from sklearn.metrics import confusion_matrix, accuracy_score, precision_score, recall_score, f1_score\n",
        "\n",
        "confusion_matrix(y_test, otvets_pred)"
      ],
      "execution_count": null,
      "outputs": [
        {
          "output_type": "execute_result",
          "data": {
            "text/plain": [
              "array([[1168,   26],\n",
              "       [ 128,   35]])"
            ]
          },
          "metadata": {
            "tags": []
          },
          "execution_count": 6
        }
      ]
    },
    {
      "cell_type": "code",
      "metadata": {
        "colab": {
          "base_uri": "https://localhost:8080/"
        },
        "id": "oCjI7z6rUcbu",
        "outputId": "bf019fe4-78fe-4f41-a469-48a819898648"
      },
      "source": [
        "df_y = pd.DataFrame(y_test)\n",
        "df_y.value_counts()"
      ],
      "execution_count": null,
      "outputs": [
        {
          "output_type": "execute_result",
          "data": {
            "text/plain": [
              "y\n",
              "0    1194\n",
              "1     163\n",
              "dtype: int64"
            ]
          },
          "metadata": {
            "tags": []
          },
          "execution_count": 8
        }
      ]
    },
    {
      "cell_type": "markdown",
      "metadata": {
        "id": "loRFjAI9UTHU"
      },
      "source": [
        "1168+128 - это кол-во записей класса 0\n",
        "\n",
        "26+35 - это кол-во записей класса 1"
      ]
    },
    {
      "cell_type": "code",
      "metadata": {
        "colab": {
          "base_uri": "https://localhost:8080/"
        },
        "id": "ta1uFHVaUN1c",
        "outputId": "488cf1dc-b600-49dc-e205-ddbbb9e3762a"
      },
      "source": [
        "X_test.shape"
      ],
      "execution_count": null,
      "outputs": [
        {
          "output_type": "execute_result",
          "data": {
            "text/plain": [
              "(1357, 31)"
            ]
          },
          "metadata": {
            "tags": []
          },
          "execution_count": 7
        }
      ]
    },
    {
      "cell_type": "code",
      "metadata": {
        "colab": {
          "base_uri": "https://localhost:8080/"
        },
        "id": "yPCFmS3lh2Nh",
        "outputId": "3d5bc63b-1654-4d38-a907-4bcf07bc0f97"
      },
      "source": [
        "tn, fp, fn, tp = confusion_matrix(y_test, otvets_pred).ravel()\n",
        "print(\"TN:\", tn)\n",
        "print(\"FP:\", fp)\n",
        "print(\"FN:\", fn)\n",
        "print(\"TP:\", tp)"
      ],
      "execution_count": null,
      "outputs": [
        {
          "output_type": "stream",
          "text": [
            "TN: 1168\n",
            "FP: 26\n",
            "FN: 128\n",
            "TP: 35\n"
          ],
          "name": "stdout"
        }
      ]
    },
    {
      "cell_type": "markdown",
      "metadata": {
        "id": "x4EPlGNiiJEr"
      },
      "source": [
        "**Accuracy**\n",
        "\n",
        "измеряет количество верно классифицированных объектов относительно общего количества всех объектов. Это доля правильных ответов.\n",
        "\n",
        "Используя confusion matrix можно рассчитать accuracy следующим образом:\n",
        "\n",
        "\n",
        "![image.png](data:image/png;base64,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)"
      ]
    },
    {
      "cell_type": "markdown",
      "metadata": {
        "id": "aGNjoe5pivwL"
      },
      "source": [
        "Расчитайте самостоятельно, вручную accuracy, используя confusion matrix."
      ]
    },
    {
      "cell_type": "code",
      "metadata": {
        "colab": {
          "base_uri": "https://localhost:8080/"
        },
        "id": "WfGi_J27iGxK",
        "outputId": "59a50a5a-b9bd-47e7-8f9c-1262190df657"
      },
      "source": [
        "accuracy_score(y_test, otvets_pred)"
      ],
      "execution_count": null,
      "outputs": [
        {
          "output_type": "execute_result",
          "data": {
            "text/plain": [
              "0.8865143699336773"
            ]
          },
          "metadata": {
            "tags": []
          },
          "execution_count": 10
        }
      ]
    },
    {
      "cell_type": "markdown",
      "metadata": {
        "id": "l1QwaVsHi9WO"
      },
      "source": [
        "**Recall** (полнота)\n",
        " \n",
        "Сколько объектов наша модель смогла правильно классифицировать с позитивной меткой из всего множества позитивных (т.е. как много объектов класса 1 находит наш классификатор).\n",
        "\n",
        "![image.png](data:image/png;base64,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)"
      ]
    },
    {
      "cell_type": "markdown",
      "metadata": {
        "id": "P3zG3rUyj5PJ"
      },
      "source": [
        "Расчитайте самостоятельно, вручную recall, используя confusion matrix."
      ]
    },
    {
      "cell_type": "code",
      "metadata": {
        "colab": {
          "base_uri": "https://localhost:8080/"
        },
        "id": "Tv_VBgB2j8iu",
        "outputId": "6003a733-27da-45f7-8829-4d586194c791"
      },
      "source": [
        "recall_score(y_test, otvets_pred)"
      ],
      "execution_count": null,
      "outputs": [
        {
          "output_type": "execute_result",
          "data": {
            "text/plain": [
              "0.2147239263803681"
            ]
          },
          "metadata": {
            "tags": []
          },
          "execution_count": 11
        }
      ]
    },
    {
      "cell_type": "markdown",
      "metadata": {
        "id": "-oCshHRjkD4l"
      },
      "source": [
        "**Precision** (точность)\n",
        "\n",
        "Можно интерпретировать как долю объектов, названных классификатором положительными и при этом действительно являющимися положительными. Насколько мы можем доверять нашему классификатору.\n",
        "\n",
        "![image.png](data:image/png;base64,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)"
      ]
    },
    {
      "cell_type": "markdown",
      "metadata": {
        "id": "GfLRrM-5kbGQ"
      },
      "source": [
        "Расчитайте самостоятельно, вручную Precision, используя confusion matrix."
      ]
    },
    {
      "cell_type": "code",
      "metadata": {
        "colab": {
          "base_uri": "https://localhost:8080/"
        },
        "id": "gmus7lZIoTXG",
        "outputId": "dc35cf3d-0c8b-4073-967d-f5ef521d4946"
      },
      "source": [
        "precision_score(y_test, otvets_pred)"
      ],
      "execution_count": null,
      "outputs": [
        {
          "output_type": "execute_result",
          "data": {
            "text/plain": [
              "0.5737704918032787"
            ]
          },
          "metadata": {
            "tags": []
          },
          "execution_count": 12
        }
      ]
    },
    {
      "cell_type": "markdown",
      "metadata": {
        "id": "3zAb7ZwzmL83"
      },
      "source": [
        "**Точность и полнота:**\n",
        "- чем выше точность, тем меньше ложных срабатываний\n",
        "- чем выше полнота, тем меньше ложных пропусков"
      ]
    },
    {
      "cell_type": "markdown",
      "metadata": {
        "id": "bixo_KSkORC3"
      },
      "source": [
        "**Метрики выбираются в зависимости от задачи**\n",
        "\n",
        "1. Определение мошеннеческих операций на банковских счетах - важнее полнота (лучше лишний раз проверим)\n",
        "2. Раздаеляем самолеты на свои и вражеские - важнее точность"
      ]
    },
    {
      "cell_type": "code",
      "metadata": {
        "id": "2-BLsDlfOQaM"
      },
      "source": [],
      "execution_count": null,
      "outputs": []
    },
    {
      "cell_type": "markdown",
      "metadata": {
        "id": "Dc64KqK0o2jS"
      },
      "source": [
        "**F1 score** (F мера)\n",
        "\n",
        "Сочетание precision и recall, дает некоторый компромисс между ними двумя, оценка F1 достигает своего наилучшего значения в 1 и худшее в 0.\n",
        "\n",
        "![image.png](data:image/png;base64,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)"
      ]
    },
    {
      "cell_type": "markdown",
      "metadata": {
        "id": "jQNlylUlpBAj"
      },
      "source": [
        "Рассчитайте самостоятельно F1"
      ]
    },
    {
      "cell_type": "code",
      "metadata": {
        "colab": {
          "base_uri": "https://localhost:8080/"
        },
        "id": "V4IAxxWMpKa_",
        "outputId": "158dabb4-e59c-4dd7-8b41-ff4a1869cb70"
      },
      "source": [
        "f1_score(y_test, otvets_pred)"
      ],
      "execution_count": null,
      "outputs": [
        {
          "output_type": "execute_result",
          "data": {
            "text/plain": [
              "0.3125"
            ]
          },
          "metadata": {
            "tags": []
          },
          "execution_count": 13
        }
      ]
    },
    {
      "cell_type": "markdown",
      "metadata": {
        "id": "fmrPMwq9paUp"
      },
      "source": [
        "Что еще почитать/посмотреть.\n",
        "\n",
        "http://bazhenov.me/blog/2012/07/21/classification-performance-evaluation.html\n",
        "\n",
        "http://blog.datalytica.ru/2018/05/blog-post.html\n",
        "\n",
        "https://www.coursera.org/learn/vvedenie-mashinnoe-obuchenie/lecture/IVuAc/mietriki-kachiestva-klassifikatsii-1\n",
        "\n",
        "https://habr.com/ru/company/ods/blog/328372/"
      ]
    }
  ]
}