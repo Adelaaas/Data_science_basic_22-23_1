{
  "nbformat": 4,
  "nbformat_minor": 0,
  "metadata": {
    "colab": {
      "provenance": []
    },
    "kernelspec": {
      "name": "python3",
      "display_name": "Python 3"
    },
    "language_info": {
      "name": "python"
    }
  },
  "cells": [
    {
      "cell_type": "code",
      "execution_count": null,
      "metadata": {
        "id": "8rXyVaUG9bgw"
      },
      "outputs": [],
      "source": [
        "from sklearn.datasets import load_boston\n",
        "import numpy as np\n",
        "import pandas as pd\n",
        "from sklearn.linear_model import LinearRegression\n",
        "from sklearn.metrics import mean_absolute_error, mean_squared_error, r2_score\n",
        "from sklearn.model_selection import train_test_split\n",
        "\n",
        "boston = load_boston()\n",
        "columns = ['target'] + list(boston.feature_names)\n",
        "df = pd.DataFrame(data=np.c_[boston.target, boston.data], columns=columns)\n",
        "df"
      ]
    },
    {
      "cell_type": "code",
      "source": [
        "y = df['target']\n",
        "x = df.drop(columns='target')\n",
        "X_train, X_test, y_train, y_test = train_test_split(x, y, test_size=0.3)"
      ],
      "metadata": {
        "id": "FzMjGphW968B"
      },
      "execution_count": 70,
      "outputs": []
    },
    {
      "cell_type": "markdown",
      "source": [
        "Построить модель линейной регрессии"
      ],
      "metadata": {
        "id": "gsXLHIafEmrP"
      }
    },
    {
      "cell_type": "code",
      "source": [
        "model = LinearRegression()\n",
        "model.fit(X_train, y_train)"
      ],
      "metadata": {
        "id": "7tVCaZRMEmBY"
      },
      "execution_count": null,
      "outputs": []
    },
    {
      "cell_type": "markdown",
      "source": [
        "Получить коэффиценты уравнения линейной регрессии"
      ],
      "metadata": {
        "id": "SL71EbiXEt_m"
      }
    },
    {
      "cell_type": "code",
      "source": [
        "w0 = model.intercept_\n",
        "w1 = model.coef_"
      ],
      "metadata": {
        "id": "ty9vOLjQEuO-"
      },
      "execution_count": 72,
      "outputs": []
    },
    {
      "cell_type": "markdown",
      "source": [
        "Написать уравнение линейной регрессии"
      ],
      "metadata": {
        "id": "U2l3UVAPE074"
      }
    },
    {
      "cell_type": "code",
      "source": [
        "for i in range(13):\n",
        "  if w1[i]>0:\n",
        "    print('y = 24.3 +',w1[i],'* x')\n",
        "  else:\n",
        "    print('y = 24.3',w1[i],'* x')"
      ],
      "metadata": {
        "id": "Oq6yhO0y_WX8"
      },
      "execution_count": null,
      "outputs": []
    },
    {
      "cell_type": "markdown",
      "source": [
        "Визуализировать данные и полученное уравнение линейной регрессии"
      ],
      "metadata": {
        "id": "f3pN1LbNE6C7"
      }
    },
    {
      "cell_type": "code",
      "source": [
        "import matplotlib.pyplot as plt\n",
        "for col in X_test.columns:\n",
        "  plt.scatter(X_test[col], y_test)\n",
        "  plt.scatter(X_test[col], y_pred, color='red', s=10)\n",
        "  plt.show()"
      ],
      "metadata": {
        "id": "9WG2kvUxE7kw"
      },
      "execution_count": null,
      "outputs": []
    },
    {
      "cell_type": "markdown",
      "source": [
        "Посчитать MSE, MAE, R2 с использованием встроенных методов библиотеки sklearn и сделать вывод по полученным метрикам."
      ],
      "metadata": {
        "id": "W1VKVTOQE_kg"
      }
    },
    {
      "cell_type": "code",
      "source": [
        "y_pred = model.predict(X_test)\n",
        "print('Mean Absolute Error:', mean_absolute_error(y_test, y_pred))\n",
        "print('Mean Squared Error:', mean_squared_error(y_test, y_pred))\n",
        "print('R2 score:', r2_score(y_test, y_pred))"
      ],
      "metadata": {
        "colab": {
          "base_uri": "https://localhost:8080/"
        },
        "id": "6mbrhWSDAk1f",
        "outputId": "97e03b18-9d26-4ab2-9784-39b89e3c75ee"
      },
      "execution_count": 84,
      "outputs": [
        {
          "output_type": "stream",
          "name": "stdout",
          "text": [
            "Mean Absolute Error: 3.35051211296334\n",
            "Mean Squared Error: 22.081709807370967\n",
            "R2 score: 0.7097522393875018\n"
          ]
        },
        {
          "output_type": "stream",
          "name": "stderr",
          "text": [
            "/usr/local/lib/python3.8/dist-packages/sklearn/utils/validation.py:1688: FutureWarning: Feature names only support names that are all strings. Got feature names with dtypes: ['str_']. An error will be raised in 1.2.\n",
            "  warnings.warn(\n"
          ]
        }
      ]
    },
    {
      "cell_type": "markdown",
      "source": [
        "Посчитать в ручную MSE (расчеты привести в ноутбуке)"
      ],
      "metadata": {
        "id": "NOAocqssFCNL"
      }
    },
    {
      "cell_type": "code",
      "source": [
        "a = y_test\n",
        "b = y_pred\n",
        "c = (a-b)**2\n",
        "d = c.sum()\n",
        "print(d/c.size)"
      ],
      "metadata": {
        "colab": {
          "base_uri": "https://localhost:8080/"
        },
        "id": "lUrbbZooGyHG",
        "outputId": "22c0ad7a-9fe7-49ec-8ac3-532f7cc8f3d4"
      },
      "execution_count": 85,
      "outputs": [
        {
          "output_type": "stream",
          "name": "stdout",
          "text": [
            "22.081709807370967\n"
          ]
        }
      ]
    }
  ]
}