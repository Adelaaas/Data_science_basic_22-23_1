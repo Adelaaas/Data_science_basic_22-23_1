{
  "nbformat": 4,
  "nbformat_minor": 0,
  "metadata": {
    "colab": {
      "provenance": []
    },
    "kernelspec": {
      "name": "python3",
      "display_name": "Python 3"
    },
    "language_info": {
      "name": "python"
    }
  },
  "cells": [
    {
      "cell_type": "code",
      "source": [
        "import matplotlib.pyplot as plt\n",
        "import seaborn as sns\n",
        "import numpy as np\n",
        "from sklearn.linear_model import LinearRegression\n",
        "from sklearn.metrics import mean_absolute_error, mean_squared_error, r2_score"
      ],
      "metadata": {
        "id": "ko0kjl6KZZ56"
      },
      "execution_count": 175,
      "outputs": []
    },
    {
      "cell_type": "code",
      "execution_count": 176,
      "metadata": {
        "colab": {
          "base_uri": "https://localhost:8080/",
          "height": 560
        },
        "id": "Za5vGATPKWRP",
        "outputId": "d5242c7b-9fa0-4cf3-ddaf-d87e11b00121"
      },
      "outputs": [
        {
          "output_type": "execute_result",
          "data": {
            "text/plain": [
              "    _unit_id  _golden _unit_state  _trusted_judgments _last_judgment_at  \\\n",
              "0  815719226    False   finalized                   3    10/26/15 23:24   \n",
              "1  815719227    False   finalized                   3    10/26/15 23:30   \n",
              "2  815719228    False   finalized                   3    10/26/15 23:33   \n",
              "3  815719229    False   finalized                   3    10/26/15 23:10   \n",
              "4  815719230    False   finalized                   3     10/27/15 1:15   \n",
              "\n",
              "   gender  gender:confidence profile_yn  profile_yn:confidence  \\\n",
              "0    male             1.0000        yes                    1.0   \n",
              "1    male             1.0000        yes                    1.0   \n",
              "2    male             0.6625        yes                    1.0   \n",
              "3    male             1.0000        yes                    1.0   \n",
              "4  female             1.0000        yes                    1.0   \n",
              "\n",
              "          created  ...                                       profileimage  \\\n",
              "0    12/5/13 1:48  ...  https://pbs.twimg.com/profile_images/414342229...   \n",
              "1   10/1/12 13:51  ...  https://pbs.twimg.com/profile_images/539604221...   \n",
              "2  11/28/14 11:30  ...  https://pbs.twimg.com/profile_images/657330418...   \n",
              "3   6/11/09 22:39  ...  https://pbs.twimg.com/profile_images/259703936...   \n",
              "4   4/16/14 13:23  ...  https://pbs.twimg.com/profile_images/564094871...   \n",
              "\n",
              "   retweet_count sidebar_color  \\\n",
              "0              0        FFFFFF   \n",
              "1              0        C0DEED   \n",
              "2              1        C0DEED   \n",
              "3              0        C0DEED   \n",
              "4              0             0   \n",
              "\n",
              "                                                text tweet_coord tweet_count  \\\n",
              "0  Robbie E Responds To Critics After Win Against...         NaN      110964   \n",
              "1  ‰ЫПIt felt like they were my friends and I was...         NaN        7471   \n",
              "2  i absolutely adore when louis starts the songs...         NaN        5617   \n",
              "3  Hi @JordanSpieth - Looking at the url - do you...         NaN        1693   \n",
              "4  Watching Neighbours on Sky+ catching up with t...         NaN       31462   \n",
              "\n",
              "    tweet_created      tweet_id   tweet_location               user_timezone  \n",
              "0  10/26/15 12:40  6.587300e+17  main; @Kan1shk3                     Chennai  \n",
              "1  10/26/15 12:40  6.587300e+17              NaN  Eastern Time (US & Canada)  \n",
              "2  10/26/15 12:40  6.587300e+17           clcncl                    Belgrade  \n",
              "3  10/26/15 12:40  6.587300e+17    Palo Alto, CA  Pacific Time (US & Canada)  \n",
              "4  10/26/15 12:40  6.587300e+17              NaN                         NaN  \n",
              "\n",
              "[5 rows x 26 columns]"
            ],
            "text/html": [
              "\n",
              "  <div id=\"df-e0190273-5c1f-4eb5-9a1d-98a26124dfc6\">\n",
              "    <div class=\"colab-df-container\">\n",
              "      <div>\n",
              "<style scoped>\n",
              "    .dataframe tbody tr th:only-of-type {\n",
              "        vertical-align: middle;\n",
              "    }\n",
              "\n",
              "    .dataframe tbody tr th {\n",
              "        vertical-align: top;\n",
              "    }\n",
              "\n",
              "    .dataframe thead th {\n",
              "        text-align: right;\n",
              "    }\n",
              "</style>\n",
              "<table border=\"1\" class=\"dataframe\">\n",
              "  <thead>\n",
              "    <tr style=\"text-align: right;\">\n",
              "      <th></th>\n",
              "      <th>_unit_id</th>\n",
              "      <th>_golden</th>\n",
              "      <th>_unit_state</th>\n",
              "      <th>_trusted_judgments</th>\n",
              "      <th>_last_judgment_at</th>\n",
              "      <th>gender</th>\n",
              "      <th>gender:confidence</th>\n",
              "      <th>profile_yn</th>\n",
              "      <th>profile_yn:confidence</th>\n",
              "      <th>created</th>\n",
              "      <th>...</th>\n",
              "      <th>profileimage</th>\n",
              "      <th>retweet_count</th>\n",
              "      <th>sidebar_color</th>\n",
              "      <th>text</th>\n",
              "      <th>tweet_coord</th>\n",
              "      <th>tweet_count</th>\n",
              "      <th>tweet_created</th>\n",
              "      <th>tweet_id</th>\n",
              "      <th>tweet_location</th>\n",
              "      <th>user_timezone</th>\n",
              "    </tr>\n",
              "  </thead>\n",
              "  <tbody>\n",
              "    <tr>\n",
              "      <th>0</th>\n",
              "      <td>815719226</td>\n",
              "      <td>False</td>\n",
              "      <td>finalized</td>\n",
              "      <td>3</td>\n",
              "      <td>10/26/15 23:24</td>\n",
              "      <td>male</td>\n",
              "      <td>1.0000</td>\n",
              "      <td>yes</td>\n",
              "      <td>1.0</td>\n",
              "      <td>12/5/13 1:48</td>\n",
              "      <td>...</td>\n",
              "      <td>https://pbs.twimg.com/profile_images/414342229...</td>\n",
              "      <td>0</td>\n",
              "      <td>FFFFFF</td>\n",
              "      <td>Robbie E Responds To Critics After Win Against...</td>\n",
              "      <td>NaN</td>\n",
              "      <td>110964</td>\n",
              "      <td>10/26/15 12:40</td>\n",
              "      <td>6.587300e+17</td>\n",
              "      <td>main; @Kan1shk3</td>\n",
              "      <td>Chennai</td>\n",
              "    </tr>\n",
              "    <tr>\n",
              "      <th>1</th>\n",
              "      <td>815719227</td>\n",
              "      <td>False</td>\n",
              "      <td>finalized</td>\n",
              "      <td>3</td>\n",
              "      <td>10/26/15 23:30</td>\n",
              "      <td>male</td>\n",
              "      <td>1.0000</td>\n",
              "      <td>yes</td>\n",
              "      <td>1.0</td>\n",
              "      <td>10/1/12 13:51</td>\n",
              "      <td>...</td>\n",
              "      <td>https://pbs.twimg.com/profile_images/539604221...</td>\n",
              "      <td>0</td>\n",
              "      <td>C0DEED</td>\n",
              "      <td>‰ЫПIt felt like they were my friends and I was...</td>\n",
              "      <td>NaN</td>\n",
              "      <td>7471</td>\n",
              "      <td>10/26/15 12:40</td>\n",
              "      <td>6.587300e+17</td>\n",
              "      <td>NaN</td>\n",
              "      <td>Eastern Time (US &amp; Canada)</td>\n",
              "    </tr>\n",
              "    <tr>\n",
              "      <th>2</th>\n",
              "      <td>815719228</td>\n",
              "      <td>False</td>\n",
              "      <td>finalized</td>\n",
              "      <td>3</td>\n",
              "      <td>10/26/15 23:33</td>\n",
              "      <td>male</td>\n",
              "      <td>0.6625</td>\n",
              "      <td>yes</td>\n",
              "      <td>1.0</td>\n",
              "      <td>11/28/14 11:30</td>\n",
              "      <td>...</td>\n",
              "      <td>https://pbs.twimg.com/profile_images/657330418...</td>\n",
              "      <td>1</td>\n",
              "      <td>C0DEED</td>\n",
              "      <td>i absolutely adore when louis starts the songs...</td>\n",
              "      <td>NaN</td>\n",
              "      <td>5617</td>\n",
              "      <td>10/26/15 12:40</td>\n",
              "      <td>6.587300e+17</td>\n",
              "      <td>clcncl</td>\n",
              "      <td>Belgrade</td>\n",
              "    </tr>\n",
              "    <tr>\n",
              "      <th>3</th>\n",
              "      <td>815719229</td>\n",
              "      <td>False</td>\n",
              "      <td>finalized</td>\n",
              "      <td>3</td>\n",
              "      <td>10/26/15 23:10</td>\n",
              "      <td>male</td>\n",
              "      <td>1.0000</td>\n",
              "      <td>yes</td>\n",
              "      <td>1.0</td>\n",
              "      <td>6/11/09 22:39</td>\n",
              "      <td>...</td>\n",
              "      <td>https://pbs.twimg.com/profile_images/259703936...</td>\n",
              "      <td>0</td>\n",
              "      <td>C0DEED</td>\n",
              "      <td>Hi @JordanSpieth - Looking at the url - do you...</td>\n",
              "      <td>NaN</td>\n",
              "      <td>1693</td>\n",
              "      <td>10/26/15 12:40</td>\n",
              "      <td>6.587300e+17</td>\n",
              "      <td>Palo Alto, CA</td>\n",
              "      <td>Pacific Time (US &amp; Canada)</td>\n",
              "    </tr>\n",
              "    <tr>\n",
              "      <th>4</th>\n",
              "      <td>815719230</td>\n",
              "      <td>False</td>\n",
              "      <td>finalized</td>\n",
              "      <td>3</td>\n",
              "      <td>10/27/15 1:15</td>\n",
              "      <td>female</td>\n",
              "      <td>1.0000</td>\n",
              "      <td>yes</td>\n",
              "      <td>1.0</td>\n",
              "      <td>4/16/14 13:23</td>\n",
              "      <td>...</td>\n",
              "      <td>https://pbs.twimg.com/profile_images/564094871...</td>\n",
              "      <td>0</td>\n",
              "      <td>0</td>\n",
              "      <td>Watching Neighbours on Sky+ catching up with t...</td>\n",
              "      <td>NaN</td>\n",
              "      <td>31462</td>\n",
              "      <td>10/26/15 12:40</td>\n",
              "      <td>6.587300e+17</td>\n",
              "      <td>NaN</td>\n",
              "      <td>NaN</td>\n",
              "    </tr>\n",
              "  </tbody>\n",
              "</table>\n",
              "<p>5 rows × 26 columns</p>\n",
              "</div>\n",
              "      <button class=\"colab-df-convert\" onclick=\"convertToInteractive('df-e0190273-5c1f-4eb5-9a1d-98a26124dfc6')\"\n",
              "              title=\"Convert this dataframe to an interactive table.\"\n",
              "              style=\"display:none;\">\n",
              "        \n",
              "  <svg xmlns=\"http://www.w3.org/2000/svg\" height=\"24px\"viewBox=\"0 0 24 24\"\n",
              "       width=\"24px\">\n",
              "    <path d=\"M0 0h24v24H0V0z\" fill=\"none\"/>\n",
              "    <path d=\"M18.56 5.44l.94 2.06.94-2.06 2.06-.94-2.06-.94-.94-2.06-.94 2.06-2.06.94zm-11 1L8.5 8.5l.94-2.06 2.06-.94-2.06-.94L8.5 2.5l-.94 2.06-2.06.94zm10 10l.94 2.06.94-2.06 2.06-.94-2.06-.94-.94-2.06-.94 2.06-2.06.94z\"/><path d=\"M17.41 7.96l-1.37-1.37c-.4-.4-.92-.59-1.43-.59-.52 0-1.04.2-1.43.59L10.3 9.45l-7.72 7.72c-.78.78-.78 2.05 0 2.83L4 21.41c.39.39.9.59 1.41.59.51 0 1.02-.2 1.41-.59l7.78-7.78 2.81-2.81c.8-.78.8-2.07 0-2.86zM5.41 20L4 18.59l7.72-7.72 1.47 1.35L5.41 20z\"/>\n",
              "  </svg>\n",
              "      </button>\n",
              "      \n",
              "  <style>\n",
              "    .colab-df-container {\n",
              "      display:flex;\n",
              "      flex-wrap:wrap;\n",
              "      gap: 12px;\n",
              "    }\n",
              "\n",
              "    .colab-df-convert {\n",
              "      background-color: #E8F0FE;\n",
              "      border: none;\n",
              "      border-radius: 50%;\n",
              "      cursor: pointer;\n",
              "      display: none;\n",
              "      fill: #1967D2;\n",
              "      height: 32px;\n",
              "      padding: 0 0 0 0;\n",
              "      width: 32px;\n",
              "    }\n",
              "\n",
              "    .colab-df-convert:hover {\n",
              "      background-color: #E2EBFA;\n",
              "      box-shadow: 0px 1px 2px rgba(60, 64, 67, 0.3), 0px 1px 3px 1px rgba(60, 64, 67, 0.15);\n",
              "      fill: #174EA6;\n",
              "    }\n",
              "\n",
              "    [theme=dark] .colab-df-convert {\n",
              "      background-color: #3B4455;\n",
              "      fill: #D2E3FC;\n",
              "    }\n",
              "\n",
              "    [theme=dark] .colab-df-convert:hover {\n",
              "      background-color: #434B5C;\n",
              "      box-shadow: 0px 1px 3px 1px rgba(0, 0, 0, 0.15);\n",
              "      filter: drop-shadow(0px 1px 2px rgba(0, 0, 0, 0.3));\n",
              "      fill: #FFFFFF;\n",
              "    }\n",
              "  </style>\n",
              "\n",
              "      <script>\n",
              "        const buttonEl =\n",
              "          document.querySelector('#df-e0190273-5c1f-4eb5-9a1d-98a26124dfc6 button.colab-df-convert');\n",
              "        buttonEl.style.display =\n",
              "          google.colab.kernel.accessAllowed ? 'block' : 'none';\n",
              "\n",
              "        async function convertToInteractive(key) {\n",
              "          const element = document.querySelector('#df-e0190273-5c1f-4eb5-9a1d-98a26124dfc6');\n",
              "          const dataTable =\n",
              "            await google.colab.kernel.invokeFunction('convertToInteractive',\n",
              "                                                     [key], {});\n",
              "          if (!dataTable) return;\n",
              "\n",
              "          const docLinkHtml = 'Like what you see? Visit the ' +\n",
              "            '<a target=\"_blank\" href=https://colab.research.google.com/notebooks/data_table.ipynb>data table notebook</a>'\n",
              "            + ' to learn more about interactive tables.';\n",
              "          element.innerHTML = '';\n",
              "          dataTable['output_type'] = 'display_data';\n",
              "          await google.colab.output.renderOutput(dataTable, element);\n",
              "          const docLink = document.createElement('div');\n",
              "          docLink.innerHTML = docLinkHtml;\n",
              "          element.appendChild(docLink);\n",
              "        }\n",
              "      </script>\n",
              "    </div>\n",
              "  </div>\n",
              "  "
            ]
          },
          "metadata": {},
          "execution_count": 176
        }
      ],
      "source": [
        "import pandas as pd\n",
        "\n",
        "df = pd.read_csv(\"gender-classifier-DFE-791531.csv\", encoding='cp1251')\n",
        "\n",
        "df.head()"
      ]
    },
    {
      "cell_type": "code",
      "source": [
        "df.info()"
      ],
      "metadata": {
        "colab": {
          "base_uri": "https://localhost:8080/"
        },
        "id": "_hjxliQMcGqm",
        "outputId": "e0bcf31e-96ba-42d1-d2cf-7bc798c0d868"
      },
      "execution_count": 177,
      "outputs": [
        {
          "output_type": "stream",
          "name": "stdout",
          "text": [
            "<class 'pandas.core.frame.DataFrame'>\n",
            "RangeIndex: 20050 entries, 0 to 20049\n",
            "Data columns (total 26 columns):\n",
            " #   Column                 Non-Null Count  Dtype  \n",
            "---  ------                 --------------  -----  \n",
            " 0   _unit_id               20050 non-null  int64  \n",
            " 1   _golden                20050 non-null  bool   \n",
            " 2   _unit_state            20050 non-null  object \n",
            " 3   _trusted_judgments     20050 non-null  int64  \n",
            " 4   _last_judgment_at      20000 non-null  object \n",
            " 5   gender                 19953 non-null  object \n",
            " 6   gender:confidence      20024 non-null  float64\n",
            " 7   profile_yn             20050 non-null  object \n",
            " 8   profile_yn:confidence  20050 non-null  float64\n",
            " 9   created                20050 non-null  object \n",
            " 10  description            16306 non-null  object \n",
            " 11  fav_number             20050 non-null  int64  \n",
            " 12  gender_gold            50 non-null     object \n",
            " 13  link_color             20050 non-null  object \n",
            " 14  name                   20050 non-null  object \n",
            " 15  profile_yn_gold        50 non-null     object \n",
            " 16  profileimage           20050 non-null  object \n",
            " 17  retweet_count          20050 non-null  int64  \n",
            " 18  sidebar_color          20050 non-null  object \n",
            " 19  text                   20050 non-null  object \n",
            " 20  tweet_coord            159 non-null    object \n",
            " 21  tweet_count            20050 non-null  int64  \n",
            " 22  tweet_created          20050 non-null  object \n",
            " 23  tweet_id               20050 non-null  float64\n",
            " 24  tweet_location         12566 non-null  object \n",
            " 25  user_timezone          12252 non-null  object \n",
            "dtypes: bool(1), float64(3), int64(5), object(17)\n",
            "memory usage: 3.8+ MB\n"
          ]
        }
      ]
    },
    {
      "cell_type": "code",
      "source": [
        "df.isna().sum()"
      ],
      "metadata": {
        "colab": {
          "base_uri": "https://localhost:8080/"
        },
        "id": "Lmc_QaQfcUKS",
        "outputId": "5d0f3b3c-d00d-4013-95ce-440ce76393da"
      },
      "execution_count": 178,
      "outputs": [
        {
          "output_type": "execute_result",
          "data": {
            "text/plain": [
              "_unit_id                     0\n",
              "_golden                      0\n",
              "_unit_state                  0\n",
              "_trusted_judgments           0\n",
              "_last_judgment_at           50\n",
              "gender                      97\n",
              "gender:confidence           26\n",
              "profile_yn                   0\n",
              "profile_yn:confidence        0\n",
              "created                      0\n",
              "description               3744\n",
              "fav_number                   0\n",
              "gender_gold              20000\n",
              "link_color                   0\n",
              "name                         0\n",
              "profile_yn_gold          20000\n",
              "profileimage                 0\n",
              "retweet_count                0\n",
              "sidebar_color                0\n",
              "text                         0\n",
              "tweet_coord              19891\n",
              "tweet_count                  0\n",
              "tweet_created                0\n",
              "tweet_id                     0\n",
              "tweet_location            7484\n",
              "user_timezone             7798\n",
              "dtype: int64"
            ]
          },
          "metadata": {},
          "execution_count": 178
        }
      ]
    },
    {
      "cell_type": "markdown",
      "source": [
        "Столбец profile_yn_gold получается из столбцов _golden и profile_yn, поэтому сам по себе не имеет практической ценности (аналогично с gender_gold)\n",
        "\n",
        "Столбец tweet_coord в силу крайне малой заполненности бесполезен"
      ],
      "metadata": {
        "id": "Oj-5MvPGdSHe"
      }
    },
    {
      "cell_type": "code",
      "source": [
        "df = df.drop(columns = ['profile_yn_gold', 'gender_gold', 'tweet_coord'])"
      ],
      "metadata": {
        "id": "LOWm_7lId9Qj"
      },
      "execution_count": 179,
      "outputs": []
    },
    {
      "cell_type": "markdown",
      "source": [
        "Столбец describtion можно удалить, так как он содержит текст (описание профилей), который невозможно обработать для логической регрессии.\n",
        "Столбцы tweet_location и user_timezone мало смогут повлиять на классификацию по полу, поэтому также могут быть удалены."
      ],
      "metadata": {
        "id": "s8iY_aU3f7HA"
      }
    },
    {
      "cell_type": "code",
      "source": [
        "df = df.drop(columns = ['description', 'tweet_location', 'user_timezone'])"
      ],
      "metadata": {
        "id": "GKLa3EKEfbCZ"
      },
      "execution_count": 180,
      "outputs": []
    },
    {
      "cell_type": "markdown",
      "source": [
        "Пользователей с пропусками в столбцах gender:confidence и _last_judgment_at можно удалить из-за незначительности их количества по сревнению с общей суммой пользователей\n",
        "Столбец gender является ключевым для составления логической регрессии, поэтому пользователей с пропусками в этом столбце тоже придётся удалить"
      ],
      "metadata": {
        "id": "UtRDh5-hhhp6"
      }
    },
    {
      "cell_type": "code",
      "source": [
        "df = df.dropna(axis=0, how='any')"
      ],
      "metadata": {
        "id": "TGG6mWgNnP8f"
      },
      "execution_count": 181,
      "outputs": []
    },
    {
      "cell_type": "code",
      "source": [
        "df.isna().sum()"
      ],
      "metadata": {
        "colab": {
          "base_uri": "https://localhost:8080/"
        },
        "id": "HqAYCXElnz35",
        "outputId": "e90a9d74-f622-4bb2-9bf9-91d5a8de48bb"
      },
      "execution_count": 182,
      "outputs": [
        {
          "output_type": "execute_result",
          "data": {
            "text/plain": [
              "_unit_id                 0\n",
              "_golden                  0\n",
              "_unit_state              0\n",
              "_trusted_judgments       0\n",
              "_last_judgment_at        0\n",
              "gender                   0\n",
              "gender:confidence        0\n",
              "profile_yn               0\n",
              "profile_yn:confidence    0\n",
              "created                  0\n",
              "fav_number               0\n",
              "link_color               0\n",
              "name                     0\n",
              "profileimage             0\n",
              "retweet_count            0\n",
              "sidebar_color            0\n",
              "text                     0\n",
              "tweet_count              0\n",
              "tweet_created            0\n",
              "tweet_id                 0\n",
              "dtype: int64"
            ]
          },
          "metadata": {},
          "execution_count": 182
        }
      ]
    },
    {
      "cell_type": "code",
      "source": [
        "df.info()"
      ],
      "metadata": {
        "colab": {
          "base_uri": "https://localhost:8080/"
        },
        "id": "cFbIJ4-vpa4C",
        "outputId": "d5fd2426-4ccf-4670-90a8-13bec9e8ad89"
      },
      "execution_count": 183,
      "outputs": [
        {
          "output_type": "stream",
          "name": "stdout",
          "text": [
            "<class 'pandas.core.frame.DataFrame'>\n",
            "Int64Index: 19903 entries, 0 to 19999\n",
            "Data columns (total 20 columns):\n",
            " #   Column                 Non-Null Count  Dtype  \n",
            "---  ------                 --------------  -----  \n",
            " 0   _unit_id               19903 non-null  int64  \n",
            " 1   _golden                19903 non-null  bool   \n",
            " 2   _unit_state            19903 non-null  object \n",
            " 3   _trusted_judgments     19903 non-null  int64  \n",
            " 4   _last_judgment_at      19903 non-null  object \n",
            " 5   gender                 19903 non-null  object \n",
            " 6   gender:confidence      19903 non-null  float64\n",
            " 7   profile_yn             19903 non-null  object \n",
            " 8   profile_yn:confidence  19903 non-null  float64\n",
            " 9   created                19903 non-null  object \n",
            " 10  fav_number             19903 non-null  int64  \n",
            " 11  link_color             19903 non-null  object \n",
            " 12  name                   19903 non-null  object \n",
            " 13  profileimage           19903 non-null  object \n",
            " 14  retweet_count          19903 non-null  int64  \n",
            " 15  sidebar_color          19903 non-null  object \n",
            " 16  text                   19903 non-null  object \n",
            " 17  tweet_count            19903 non-null  int64  \n",
            " 18  tweet_created          19903 non-null  object \n",
            " 19  tweet_id               19903 non-null  float64\n",
            "dtypes: bool(1), float64(3), int64(5), object(11)\n",
            "memory usage: 3.1+ MB\n"
          ]
        }
      ]
    },
    {
      "cell_type": "markdown",
      "source": [
        "Удалим или преобразуем столбцы с типами object и bool"
      ],
      "metadata": {
        "id": "8uV0B16WpdZ-"
      }
    },
    {
      "cell_type": "code",
      "source": [
        "df['_unit_state'].unique()"
      ],
      "metadata": {
        "colab": {
          "base_uri": "https://localhost:8080/"
        },
        "id": "OkOQDEV2oXTL",
        "outputId": "028309da-a014-43ad-d86f-0a5b5d307611"
      },
      "execution_count": 184,
      "outputs": [
        {
          "output_type": "execute_result",
          "data": {
            "text/plain": [
              "array(['finalized'], dtype=object)"
            ]
          },
          "metadata": {},
          "execution_count": 184
        }
      ]
    },
    {
      "cell_type": "markdown",
      "source": [
        "Этот столбец можно удалить"
      ],
      "metadata": {
        "id": "i30WfQ3NpscK"
      }
    },
    {
      "cell_type": "code",
      "source": [
        "df = df.drop(columns = ['_unit_state'])"
      ],
      "metadata": {
        "id": "-PwXiUVtpvp6"
      },
      "execution_count": 185,
      "outputs": []
    },
    {
      "cell_type": "code",
      "source": [
        "df['_last_judgment_at']"
      ],
      "metadata": {
        "colab": {
          "base_uri": "https://localhost:8080/"
        },
        "id": "duODuI0hqA4g",
        "outputId": "41cb4e81-ab6a-46aa-dd10-e92757601356"
      },
      "execution_count": 186,
      "outputs": [
        {
          "output_type": "execute_result",
          "data": {
            "text/plain": [
              "0        10/26/15 23:24\n",
              "1        10/26/15 23:30\n",
              "2        10/26/15 23:33\n",
              "3        10/26/15 23:10\n",
              "4         10/27/15 1:15\n",
              "              ...      \n",
              "19995    10/26/15 23:04\n",
              "19996     10/27/15 1:40\n",
              "19997     10/27/15 0:03\n",
              "19998    10/26/15 22:27\n",
              "19999    10/26/15 22:09\n",
              "Name: _last_judgment_at, Length: 19903, dtype: object"
            ]
          },
          "metadata": {},
          "execution_count": 186
        }
      ]
    },
    {
      "cell_type": "markdown",
      "source": [
        "Для линейной регрессии этот столбец бесполезен, удаляем"
      ],
      "metadata": {
        "id": "Y5VUgtcLqEp3"
      }
    },
    {
      "cell_type": "code",
      "source": [
        "df = df.drop(columns = ['_last_judgment_at'])"
      ],
      "metadata": {
        "id": "7ozgg7V2qNgP"
      },
      "execution_count": 187,
      "outputs": []
    },
    {
      "cell_type": "code",
      "source": [
        "df['profile_yn'].unique()"
      ],
      "metadata": {
        "colab": {
          "base_uri": "https://localhost:8080/"
        },
        "id": "I_bGahI6qZFu",
        "outputId": "00819bec-87a1-4383-a506-f04e524936ef"
      },
      "execution_count": 188,
      "outputs": [
        {
          "output_type": "execute_result",
          "data": {
            "text/plain": [
              "array(['yes'], dtype=object)"
            ]
          },
          "metadata": {},
          "execution_count": 188
        }
      ]
    },
    {
      "cell_type": "markdown",
      "source": [
        "Не влияет ни на что, удаляем"
      ],
      "metadata": {
        "id": "vTYjETLGqh4j"
      }
    },
    {
      "cell_type": "code",
      "source": [
        "df = df.drop(columns = ['profile_yn'])"
      ],
      "metadata": {
        "id": "ZVi3nho4qmAU"
      },
      "execution_count": 189,
      "outputs": []
    },
    {
      "cell_type": "code",
      "source": [
        "df['created']"
      ],
      "metadata": {
        "colab": {
          "base_uri": "https://localhost:8080/"
        },
        "id": "sRxoqHUNqwMc",
        "outputId": "a8c9002a-f2cf-40f1-e53b-05f56277f567"
      },
      "execution_count": 190,
      "outputs": [
        {
          "output_type": "execute_result",
          "data": {
            "text/plain": [
              "0          12/5/13 1:48\n",
              "1         10/1/12 13:51\n",
              "2        11/28/14 11:30\n",
              "3         6/11/09 22:39\n",
              "4         4/16/14 13:23\n",
              "              ...      \n",
              "19995     1/24/13 11:55\n",
              "19996    12/19/14 13:54\n",
              "19997     4/15/15 19:15\n",
              "19998      4/6/15 13:43\n",
              "19999      4/6/09 16:54\n",
              "Name: created, Length: 19903, dtype: object"
            ]
          },
          "metadata": {},
          "execution_count": 190
        }
      ]
    },
    {
      "cell_type": "markdown",
      "source": [
        "Для регрессии бесполезен, удаляем"
      ],
      "metadata": {
        "id": "z65AV0qQq5sO"
      }
    },
    {
      "cell_type": "code",
      "source": [
        "df = df.drop(columns = ['created'])"
      ],
      "metadata": {
        "id": "AoVHT9Loq80N"
      },
      "execution_count": 191,
      "outputs": []
    },
    {
      "cell_type": "code",
      "source": [
        "df['link_color']"
      ],
      "metadata": {
        "colab": {
          "base_uri": "https://localhost:8080/"
        },
        "id": "PInJY48FrKH-",
        "outputId": "f0749a81-e14f-494e-b7d8-289c6a50678c"
      },
      "execution_count": 192,
      "outputs": [
        {
          "output_type": "execute_result",
          "data": {
            "text/plain": [
              "0        08C2C2\n",
              "1        0084B4\n",
              "2        ABB8C2\n",
              "3        0084B4\n",
              "4        3B94D9\n",
              "          ...  \n",
              "19995    ABB8C2\n",
              "19996    0084B4\n",
              "19997    664422\n",
              "19998    05B8CC\n",
              "19999    0084B4\n",
              "Name: link_color, Length: 19903, dtype: object"
            ]
          },
          "metadata": {},
          "execution_count": 192
        }
      ]
    },
    {
      "cell_type": "markdown",
      "source": [
        "Не является категориальной переменной и не подлежит обработке, удаляем"
      ],
      "metadata": {
        "id": "bEjtAURbrNq8"
      }
    },
    {
      "cell_type": "code",
      "source": [
        "df = df.drop(columns = ['link_color'])"
      ],
      "metadata": {
        "id": "bu3VfPFJrkW6"
      },
      "execution_count": 193,
      "outputs": []
    },
    {
      "cell_type": "code",
      "source": [
        "df['name']"
      ],
      "metadata": {
        "colab": {
          "base_uri": "https://localhost:8080/"
        },
        "id": "RJZ7hZvYroOx",
        "outputId": "df89374a-82fa-47f0-f6ff-c42e8c9ce5b0"
      },
      "execution_count": 194,
      "outputs": [
        {
          "output_type": "execute_result",
          "data": {
            "text/plain": [
              "0                sheezy0\n",
              "1            DavdBurnett\n",
              "2         lwtprettylaugh\n",
              "3            douggarland\n",
              "4           WilfordGemma\n",
              "              ...       \n",
              "19995         AntiHero94\n",
              "19996           dredoo24\n",
              "19997    6BETHANY4Victor\n",
              "19998     SorasNerdyGeek\n",
              "19999         Gbuschrist\n",
              "Name: name, Length: 19903, dtype: object"
            ]
          },
          "metadata": {},
          "execution_count": 194
        }
      ]
    },
    {
      "cell_type": "markdown",
      "source": [
        "Не подлежит обработке и в целом бесполезно, удаляем"
      ],
      "metadata": {
        "id": "KVMfJn-FrsIf"
      }
    },
    {
      "cell_type": "code",
      "source": [
        "df = df.drop(columns = ['name'])"
      ],
      "metadata": {
        "id": "PlBL5n4VryBe"
      },
      "execution_count": 195,
      "outputs": []
    },
    {
      "cell_type": "code",
      "source": [
        "df['profileimage']"
      ],
      "metadata": {
        "colab": {
          "base_uri": "https://localhost:8080/"
        },
        "id": "QrWHptFVr1k3",
        "outputId": "68df442d-13bd-4672-fb12-77b624fff975"
      },
      "execution_count": 196,
      "outputs": [
        {
          "output_type": "execute_result",
          "data": {
            "text/plain": [
              "0        https://pbs.twimg.com/profile_images/414342229...\n",
              "1        https://pbs.twimg.com/profile_images/539604221...\n",
              "2        https://pbs.twimg.com/profile_images/657330418...\n",
              "3        https://pbs.twimg.com/profile_images/259703936...\n",
              "4        https://pbs.twimg.com/profile_images/564094871...\n",
              "                               ...                        \n",
              "19995    https://pbs.twimg.com/profile_images/653014313...\n",
              "19996    https://pbs.twimg.com/profile_images/633240548...\n",
              "19997    https://pbs.twimg.com/profile_images/657192653...\n",
              "19998    https://pbs.twimg.com/profile_images/656988985...\n",
              "19999    https://pbs.twimg.com/profile_images/601763980...\n",
              "Name: profileimage, Length: 19903, dtype: object"
            ]
          },
          "metadata": {},
          "execution_count": 196
        }
      ]
    },
    {
      "cell_type": "markdown",
      "source": [
        "Обработка невозможна, удаляем"
      ],
      "metadata": {
        "id": "D_Ky9VEUr8o7"
      }
    },
    {
      "cell_type": "code",
      "source": [
        "df = df.drop(columns = ['profileimage'])"
      ],
      "metadata": {
        "id": "QYOdVrzNsDEj"
      },
      "execution_count": 197,
      "outputs": []
    },
    {
      "cell_type": "code",
      "source": [
        "df['sidebar_color'].unique()"
      ],
      "metadata": {
        "colab": {
          "base_uri": "https://localhost:8080/"
        },
        "id": "Vwd56oursOYp",
        "outputId": "ddc413d6-86a6-4091-bb3f-635df12fcc8e"
      },
      "execution_count": 198,
      "outputs": [
        {
          "output_type": "execute_result",
          "data": {
            "text/plain": [
              "array(['FFFFFF', 'C0DEED', '0', '181A1E', 'EEEEEE', '65B0DA', 'EEA525',\n",
              "       'DBE9ED', 'BDDCAD', 'C6E2EE', 'F2E195', 'DFDFDF', '80808',\n",
              "       'D9B17E', '5ED4DC', 'FFF8AD', '87BC44', 'E59B38', '829D5E',\n",
              "       'D10707', 'CC3366', '0A0A0A', '515', '30303', 'A8C7F7', '035FFF',\n",
              "       '22261', 'E5FFA6', 'ADF1FC', '69E2E8', 'F8F132', 'D3D2CF',\n",
              "       'FCFBD2', '2280A9', '50505', 'F8C7DA', '64533E', '827D82',\n",
              "       '6B0237', 'A38CA3', 'F7F2F4', '487878', '151F24', 'AD1F74',\n",
              "       'FFDE00', '79B6E7', '0AB0F1', '12020F', '86A4A6', '3FC5A4',\n",
              "       '2E0C2E', 'C0DCF1', '3BE0F4', '0066FF', '8CBAE2', '08A7F7',\n",
              "       '7C6A87', '8BB65D', '89B5A2', 'CCCCCC', '6A6B69', '0E4766',\n",
              "       'D6BD89', 'EB63EB', 'BA7474', '0D0C0C', 'FAA005', '16818E',\n",
              "       'F50C0C', 'A310A3', 'FF0D3D', '6056', 'F8545F', 'FF08FF', 'B5B5B5',\n",
              "       '141414', '292929', '4BB7DF', 'A3A3A3', 'DADADA', 'FCF3B8',\n",
              "       '999999', '131414', 'FFCE0A', '42444E', '212535', 'D179CB',\n",
              "       '5C0F5C', 'E6D56A', 'ED2B45', '5C005C', '1D1D1D', 'FF5520',\n",
              "       '80434B', 'E83407', '10508', 'C8A867', '404040', '00FF00',\n",
              "       '06191A', '0D0508', 'F8858C', '10140E', 'FFB93C', 'C6B193',\n",
              "       '5013C2', '09EDC7', 'E6E3E6', '4B0202', '2B1803', '30405',\n",
              "       'C2060C', 'F5F0F5', '12B2A6', 'EDE8C4', '6847', '0A090A', '0D0D09',\n",
              "       '210E2A', 'AAB1B5', '4A66C1', '510094', '334A70', 'D8D8D8',\n",
              "       '99E3F7', '142B45', 'FFFAFA', 'A7E74B', '463A4A', 'F00CF0',\n",
              "       'D1D1D1', '8B92C0', '1A1A1A', 'F50A29', '545151', 'D8C0A8',\n",
              "       '3965B8', '032B05', '454B52', '47002B', '8EAA45', 'CDC6B3',\n",
              "       '4D3445', '2AA14F', 'BD8700', '3D3D42', 'C2C2C2', '8D9290',\n",
              "       'E7796A', 'AEF5FA', '948C75', 'B8B8B8', '373737', '32436E',\n",
              "       'EE3A45', 'CAC8B1', 'DCE0E0', '1.10E+17', '38310B', 'F0E36E',\n",
              "       'FAFAFA', 'DA65B7', 'BCB302', 'DBADAD', '8A0000', 'FFBE3B',\n",
              "       '0B486B', '4456BC', '821608', 'CBCBA5', '9A17EB', 'E7FF33',\n",
              "       '1AAEED', '2665AD', 'CBCBCB', 'BDADDC', '0C0F0A', 'DCE4E0',\n",
              "       'FF5703', '0F0E0F', '3E38F2', '0055FF', '050C26', 'FFBF00',\n",
              "       '0D0D0C', 'F0689E', '7A5C45', '333333', '085AF2', 'DAE5CD',\n",
              "       '909090', '3FCDD9', 'BA223B', '333B36', 'B2B0BD', 'F7F7F7',\n",
              "       '525557', 'F27908', '339103', 'E81288', '0C0F0F', '294654',\n",
              "       '001B5E', '797EB4', 'C10020', 'FCF17C', 'B86307', '252429',\n",
              "       'CF4C28', '656869', '3E0405', '70808', '870000', '0084B4',\n",
              "       '464646', '28426E', '050F00', '6.90E+29', '8BA7C4', 'EDF2F3',\n",
              "       'F4F4F4', '84FF42', 'BAB476', '2058B2', 'DB5ECC', 'ADB9DC',\n",
              "       '1F5CD6', '0099FF', 'FAF7FA', 'F0E661', '3E3844', 'F51339',\n",
              "       '9E139E', '07117D', 'D9DAE0', 'AB964A', '0D0014', 'E2EAEF',\n",
              "       'CBF7C1', 'F0A830', 'DB0F6B', 'F9FAFC', '204207', '935273',\n",
              "       'E30D23', 'DDDDDD', '2E3033', '76C8CF', '1F2403', 'F51714', '4878',\n",
              "       '022C74', '69A555', '4C7AB4', 'F29008', '2A3A22', '003E6A',\n",
              "       'F6F7E3', 'E6056A', '0C0D0D', '9FE30D', 'E408F0', 'BFBFBF',\n",
              "       '5E639C', '7FBFC7', '853385', 'F4F623', 'F08DF0', 'DEDEDE',\n",
              "       'FFD8D6', '15192A', '4D4A33', 'E84F3A', '9C4B4C', '665C5C',\n",
              "       '04131A', 'FF0D00', '264480', 'FF00E1', '00090A', '7F6262',\n",
              "       '892DD8', '1A151A', '17191A', 'BF0606', '601B2F', '8CDE97',\n",
              "       '8F0000', 'FF5454', '241344', '05D5FF', '1BDED4', '5314D7',\n",
              "       'FF0000', '1E1F1C', '1351CF', '161C1A', '50005', '68FA04',\n",
              "       'F0B00E', '1C222B', '256169', '8F5353', 'BDBAAE', 'D5C788',\n",
              "       'C9B180', 'FCFCFC', '737373', 'E8B5BD', '92AFB7', 'EDE6FA',\n",
              "       'F5E7F5', 'F51313', 'F2B56A', 'C4C4C4', '20455D', '7FBDCA',\n",
              "       'FF4878', 'ADA6A7', '08521D', '13F0F0', 'FCF4F4', '329996',\n",
              "       'FBFF00', '191A18', '570B0B', '6666', '4.43E+03', '56A0DE',\n",
              "       '910510', '216587', '2C093C', 'CDCDCD', 'D0F2DD', '8F6635',\n",
              "       '9E2828', 'F8BB84', '8CB2BD', 'D95E5E', '7A7A7A', '800606',\n",
              "       'C22525', 'D6DBAD', '3624DE', 'DAF71E', '280D0D', '505', '6A6E75',\n",
              "       'FEF9E6', 'D2DADA', '40505', 'F74F60', '37AF3B', 'DEDADE',\n",
              "       '635F53', '57444D', 'DBDBDB', '3366', '2.62E+55', '00FFFF',\n",
              "       'C44D58', '142829', 'F068C0', '5C0000', '363636', '898F68',\n",
              "       '006AFF', 'D58861', '0A6E46', 'F7B565', '422702', '070A09',\n",
              "       'B1784B', 'FF9800', '50405', 'D49F0C', '0A0909', '1E2020',\n",
              "       'E8C40E', '833409', '412A32', 'E3E3E3', 'B4B070', 'F59733',\n",
              "       'FFA6A6', '80705', '79D4BD', 'F4F3F2', 'E60E18', '3C9434',\n",
              "       '795C9C', '6B2679', '660000', '6CA63C', 'E00000', 'DCE2E4',\n",
              "       'FF6A00', '4C3E29', '1848A8', 'D11991', '323232', 'B47741',\n",
              "       '097CE0', '5C5C5C', '305', '222222', 'E5E6CA', '316932', '99B2B7',\n",
              "       'DB9A0F', '002D7A', 'F6F3EA', 'FCD3BB', 'A8851C', 'EA03FF',\n",
              "       '6B2525', '9000FF', '210B21', '948858', '242622', 'E8E8E8',\n",
              "       'F51182', '44EBA8', 'A1A1A1', '5B3C19', '3.24E+36', '398757',\n",
              "       '0FBF9F', '181830', '53777A', '93BB4B', 'B6AFA5', 'D51CFF',\n",
              "       'B124C7', 'FAD503', '7E8CD2', '828282', 'FF00FF', 'BD6738',\n",
              "       '101112', '8F1344', 'FA84D5', '4808AE', 'A69B73', 'F8C0D5',\n",
              "       'DE2C56', 'F0F0F0', '186C90', 'B503A9', 'E3DB3F', 'A9CBF5',\n",
              "       '696969', 'F511B8', 'DE741D', '005A87', '171A1C', 'D4D055',\n",
              "       '8BD5A1', '962121', 'CCAF7B', 'CFBEB4', '9944FF', 'DE3E9E',\n",
              "       'FE2048', '572A57', '111212', '11F2CD', 'B09797', '401A40',\n",
              "       '787878', 'F0F1F5', '6D2446', 'E62E0E', '00A897', 'FFF1E8',\n",
              "       '0A020A', 'FDF1E1', 'C0001D', '9B9BA3', '20500', '80', '1D1E1F',\n",
              "       'B46E62', 'F7F2F2', 'EA3606', 'BEDFB6', 'FAF5FA', 'FF9900',\n",
              "       '80000', '0FAFFF', 'F55F08', 'BAB1BE', '5.94E+61', '516C67',\n",
              "       '202A2B', 'AEB83D', 'E0AC8A', 'B1C4E6', '513930', 'DB15D4',\n",
              "       '73013C', '7C0404', '88B6B9', '674669', '782B49', '9A65DA',\n",
              "       '252C09', 'AC77C7', 'FF1919', '93F5C9', '0D0106', '0E7E7E',\n",
              "       '97B8AB', 'F8956C', '457656', '501', 'EBEBEB', 'F8F8E0', 'D14B4B',\n",
              "       '33CCFF', 'E61224', '9B7CB6', '1E3947', '00F2E6', '21EB89',\n",
              "       '2E2D27', '3E4AFF', 'B3757F', 'CCCECC', 'FA0B03', '20318',\n",
              "       'DEF5FE', 'E1F2FA', 'F5E108', 'F0DFB8', '140E0A', 'ADC6DB',\n",
              "       '4198DB', '247B37', 'EC5D94', 'A0EEF5', '858585', '090A0A',\n",
              "       '464244', 'CE2929', 'E82221', '520B0B', '5.22E+22', '92C7EA',\n",
              "       '5EFF00', '0B0203', 'EBAAAA', '7A4D1C', '590025', 'E6E6E6',\n",
              "       '40405', '46373F', 'A7737D', 'B68B9E'], dtype=object)"
            ]
          },
          "metadata": {},
          "execution_count": 198
        }
      ]
    },
    {
      "cell_type": "markdown",
      "source": [
        "Не является категориальной переменной и не подлежит обработке, удаляем"
      ],
      "metadata": {
        "id": "DQD0MrZ5sR3l"
      }
    },
    {
      "cell_type": "code",
      "source": [
        "df = df.drop(columns = ['sidebar_color'])"
      ],
      "metadata": {
        "id": "G9GWmqZ-se85"
      },
      "execution_count": 199,
      "outputs": []
    },
    {
      "cell_type": "code",
      "source": [
        "df[\"text\"]"
      ],
      "metadata": {
        "colab": {
          "base_uri": "https://localhost:8080/"
        },
        "id": "2BmSGRL5s1qd",
        "outputId": "68a53cde-bb5a-44c1-a5ab-faca50a7a028"
      },
      "execution_count": 200,
      "outputs": [
        {
          "output_type": "execute_result",
          "data": {
            "text/plain": [
              "0        Robbie E Responds To Critics After Win Against...\n",
              "1        ‰ЫПIt felt like they were my friends and I was...\n",
              "2        i absolutely adore when louis starts the songs...\n",
              "3        Hi @JordanSpieth - Looking at the url - do you...\n",
              "4        Watching Neighbours on Sky+ catching up with t...\n",
              "                               ...                        \n",
              "19995    Seriously love Trent and Justin. Would do anyt...\n",
              "19996    One person can look at you like your the most ...\n",
              "19997    These 24 Wedding Photobombs Made The Bride And...\n",
              "19998    So I am riding around and I saw a horse runnin...\n",
              "19999    @toddrose24 @sadsackjetsfan yes I'd call that ...\n",
              "Name: text, Length: 19903, dtype: object"
            ]
          },
          "metadata": {},
          "execution_count": 200
        }
      ]
    },
    {
      "cell_type": "markdown",
      "source": [
        "Не обрабатываемо, удаляем"
      ],
      "metadata": {
        "id": "pP9bSblos4nY"
      }
    },
    {
      "cell_type": "code",
      "source": [
        "df = df.drop(columns = ['text'])"
      ],
      "metadata": {
        "id": "KI4MygySs7wL"
      },
      "execution_count": 201,
      "outputs": []
    },
    {
      "cell_type": "code",
      "source": [
        "df['tweet_created']"
      ],
      "metadata": {
        "colab": {
          "base_uri": "https://localhost:8080/"
        },
        "id": "gf7gUzEAtA1s",
        "outputId": "d42f5f07-3520-4432-9d91-bb4d84e9da60"
      },
      "execution_count": 202,
      "outputs": [
        {
          "output_type": "execute_result",
          "data": {
            "text/plain": [
              "0        10/26/15 12:40\n",
              "1        10/26/15 12:40\n",
              "2        10/26/15 12:40\n",
              "3        10/26/15 12:40\n",
              "4        10/26/15 12:40\n",
              "              ...      \n",
              "19995    10/26/15 13:18\n",
              "19996    10/26/15 13:18\n",
              "19997    10/26/15 13:18\n",
              "19998    10/26/15 13:18\n",
              "19999    10/26/15 13:18\n",
              "Name: tweet_created, Length: 19903, dtype: object"
            ]
          },
          "metadata": {},
          "execution_count": 202
        }
      ]
    },
    {
      "cell_type": "markdown",
      "source": [
        "Бесполезно, удаляем"
      ],
      "metadata": {
        "id": "QjnRsJ3ItDoD"
      }
    },
    {
      "cell_type": "code",
      "source": [
        "df = df.drop(columns = ['tweet_created'])"
      ],
      "metadata": {
        "id": "GXx9m62ztGjg"
      },
      "execution_count": 203,
      "outputs": []
    },
    {
      "cell_type": "code",
      "source": [
        "df.info()"
      ],
      "metadata": {
        "colab": {
          "base_uri": "https://localhost:8080/"
        },
        "id": "JhNeAUb3tMLl",
        "outputId": "1caf5a77-6cb3-4c3e-9220-57fd8b47cf55"
      },
      "execution_count": 204,
      "outputs": [
        {
          "output_type": "stream",
          "name": "stdout",
          "text": [
            "<class 'pandas.core.frame.DataFrame'>\n",
            "Int64Index: 19903 entries, 0 to 19999\n",
            "Data columns (total 10 columns):\n",
            " #   Column                 Non-Null Count  Dtype  \n",
            "---  ------                 --------------  -----  \n",
            " 0   _unit_id               19903 non-null  int64  \n",
            " 1   _golden                19903 non-null  bool   \n",
            " 2   _trusted_judgments     19903 non-null  int64  \n",
            " 3   gender                 19903 non-null  object \n",
            " 4   gender:confidence      19903 non-null  float64\n",
            " 5   profile_yn:confidence  19903 non-null  float64\n",
            " 6   fav_number             19903 non-null  int64  \n",
            " 7   retweet_count          19903 non-null  int64  \n",
            " 8   tweet_count            19903 non-null  int64  \n",
            " 9   tweet_id               19903 non-null  float64\n",
            "dtypes: bool(1), float64(3), int64(5), object(1)\n",
            "memory usage: 1.5+ MB\n"
          ]
        }
      ]
    },
    {
      "cell_type": "code",
      "source": [
        "df['_trusted_judgments'].unique()"
      ],
      "metadata": {
        "colab": {
          "base_uri": "https://localhost:8080/"
        },
        "id": "bQ44ESpGxapr",
        "outputId": "f2c51acf-5472-4626-8652-d70e5f05a990"
      },
      "execution_count": 205,
      "outputs": [
        {
          "output_type": "execute_result",
          "data": {
            "text/plain": [
              "array([3])"
            ]
          },
          "metadata": {},
          "execution_count": 205
        }
      ]
    },
    {
      "cell_type": "markdown",
      "source": [
        "Бесполезно, удаляем"
      ],
      "metadata": {
        "id": "r9TD7okLxl7v"
      }
    },
    {
      "cell_type": "code",
      "source": [
        "df = df.drop(columns = ['_trusted_judgments'])"
      ],
      "metadata": {
        "id": "ynJGRPPmxovD"
      },
      "execution_count": 206,
      "outputs": []
    },
    {
      "cell_type": "code",
      "source": [
        "df['_golden'].unique()"
      ],
      "metadata": {
        "colab": {
          "base_uri": "https://localhost:8080/"
        },
        "id": "fbLH7JTavQ0w",
        "outputId": "0c724642-df07-4779-ac53-dc25bb7fdce9"
      },
      "execution_count": 207,
      "outputs": [
        {
          "output_type": "execute_result",
          "data": {
            "text/plain": [
              "array([False])"
            ]
          },
          "metadata": {},
          "execution_count": 207
        }
      ]
    },
    {
      "cell_type": "markdown",
      "source": [
        "В результате обработки в столбе _golden осталось единственное значение, удалим этот столбец"
      ],
      "metadata": {
        "id": "0Y_vBKduvYLe"
      }
    },
    {
      "cell_type": "code",
      "source": [
        "df = df.drop(columns = ['_golden'])"
      ],
      "metadata": {
        "id": "ISlIUfkEvspp"
      },
      "execution_count": 208,
      "outputs": []
    },
    {
      "cell_type": "markdown",
      "source": [
        "Параметр gender является категориальными, поэтому обработаем его"
      ],
      "metadata": {
        "id": "BoMp20bDtgCq"
      }
    },
    {
      "cell_type": "code",
      "source": [
        "df['gender'].unique()"
      ],
      "metadata": {
        "colab": {
          "base_uri": "https://localhost:8080/"
        },
        "id": "5Ax2546x5Cbu",
        "outputId": "d39eb95b-4ee2-4c8a-d1ed-2fe8c09ebe65"
      },
      "execution_count": 209,
      "outputs": [
        {
          "output_type": "execute_result",
          "data": {
            "text/plain": [
              "array(['male', 'female', 'brand', 'unknown'], dtype=object)"
            ]
          },
          "metadata": {},
          "execution_count": 209
        }
      ]
    },
    {
      "cell_type": "code",
      "source": [
        "df = df[(df['gender'] == 'male') | (df['gender'] == 'female')]"
      ],
      "metadata": {
        "id": "kQBs3ilJ5VrT"
      },
      "execution_count": 220,
      "outputs": []
    },
    {
      "cell_type": "code",
      "source": [
        "df['gender'].unique()"
      ],
      "metadata": {
        "colab": {
          "base_uri": "https://localhost:8080/"
        },
        "id": "hE0weC4g6zFj",
        "outputId": "a471b002-17cf-41ff-e13b-3eceeb65f4ae"
      },
      "execution_count": 221,
      "outputs": [
        {
          "output_type": "execute_result",
          "data": {
            "text/plain": [
              "array(['male', 'female'], dtype=object)"
            ]
          },
          "metadata": {},
          "execution_count": 221
        }
      ]
    },
    {
      "cell_type": "code",
      "source": [
        "from sklearn import preprocessing\n",
        "\n",
        "encoder = preprocessing.LabelEncoder() \n",
        "encoder.fit(df['gender']) \n",
        "df['gender'] = encoder.transform(df['gender']) \n",
        "\n",
        "df.head()"
      ],
      "metadata": {
        "colab": {
          "base_uri": "https://localhost:8080/",
          "height": 206
        },
        "id": "zeoAvE7rtqUz",
        "outputId": "05c9b0ff-8ec7-4b52-afc5-9c3f0aed9f9f"
      },
      "execution_count": 222,
      "outputs": [
        {
          "output_type": "execute_result",
          "data": {
            "text/plain": [
              "    _unit_id  gender  gender:confidence  profile_yn:confidence  fav_number  \\\n",
              "0  815719226       1             1.0000                    1.0           0   \n",
              "1  815719227       1             1.0000                    1.0          68   \n",
              "2  815719228       1             0.6625                    1.0        7696   \n",
              "3  815719229       1             1.0000                    1.0         202   \n",
              "4  815719230       0             1.0000                    1.0       37318   \n",
              "\n",
              "   retweet_count  tweet_count      tweet_id  \n",
              "0              0       110964  6.587300e+17  \n",
              "1              0         7471  6.587300e+17  \n",
              "2              1         5617  6.587300e+17  \n",
              "3              0         1693  6.587300e+17  \n",
              "4              0        31462  6.587300e+17  "
            ],
            "text/html": [
              "\n",
              "  <div id=\"df-3120d5bf-9578-4848-9ece-15aa64465840\">\n",
              "    <div class=\"colab-df-container\">\n",
              "      <div>\n",
              "<style scoped>\n",
              "    .dataframe tbody tr th:only-of-type {\n",
              "        vertical-align: middle;\n",
              "    }\n",
              "\n",
              "    .dataframe tbody tr th {\n",
              "        vertical-align: top;\n",
              "    }\n",
              "\n",
              "    .dataframe thead th {\n",
              "        text-align: right;\n",
              "    }\n",
              "</style>\n",
              "<table border=\"1\" class=\"dataframe\">\n",
              "  <thead>\n",
              "    <tr style=\"text-align: right;\">\n",
              "      <th></th>\n",
              "      <th>_unit_id</th>\n",
              "      <th>gender</th>\n",
              "      <th>gender:confidence</th>\n",
              "      <th>profile_yn:confidence</th>\n",
              "      <th>fav_number</th>\n",
              "      <th>retweet_count</th>\n",
              "      <th>tweet_count</th>\n",
              "      <th>tweet_id</th>\n",
              "    </tr>\n",
              "  </thead>\n",
              "  <tbody>\n",
              "    <tr>\n",
              "      <th>0</th>\n",
              "      <td>815719226</td>\n",
              "      <td>1</td>\n",
              "      <td>1.0000</td>\n",
              "      <td>1.0</td>\n",
              "      <td>0</td>\n",
              "      <td>0</td>\n",
              "      <td>110964</td>\n",
              "      <td>6.587300e+17</td>\n",
              "    </tr>\n",
              "    <tr>\n",
              "      <th>1</th>\n",
              "      <td>815719227</td>\n",
              "      <td>1</td>\n",
              "      <td>1.0000</td>\n",
              "      <td>1.0</td>\n",
              "      <td>68</td>\n",
              "      <td>0</td>\n",
              "      <td>7471</td>\n",
              "      <td>6.587300e+17</td>\n",
              "    </tr>\n",
              "    <tr>\n",
              "      <th>2</th>\n",
              "      <td>815719228</td>\n",
              "      <td>1</td>\n",
              "      <td>0.6625</td>\n",
              "      <td>1.0</td>\n",
              "      <td>7696</td>\n",
              "      <td>1</td>\n",
              "      <td>5617</td>\n",
              "      <td>6.587300e+17</td>\n",
              "    </tr>\n",
              "    <tr>\n",
              "      <th>3</th>\n",
              "      <td>815719229</td>\n",
              "      <td>1</td>\n",
              "      <td>1.0000</td>\n",
              "      <td>1.0</td>\n",
              "      <td>202</td>\n",
              "      <td>0</td>\n",
              "      <td>1693</td>\n",
              "      <td>6.587300e+17</td>\n",
              "    </tr>\n",
              "    <tr>\n",
              "      <th>4</th>\n",
              "      <td>815719230</td>\n",
              "      <td>0</td>\n",
              "      <td>1.0000</td>\n",
              "      <td>1.0</td>\n",
              "      <td>37318</td>\n",
              "      <td>0</td>\n",
              "      <td>31462</td>\n",
              "      <td>6.587300e+17</td>\n",
              "    </tr>\n",
              "  </tbody>\n",
              "</table>\n",
              "</div>\n",
              "      <button class=\"colab-df-convert\" onclick=\"convertToInteractive('df-3120d5bf-9578-4848-9ece-15aa64465840')\"\n",
              "              title=\"Convert this dataframe to an interactive table.\"\n",
              "              style=\"display:none;\">\n",
              "        \n",
              "  <svg xmlns=\"http://www.w3.org/2000/svg\" height=\"24px\"viewBox=\"0 0 24 24\"\n",
              "       width=\"24px\">\n",
              "    <path d=\"M0 0h24v24H0V0z\" fill=\"none\"/>\n",
              "    <path d=\"M18.56 5.44l.94 2.06.94-2.06 2.06-.94-2.06-.94-.94-2.06-.94 2.06-2.06.94zm-11 1L8.5 8.5l.94-2.06 2.06-.94-2.06-.94L8.5 2.5l-.94 2.06-2.06.94zm10 10l.94 2.06.94-2.06 2.06-.94-2.06-.94-.94-2.06-.94 2.06-2.06.94z\"/><path d=\"M17.41 7.96l-1.37-1.37c-.4-.4-.92-.59-1.43-.59-.52 0-1.04.2-1.43.59L10.3 9.45l-7.72 7.72c-.78.78-.78 2.05 0 2.83L4 21.41c.39.39.9.59 1.41.59.51 0 1.02-.2 1.41-.59l7.78-7.78 2.81-2.81c.8-.78.8-2.07 0-2.86zM5.41 20L4 18.59l7.72-7.72 1.47 1.35L5.41 20z\"/>\n",
              "  </svg>\n",
              "      </button>\n",
              "      \n",
              "  <style>\n",
              "    .colab-df-container {\n",
              "      display:flex;\n",
              "      flex-wrap:wrap;\n",
              "      gap: 12px;\n",
              "    }\n",
              "\n",
              "    .colab-df-convert {\n",
              "      background-color: #E8F0FE;\n",
              "      border: none;\n",
              "      border-radius: 50%;\n",
              "      cursor: pointer;\n",
              "      display: none;\n",
              "      fill: #1967D2;\n",
              "      height: 32px;\n",
              "      padding: 0 0 0 0;\n",
              "      width: 32px;\n",
              "    }\n",
              "\n",
              "    .colab-df-convert:hover {\n",
              "      background-color: #E2EBFA;\n",
              "      box-shadow: 0px 1px 2px rgba(60, 64, 67, 0.3), 0px 1px 3px 1px rgba(60, 64, 67, 0.15);\n",
              "      fill: #174EA6;\n",
              "    }\n",
              "\n",
              "    [theme=dark] .colab-df-convert {\n",
              "      background-color: #3B4455;\n",
              "      fill: #D2E3FC;\n",
              "    }\n",
              "\n",
              "    [theme=dark] .colab-df-convert:hover {\n",
              "      background-color: #434B5C;\n",
              "      box-shadow: 0px 1px 3px 1px rgba(0, 0, 0, 0.15);\n",
              "      filter: drop-shadow(0px 1px 2px rgba(0, 0, 0, 0.3));\n",
              "      fill: #FFFFFF;\n",
              "    }\n",
              "  </style>\n",
              "\n",
              "      <script>\n",
              "        const buttonEl =\n",
              "          document.querySelector('#df-3120d5bf-9578-4848-9ece-15aa64465840 button.colab-df-convert');\n",
              "        buttonEl.style.display =\n",
              "          google.colab.kernel.accessAllowed ? 'block' : 'none';\n",
              "\n",
              "        async function convertToInteractive(key) {\n",
              "          const element = document.querySelector('#df-3120d5bf-9578-4848-9ece-15aa64465840');\n",
              "          const dataTable =\n",
              "            await google.colab.kernel.invokeFunction('convertToInteractive',\n",
              "                                                     [key], {});\n",
              "          if (!dataTable) return;\n",
              "\n",
              "          const docLinkHtml = 'Like what you see? Visit the ' +\n",
              "            '<a target=\"_blank\" href=https://colab.research.google.com/notebooks/data_table.ipynb>data table notebook</a>'\n",
              "            + ' to learn more about interactive tables.';\n",
              "          element.innerHTML = '';\n",
              "          dataTable['output_type'] = 'display_data';\n",
              "          await google.colab.output.renderOutput(dataTable, element);\n",
              "          const docLink = document.createElement('div');\n",
              "          docLink.innerHTML = docLinkHtml;\n",
              "          element.appendChild(docLink);\n",
              "        }\n",
              "      </script>\n",
              "    </div>\n",
              "  </div>\n",
              "  "
            ]
          },
          "metadata": {},
          "execution_count": 222
        }
      ]
    },
    {
      "cell_type": "markdown",
      "source": [
        "(Я столько времени убил только на обработку данных...)"
      ],
      "metadata": {
        "id": "n5IZp_lKwcMu"
      }
    },
    {
      "cell_type": "code",
      "source": [
        "plt.figure(figsize=(12,10), dpi= 80)\n",
        "sns.heatmap(df.corr(), xticklabels=df.corr().columns, yticklabels=df.corr().columns, cmap='RdYlGn', center=0, annot=True)\n",
        "\n",
        "plt.title('Correlogram', fontsize=22)\n",
        "plt.xticks(fontsize=12)\n",
        "plt.yticks(fontsize=12)\n",
        "plt.show()"
      ],
      "metadata": {
        "colab": {
          "base_uri": "https://localhost:8080/",
          "height": 814
        },
        "id": "Q0BPWZS-wh6O",
        "outputId": "1d7ed2e9-8356-4754-cf96-b896a4a8278f"
      },
      "execution_count": 223,
      "outputs": [
        {
          "output_type": "display_data",
          "data": {
            "text/plain": [
              "<Figure size 960x800 with 2 Axes>"
            ],
            "image/png": "[encoded data removed]"
          },
          "metadata": {
            "needs_background": "light"
          }
        }
      ]
    },
    {
      "cell_type": "markdown",
      "source": [
        "Признаки практически не коррелируют между собой"
      ],
      "metadata": {
        "id": "37MLMgHow8x_"
      }
    },
    {
      "cell_type": "markdown",
      "source": [
        "Столбцы tweet_id и _unit_id бесполезны для логической регрессии, удалим"
      ],
      "metadata": {
        "id": "aq6GTWXYx1Lj"
      }
    },
    {
      "cell_type": "code",
      "source": [
        "df = df.drop(columns = ['_unit_id', 'tweet_id'])"
      ],
      "metadata": {
        "id": "aEActJO7yB-A"
      },
      "execution_count": 224,
      "outputs": []
    },
    {
      "cell_type": "markdown",
      "source": [
        "Создадим модель логической регрессии"
      ],
      "metadata": {
        "id": "hv7x5nIryXx5"
      }
    },
    {
      "cell_type": "code",
      "source": [
        "from sklearn.model_selection import train_test_split\n",
        "\n",
        "X = df.drop(['gender'], axis=1)\n",
        "y = df['gender']\n",
        "\n",
        "X_train, X_test, y_train, y_test = train_test_split(X, y, test_size=0.3)"
      ],
      "metadata": {
        "id": "Li-pV5RKyv4J"
      },
      "execution_count": 225,
      "outputs": []
    },
    {
      "cell_type": "code",
      "source": [
        "from sklearn.linear_model import LogisticRegression"
      ],
      "metadata": {
        "id": "iA8clXUczOrz"
      },
      "execution_count": 226,
      "outputs": []
    },
    {
      "cell_type": "code",
      "source": [
        "model = LogisticRegression()\n",
        "model.fit(X_train, y_train)"
      ],
      "metadata": {
        "colab": {
          "base_uri": "https://localhost:8080/"
        },
        "id": "07HFlrgVzGEO",
        "outputId": "218ea8b9-c191-4ae3-bb6e-41efd6ac5312"
      },
      "execution_count": 227,
      "outputs": [
        {
          "output_type": "execute_result",
          "data": {
            "text/plain": [
              "LogisticRegression()"
            ]
          },
          "metadata": {},
          "execution_count": 227
        }
      ]
    },
    {
      "cell_type": "code",
      "source": [
        "answers_pred = model.predict(X_test)"
      ],
      "metadata": {
        "id": "oVg8NpF97JHr"
      },
      "execution_count": 231,
      "outputs": []
    },
    {
      "cell_type": "code",
      "source": [
        "print(X_train.shape)\n",
        "print(y_train.size)"
      ],
      "metadata": {
        "colab": {
          "base_uri": "https://localhost:8080/"
        },
        "id": "ZQIehm1-2ShR",
        "outputId": "c5a7d6c2-0422-4226-eb2c-64162f46ef73"
      },
      "execution_count": 228,
      "outputs": [
        {
          "output_type": "stream",
          "name": "stdout",
          "text": [
            "(9000, 5)\n",
            "9000\n"
          ]
        }
      ]
    },
    {
      "cell_type": "code",
      "source": [
        "w0 = model.intercept_\n",
        "w0"
      ],
      "metadata": {
        "colab": {
          "base_uri": "https://localhost:8080/"
        },
        "id": "SRqF1Ke50MVE",
        "outputId": "4112cffe-009e-4f09-d067-1809ab464ac9"
      },
      "execution_count": 229,
      "outputs": [
        {
          "output_type": "execute_result",
          "data": {
            "text/plain": [
              "array([-1.49643366e-09])"
            ]
          },
          "metadata": {},
          "execution_count": 229
        }
      ]
    },
    {
      "cell_type": "code",
      "source": [
        "w1 = model.coef_\n",
        "w1"
      ],
      "metadata": {
        "colab": {
          "base_uri": "https://localhost:8080/"
        },
        "id": "DljRblFc08g2",
        "outputId": "350cdc6d-f627-4a49-eac8-8c5e66367090"
      },
      "execution_count": 230,
      "outputs": [
        {
          "output_type": "execute_result",
          "data": {
            "text/plain": [
              "array([[-1.98782060e-09, -1.49664058e-09, -7.44029357e-06,\n",
              "         8.51091682e-10,  7.33325878e-07]])"
            ]
          },
          "metadata": {},
          "execution_count": 230
        }
      ]
    },
    {
      "cell_type": "markdown",
      "source": [
        "Наибольший вес имеет признак fav_number, после него идёт tweet_count, вызвано это тем, что признак gender коррелирует больше всего именно с этими двумя признаками"
      ],
      "metadata": {
        "id": "w2EirmoW29vw"
      }
    },
    {
      "cell_type": "code",
      "source": [
        "eq = \"Y = \" + str(w0)\n",
        "for i in range(X.shape[1]):\n",
        "  eq += \" + (\" + str(w1[0][i]) + \")*X\" + str(i)\n",
        "print(\"Уравнение логической регрессии: \", eq)"
      ],
      "metadata": {
        "colab": {
          "base_uri": "https://localhost:8080/"
        },
        "id": "4yXjQHo17PsZ",
        "outputId": "9705010e-0f37-4363-db1b-487714b7b9a4"
      },
      "execution_count": 235,
      "outputs": [
        {
          "output_type": "stream",
          "name": "stdout",
          "text": [
            "Уравнение логической регрессии:  Y = [-1.49643366e-09] + (-1.9878205993000253e-09)*X0 + (-1.496640577407202e-09)*X1 + (-7.440293570738918e-06)*X2 + (8.510916817071807e-10)*X3 + (7.333258782494976e-07)*X4\n"
          ]
        }
      ]
    },
    {
      "cell_type": "markdown",
      "source": [
        "Выведем confusion matrix"
      ],
      "metadata": {
        "id": "uT2lEpw_4OWT"
      }
    },
    {
      "cell_type": "code",
      "source": [
        "from sklearn.metrics import confusion_matrix, accuracy_score, precision_score, recall_score, f1_score\n",
        "\n",
        "confusion_matrix(y_test, answers_pred)"
      ],
      "metadata": {
        "colab": {
          "base_uri": "https://localhost:8080/"
        },
        "id": "skZc6juf39Ff",
        "outputId": "eb3d5b2e-6a46-4fd7-cacd-ebf1d2c99cb6"
      },
      "execution_count": 236,
      "outputs": [
        {
          "output_type": "execute_result",
          "data": {
            "text/plain": [
              "array([[1327,  695],\n",
              "       [1027,  809]])"
            ]
          },
          "metadata": {},
          "execution_count": 236
        }
      ]
    },
    {
      "cell_type": "code",
      "source": [
        "tp = 1327\n",
        "fp = 695\n",
        "fn = 1027\n",
        "tn = 809\n",
        "print(\"accuracy:\", (tp + tn)/(tp+fp+fn+tn))\n",
        "rc = tp / (tp+fn)\n",
        "pr = tp / (tp+fp)\n",
        "print(\"recall:\", rc)\n",
        "print(\"precision:\", pr)\n",
        "print(\"f1:\", 2*(rc*pr)/(rc+pr))"
      ],
      "metadata": {
        "colab": {
          "base_uri": "https://localhost:8080/"
        },
        "id": "vMwXgfnY9ejp",
        "outputId": "7c2a1e79-9360-4086-ad53-f98c4fe90789"
      },
      "execution_count": 245,
      "outputs": [
        {
          "output_type": "stream",
          "name": "stdout",
          "text": [
            "accuracy: 0.5536547433903577\n",
            "recall: 0.5637213254035683\n",
            "precision: 0.6562809099901088\n",
            "f1: 0.606489945155393\n"
          ]
        }
      ]
    },
    {
      "cell_type": "code",
      "source": [
        "print(\"accuracy:\",accuracy_score(y_test, answers_pred))\n",
        "print(\"recall:\",recall_score(y_test, answers_pred))\n",
        "print(\"precision:\",precision_score(y_test, answers_pred))\n",
        "print(\"f1:\",f1_score(y_test, answers_pred))"
      ],
      "metadata": {
        "colab": {
          "base_uri": "https://localhost:8080/"
        },
        "id": "Un1i4Ad78qax",
        "outputId": "4fd07f15-5eeb-4e25-ed60-063a8f81056c"
      },
      "execution_count": 243,
      "outputs": [
        {
          "output_type": "stream",
          "name": "stdout",
          "text": [
            "accuracy: 0.5536547433903577\n",
            "recall: 0.4406318082788671\n",
            "precision: 0.5378989361702128\n",
            "f1: 0.48443113772455093\n"
          ]
        }
      ]
    },
    {
      "cell_type": "markdown",
      "source": [
        "Вывод: sklearn показывает всё более плачевным"
      ],
      "metadata": {
        "id": "-4my28LC-cYe"
      }
    },
    {
      "cell_type": "markdown",
      "source": [
        "В данном случае модель логической регрессии получилась на очень точной из-за того, что при обработке было отброшено огромное количество данных (таких как имя, описание прифиля и изображение профиля) из-за невозможности их обработки. Также стоит отметить, что количество лайков, ретвитов и твитов плохо репрезентует пол человека"
      ],
      "metadata": {
        "id": "2_iOaMCt-l3N"
      }
    }
  ]
}