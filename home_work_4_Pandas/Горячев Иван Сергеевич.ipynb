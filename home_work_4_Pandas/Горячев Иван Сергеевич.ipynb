{
  "nbformat": 4,
  "nbformat_minor": 0,
  "metadata": {
    "colab": {
      "provenance": [],
      "toc_visible": true
    },
    "kernelspec": {
      "name": "python3",
      "display_name": "Python 3"
    },
    "language_info": {
      "name": "python"
    }
  },
  "cells": [
    {
      "cell_type": "markdown",
      "source": [
        "# Домашнее задание"
      ],
      "metadata": {
        "id": "Lb0fH4pWyGBE"
      }
    },
    {
      "cell_type": "markdown",
      "source": [
        "В домашнем задании вам необходимо рассмтреть данные с олимпиады НТИ по профилю \"Исскусственный интеллект\" за 2019-2020 год.\n",
        "\n",
        "Задачу можно найти по ссылке:\n",
        "\n",
        "https://www.kaggle.com/c/onti-students-performance/data"
      ],
      "metadata": {
        "id": "FbPB2pyrx33h"
      }
    },
    {
      "cell_type": "markdown",
      "source": [
        "## **Как загрузить данные в Google Colab?**\n",
        "\n",
        "1. Из Github (файлы <25 МБ)\n",
        "2. С локального диска\n",
        "3. С Google Диска"
      ],
      "metadata": {
        "id": "0g6EbTpkyLb-"
      }
    },
    {
      "cell_type": "code",
      "source": [
        "# Github\n",
        "# 1. Нажмите на файл с данными, которые хотите подключить\n",
        "# 2. Нажмите \"Raw\"\n",
        "# 3. Скопируйте ссылку открывшейся старницы\n",
        "import pandas as pd\n",
        "\n",
        "url_studs_info = 'https://raw.githubusercontent.com/Adelaaas/Data_science_basic_22-23_1/main/class_work_4_Pandas/ONTI%20Students%20performance/studs_info.csv'\n",
        "url_X_train = 'https://raw.githubusercontent.com/Adelaaas/Data_science_basic_22-23_1/main/class_work_4_Pandas/ONTI%20Students%20performance/X_train.csv'\n",
        "url_y_train = 'https://raw.githubusercontent.com/Adelaaas/Data_science_basic_22-23_1/main/class_work_4_Pandas/ONTI%20Students%20performance/y_train.csv'\n",
        "url_zachety = 'https://raw.githubusercontent.com/Adelaaas/Data_science_basic_22-23_1/main/class_work_4_Pandas/ONTI%20Students%20performance/zachety.csv'\n",
        "\n",
        "studs_info = pd.read_csv(url_studs_info)\n",
        "X_train = pd.read_csv(url_X_train)\n",
        "X_train.rename(columns={'Unnamed: 0': 'index'}, inplace=True)\n",
        "y_train = pd.read_csv(url_y_train)\n",
        "zachety = pd.read_csv(url_zachety)"
      ],
      "metadata": {
        "id": "1HDXz97qyMaw"
      },
      "execution_count": 159,
      "outputs": []
    },
    {
      "cell_type": "markdown",
      "source": [
        "## Вариант 1."
      ],
      "metadata": {
        "id": "KAW0d_zSyX_d"
      }
    },
    {
      "cell_type": "markdown",
      "source": [
        "Кто делает:\n",
        "1. Анохин Георгий Александрович\n",
        "2. Георгиев Денис Дмитриевич \n",
        "3. Горячев Иван Сергеевич\n",
        "4. Даниярбек уулу Нурбол\n",
        "5. Дорохов Матвей Дмитриевич \n",
        "6. Зайцев Егор Андреевич"
      ],
      "metadata": {
        "id": "uz5vhuFPyZAk"
      }
    },
    {
      "cell_type": "markdown",
      "source": [
        "1. Посмотреть размерность дата фреймов.\n",
        "2. Соедить два датафрейма X_train и y_train в один train по индексам.\n",
        "3. Посчитать пропуски в получившемся датафрейме train.\n",
        "4. Посчитать сколько раз встречается каждая специальность в колонке studs_info['направление (специальность)'].\n",
        "5. Создать новый датафрейм из studs_info, в котором будут только женщины с лечебного дела.\n",
        "6. Разложить колонку \"Дата выпуска\" на три: Год выпуска, Месяц выпуска, День выпуска.\n",
        "7. Посчитать сколько уникальных значений в колонке studs_info['Категория обучения'].\n",
        "8. Заменить в колонке studs_info['Категория обучения'] все строковые категории на числовые.\n",
        "9. Удалить ненужную на ваш вгляд колонку из датафрейма studs_info.\n",
        "10. Посчитать сколько мужчин выпустились 2019-08-31."
      ],
      "metadata": {
        "id": "YyYlw9TSybvn"
      }
    },
    {
      "cell_type": "code",
      "source": [
        "# 1\n",
        "print('1)', X_train.shape, y_train.shape)"
      ],
      "metadata": {
        "id": "uFuF5BrDydfF",
        "outputId": "71894020-c3f4-4c89-bbed-fec4199dc2b3",
        "colab": {
          "base_uri": "https://localhost:8080/"
        }
      },
      "execution_count": 160,
      "outputs": [
        {
          "output_type": "stream",
          "name": "stdout",
          "text": [
            "1) (105058, 8) (105058, 2)\n"
          ]
        }
      ]
    },
    {
      "cell_type": "code",
      "source": [
        "# 2\n",
        "train = pd.merge(X_train, y_train)"
      ],
      "metadata": {
        "id": "yNLifB83fWg6"
      },
      "execution_count": 161,
      "outputs": []
    },
    {
      "cell_type": "code",
      "source": [
        "# 3\n",
        "# train.info()\n",
        "train.isnull().sum()"
      ],
      "metadata": {
        "id": "kBGPUsaphb70",
        "outputId": "8210a1d1-b8c3-45f5-aa46-68e1e8673fc0",
        "colab": {
          "base_uri": "https://localhost:8080/"
        }
      },
      "execution_count": 162,
      "outputs": [
        {
          "output_type": "execute_result",
          "data": {
            "text/plain": [
              "index          0\n",
              "STD_ID         0\n",
              "НАПРАВЛЕНИЕ    0\n",
              "ГОД            0\n",
              "КУРС           0\n",
              "СЕМЕСТР        0\n",
              "АТТЕСТАЦИЯ     0\n",
              "ДИСЦИПЛИНА     0\n",
              "mark           0\n",
              "dtype: int64"
            ]
          },
          "metadata": {},
          "execution_count": 162
        }
      ]
    },
    {
      "cell_type": "code",
      "source": [
        "# 4\n",
        "studs_info['направление (специальность)'].value_counts()"
      ],
      "metadata": {
        "id": "GcAz-vdsh0mf",
        "outputId": "8ab3a957-de70-40e5-c564-f37b777bf6da",
        "colab": {
          "base_uri": "https://localhost:8080/"
        }
      },
      "execution_count": 163,
      "outputs": [
        {
          "output_type": "execute_result",
          "data": {
            "text/plain": [
              "Лечебное дело                                                                870\n",
              "Юриспруденция                                                                462\n",
              "Стоматология                                                                 452\n",
              "Педагогическое образование (с двумя профилями подготовки)                    369\n",
              "Педагогическое образование                                                   279\n",
              "Экономика                                                                    226\n",
              "Строительство                                                                214\n",
              "Менеджмент                                                                   184\n",
              "Лингвистика                                                                  136\n",
              "Специальное (дефектологическое) образование                                  131\n",
              "Теплоэнергетика и теплотехника                                               126\n",
              "Журналистика                                                                 118\n",
              "Конструкторско-технологическое обеспечение машиностроительных производств    115\n",
              "Фармация                                                                     104\n",
              "Агроинженерия                                                                100\n",
              "Конструирование и технология электронных средств                              97\n",
              "Информатика и вычислительная техника                                          95\n",
              "Управление персоналом                                                         88\n",
              "Архитектура                                                                   87\n",
              "Эксплуатация транспортно-технологических машин и комплексов                   86\n",
              "Психология                                                                    80\n",
              "Дизайн                                                                        78\n",
              "Землеустройство и кадастры                                                    74\n",
              "Зоотехния                                                                     73\n",
              "Дизайн архитектурной среды                                                    72\n",
              "Технология производства и переработки сельскохозяйственной продукции          63\n",
              "Лесное дело                                                                   61\n",
              "Филология                                                                     55\n",
              "Агрономия                                                                     52\n",
              "Биология                                                                      50\n",
              "Фундаментальная и прикладная химия                                            48\n",
              "История                                                                       45\n",
              "Технология художественной обработки материалов                                44\n",
              "Государственное и муниципальное управление                                    44\n",
              "Радиотехника                                                                  40\n",
              "Электроника и наноэлектроника                                                 36\n",
              "Культурология                                                                 36\n",
              "Прикладная математика и информатика                                           35\n",
              "Экология и природопользование                                                 32\n",
              "География                                                                     32\n",
              "Психолого-педагогическое образование                                          30\n",
              "Философия                                                                     19\n",
              "Мехатроника и робототехника                                                   18\n",
              "Сестринское дело                                                               9\n",
              "Name: направление (специальность), dtype: int64"
            ]
          },
          "metadata": {},
          "execution_count": 163
        }
      ]
    },
    {
      "cell_type": "code",
      "source": [
        "# 5\n",
        "# Создать новый датафрейм из studs_info, в котором будут только женщины с лечебного дела.\n",
        "import numpy as np\n",
        "mask1 = studs_info['Пол']=='Ж'\n",
        "mask2 = studs_info['направление (специальность)']=='Лечебное дело'\n",
        "\n",
        "new_df = studs_info[np.logical_and(mask1, mask2)]"
      ],
      "metadata": {
        "id": "Q450tKgsio8j"
      },
      "execution_count": 164,
      "outputs": []
    },
    {
      "cell_type": "code",
      "source": [
        "# 6\n",
        "# Разложить колонку \"Дата выпуска\" на три: Год выпуска, Месяц выпуска, День выпуска.\n",
        "studs_info['Год выпуска'], studs_info['Месяц выпуска'], studs_info['День выпуска'] = \\\n",
        "studs_info['Дата выпуска'].str.split('-', expand=True)[0], \\\n",
        "studs_info['Дата выпуска'].str.split('-', expand=True)[1], \\\n",
        "studs_info['Дата выпуска'].str.split('-', expand=True)[2]"
      ],
      "metadata": {
        "id": "r_W-taKvksGN"
      },
      "execution_count": 165,
      "outputs": []
    },
    {
      "cell_type": "code",
      "source": [
        "# 7 \n",
        "# Посчитать сколько уникальных значений в колонке studs_info['Категория обучения'].\n",
        "len(studs_info['Категория обучения'].unique())"
      ],
      "metadata": {
        "id": "Z4ujmlqylvdl",
        "outputId": "60c8b6c5-e3c4-4f77-afa3-1906f1dafb40",
        "colab": {
          "base_uri": "https://localhost:8080/"
        }
      },
      "execution_count": 166,
      "outputs": [
        {
          "output_type": "execute_result",
          "data": {
            "text/plain": [
              "3"
            ]
          },
          "metadata": {},
          "execution_count": 166
        }
      ]
    },
    {
      "cell_type": "code",
      "source": [
        "# 8\n",
        "# Заменить в колонке studs_info['Категория обучения'] все строковые категории на числовые.\n",
        "studs_info['Категория обучения'] = studs_info['Категория обучения'].map({'БП':1, 'ДОГ': 2})"
      ],
      "metadata": {
        "id": "y6NCfYd9nIXa"
      },
      "execution_count": 167,
      "outputs": []
    },
    {
      "cell_type": "code",
      "source": [
        "# 9\n",
        "# Удалить ненужную на ваш вгляд колонку из датафрейма studs_info.\n",
        "studs_info = studs_info.drop(columns=['Год выпуска', 'Месяц выпуска', 'День выпуска'])"
      ],
      "metadata": {
        "id": "VQ5Nj8QpniGm"
      },
      "execution_count": 168,
      "outputs": []
    },
    {
      "cell_type": "code",
      "source": [
        "# 10\n",
        "# Посчитать сколько мужчин выпустились 2019-08-31\n",
        "mask1 = studs_info['Пол'] == 'М'\n",
        "mask2 = studs_info['Дата выпуска'] == '2019-08-31'\n",
        "len(studs_info[np.logical_and(mask1, mask2)])\n"
      ],
      "metadata": {
        "id": "QBdOU9aLoDT3",
        "outputId": "c13dc94c-3bd7-445b-da7b-3cdacdb93f71",
        "colab": {
          "base_uri": "https://localhost:8080/"
        }
      },
      "execution_count": 173,
      "outputs": [
        {
          "output_type": "execute_result",
          "data": {
            "text/plain": [
              "81"
            ]
          },
          "metadata": {},
          "execution_count": 173
        }
      ]
    },
    {
      "cell_type": "markdown",
      "source": [
        "## Вариант 2."
      ],
      "metadata": {
        "id": "60ibBknFydqG"
      }
    },
    {
      "cell_type": "markdown",
      "source": [
        "Кто делает:\n",
        "1. Зверев Александр Александрович \n",
        "2. Зимина Александра Георгиевна\n",
        "3. Иванов Александр Андреевич \n",
        "4. Калентьев (Топилин) Константин Юрьевич\n",
        "5. Мартюшев Владислав Алексеевич"
      ],
      "metadata": {
        "id": "bCvfKEe6yhTU"
      }
    },
    {
      "cell_type": "markdown",
      "source": [
        "1. Посмотреть размерность дата фреймов.\n",
        "2. Соедить два датафрейма X_train и y_train в один train по индексам.\n",
        "3. Посчитать пропуски в датафрейме studs_info.\n",
        "4. Посчитать сколько мужчин, сколько женщин в датафрейме studs_info.\n",
        "5. Создать новый датафрейм из studs_info, в котором будут только мужчины 2019-06-30 года выпуска.\n",
        "6. Разложить колонку \"Дата выдачи\" на четыре: Год выдачи, Месяц выдачи, День выдачи, Время выдачи.\n",
        "7. Посчитать сколько уникальных значений в колонке studs_info['Статус'] и сколько раз каждое значение встречается в датафрейм.\n",
        "8. Посчитать сколько раз какая оценка встречатся в датафрейм y_train.\n",
        "9. Посчитать средний балл для студента с ID=175711 по всем предметам.\n",
        "10. Удалить любую ненужны колонку на ваш вгляд из датафрейм train."
      ],
      "metadata": {
        "id": "NR37HA6dyjMf"
      }
    },
    {
      "cell_type": "code",
      "source": [
        "# Ваше решение"
      ],
      "metadata": {
        "id": "N7AQr_fpyk5d"
      },
      "execution_count": null,
      "outputs": []
    },
    {
      "cell_type": "markdown",
      "source": [
        "## Вариант 3."
      ],
      "metadata": {
        "id": "nedg9G4FynNZ"
      }
    },
    {
      "cell_type": "markdown",
      "source": [
        "Кто делает:\n",
        "1. Нечаев Никита Максимович\n",
        "2. Нуромский Евгений Михайлович\n",
        "3. Родин Андрей Дмитриевич\n",
        "4. Рыженко Роман Владиславович\n",
        "5. Юлов Егор Владимирович "
      ],
      "metadata": {
        "id": "6yxwMjM9yp61"
      }
    },
    {
      "cell_type": "markdown",
      "source": [
        "Задания:\n",
        "1. Посмотреть размерность дата фреймов.\n",
        "2. Соедить два датафрейма X_train и y_train в один train по индексам.\n",
        "3. Посчитать пропуски в датафрейме studs_info.\n",
        "4. Посчитать сколько уникальных значений в колонке АТТЕСТАЦИЯ и сколько раз каждое из них встречается.\n",
        "5. Переименовать все колонки датафрейм train, чтобы названия были маленькими буквами.\n",
        "6. Разложить колонку \"направление\" на две: Код направления, Название направления.\n",
        "7. Создать новый датафрейм, в котором будут только мужчины 3 курса обучения.\n",
        "8. Заменить все строковые значения в колонке Пол на числовые.\n",
        "9. Сколько всего студентов сдавали предмет \"Информатика\" в виде экзамена? И какой средний балл по всем сдававшим?"
      ],
      "metadata": {
        "id": "lObmItbYyqiz"
      }
    },
    {
      "cell_type": "code",
      "source": [
        "# Ваше решение"
      ],
      "metadata": {
        "id": "kXtVspQUysSA"
      },
      "execution_count": null,
      "outputs": []
    }
  ]
}