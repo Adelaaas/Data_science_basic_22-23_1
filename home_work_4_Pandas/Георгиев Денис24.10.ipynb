{
  "cells": [
    {
      "cell_type": "markdown",
      "metadata": {
        "id": "Lb0fH4pWyGBE"
      },
      "source": [
        "# Домашнее задание"
      ]
    },
    {
      "cell_type": "markdown",
      "metadata": {
        "id": "FbPB2pyrx33h"
      },
      "source": [
        "В домашнем задании вам необходимо рассмтреть данные с олимпиады НТИ по профилю \"Исскусственный интеллект\" за 2019-2020 год.\n",
        "\n",
        "Задачу можно найти по ссылке:\n",
        "\n",
        "https://www.kaggle.com/c/onti-students-performance/data"
      ]
    },
    {
      "cell_type": "markdown",
      "metadata": {
        "id": "0g6EbTpkyLb-"
      },
      "source": [
        "## **Как загрузить данные в Google Colab?**\n",
        "\n",
        "1. Из Github (файлы <25 МБ)\n",
        "2. С локального диска\n",
        "3. С Google Диска"
      ]
    },
    {
      "cell_type": "code",
      "execution_count": null,
      "metadata": {
        "id": "1HDXz97qyMaw"
      },
      "outputs": [],
      "source": [
        "# Github\n",
        "# 1. Нажмите на файл с данными, которые хотите подключить\n",
        "# 2. Нажмите \"Raw\"\n",
        "# 3. Скопируйте ссылку открывшейся старницы\n",
        "import pandas as pd\n",
        "\n",
        "url = 'https://raw.githubusercontent.com/Adelaaas/Data_science_basic_22-23_1/main/class_work_4_Pandas/ONTI%20Students%20performance/X_train.csv'\n",
        "df1 = pd.read_csv(url)\n",
        "\n",
        "df1.head()"
      ]
    },
    {
      "cell_type": "code",
      "execution_count": null,
      "metadata": {
        "id": "Ny4jIq-qyQDr"
      },
      "outputs": [],
      "source": [
        "# С локального компьютера\n",
        "\n",
        "from google.colab import files\n",
        "uploaded = files.upload()"
      ]
    },
    {
      "cell_type": "code",
      "execution_count": null,
      "metadata": {
        "id": "hf8wQfdfyQbg"
      },
      "outputs": [],
      "source": [
        "studs_info = pd.read_csv('studs_info.csv')\n",
        "X_train = pd.read_csv('X_train.csv')\n",
        "y_train = pd.read_csv('y_train.csv')\n",
        "zachety = pd.read_csv('zachety.csv')"
      ]
    },
    {
      "cell_type": "code",
      "execution_count": null,
      "metadata": {
        "id": "oiKry3qfySAM"
      },
      "outputs": [],
      "source": [
        "# Google disk\n",
        "\n",
        "from google.colab import drive\n",
        "drive.mount('/content/drive')"
      ]
    },
    {
      "cell_type": "code",
      "execution_count": null,
      "metadata": {
        "id": "OnSm0IL2yVHJ"
      },
      "outputs": [],
      "source": [
        "path = \"copied path\"\n",
        "# /content/drive/MyDrive/Data Science для школьников/ОНТИ /ONTI Students performance/X_train.csv\n",
        "df_bonus = pd.read_csv(path)"
      ]
    },
    {
      "cell_type": "markdown",
      "metadata": {
        "id": "KAW0d_zSyX_d"
      },
      "source": [
        "## Вариант 1."
      ]
    },
    {
      "cell_type": "markdown",
      "metadata": {
        "id": "uz5vhuFPyZAk"
      },
      "source": [
        "Кто делает:\n",
        "1. Анохин Георгий Александрович\n",
        "2. Георгиев Денис Дмитриевич \n",
        "3. Горячев Иван Сергеевич\n",
        "4. Даниярбек уулу Нурбол\n",
        "5. Дорохов Матвей Дмитриевич \n",
        "6. Зайцев Егор Андреевич"
      ]
    },
    {
      "cell_type": "markdown",
      "metadata": {
        "id": "YyYlw9TSybvn"
      },
      "source": [
        "1. Посмотреть размерность дата фреймов.\n",
        "2. Соедить два датафрейма X_train и y_train в один train по индексам.\n",
        "3. Посчитать пропуски в получившемся датафрейме train.\n",
        "4. Посчитать сколько раз встречается каждая специальность в колонке studs_info['направление (специальность)'].\n",
        "5. Создать новый датафрейм из studs_info, в котором будут только женщины с лечебного дела.\n",
        "6. Разложить колонку \"Дата выпуска\" на три: Год выпуска, Месяц выпуска, День выпуска.\n",
        "7. Посчитать сколько уникальных значений в колонке studs_info['Категория обучения'].\n",
        "8. Заменить в колонке studs_info['Категория обучения'] все строковые категории на числовые.\n",
        "9. Удалить ненужную на ваш вгляд колонку из датафрейма studs_info.\n",
        "10. Посчитать сколько мужчин выпустились 2019-08-31."
      ]
    },
    {
      "cell_type": "code",
      "execution_count": null,
      "metadata": {
        "id": "uFuF5BrDydfF"
      },
      "outputs": [],
      "source": [
        "import numpy as np\n",
        "import pandas as pd\n",
        "import pathlib\n",
        "\n",
        "def getDf(file):\n",
        "\turl = \"https://raw.githubusercontent.com/Adelaaas/Data_science_basic_22-23_1/main/class_work_4_Pandas/ONTI%20Students%20performance/\" + file + \".csv\"\n",
        "\treturn pd.read_csv(url)\n",
        "\n",
        "files = ['X_train', 'y_train', 'zachety', 'studs_info']\n",
        "\n",
        "print(\"1:\")\n",
        "for file in files:\n",
        "\tdf = getDf(file)\n",
        "\tprint(file + \":\")\n",
        "\tprint(\"\tlen: \", len(df))\n",
        "\tprint(\"\tsize: \", df.size)\n",
        "\tprint(\"\tshape: \", df.shape)\n",
        "print('////////////////\\n\\n')\n",
        "\n",
        "print(\"2:\")\n",
        "X_train = getDf('X_train')\n",
        "y_train = getDf('y_train')\n",
        "df = pd.concat([X_train, y_train], axis=0)\n",
        "print(df.head)\n",
        "print('////////////////\\n\\n')\n",
        "\n",
        "print(\"3:\")\n",
        "print(df.isnull().sum())\n",
        "print('////////////////\\n\\n')\n",
        "\n",
        "print(\"4:\")\n",
        "df = getDf('studs_info')\n",
        "print(df['РЅР°РїСЂР°РІР»РµРЅРёРµ (СЃРїРµС†РёР°Р»СЊРЅРѕСЃС‚СЊ)'].value_counts())\n",
        "print('////////////////\\n\\n')\n",
        "\n",
        "print(\"5:\")\n",
        "new_df = df[(df['РЅР°РїСЂР°РІР»РµРЅРёРµ (СЃРїРµС†РёР°Р»СЊРЅРѕСЃС‚СЊ)'] == 'Р›РµС‡РµР±РЅРѕРµ РґРµР»Рѕ') & (df['РџРѕР»'] == 'Р–')]\n",
        "print(new_df.head)\n",
        "print('////////////////\\n\\n')\n",
        "\n",
        "print(\"6:\")\n",
        "new_df = df['Р”Р°С‚Р° РІС‹РїСѓСЃРєР°'].str.split('-', expand=True)\n",
        "new_df.columns = ['Р“РѕРґ РІС‹РїСѓСЃРєР°', 'РњРµСЃСЏС† РІС‹РїСѓСЃРєР°', 'Р”РµРЅСЊ РІС‹РїСѓСЃРєР°']\n",
        "new_df = pd.concat([df.drop(columns=['Р”Р°С‚Р° РІС‹РїСѓСЃРєР°'], axis=1), new_df], axis=1)\n",
        "print(new_df.columns)\n",
        "print('////////////////\\n\\n')\n",
        "\n",
        "print(\"7:\")\n",
        "new_df = len(df['РљР°С‚РµРіРѕСЂРёСЏ РѕР±СѓС‡РµРЅРёСЏ'].unique())\n",
        "print(new_df)\n",
        "print('////////////////\\n\\n')\n",
        "\n",
        "print(\"8:\")\n",
        "new_df = df.copy()\n",
        "new_df['РљР°С‚РµРіРѕСЂРёСЏ РѕР±СѓС‡РµРЅРёСЏ'] = 1\n",
        "print(new_df['РљР°С‚РµРіРѕСЂРёСЏ РѕР±СѓС‡РµРЅРёСЏ'])\n",
        "print('////////////////\\n\\n')\n",
        "\n",
        "print(\"9:\")\n",
        "print(df.drop(columns=['РЁРёС„СЂ']), df.drop(columns=['РЁРёС„СЂ']).columns)\n",
        "print('////////////////\\n\\n')\n",
        "\n",
        "print(\"10:\")\n",
        "print(df['Р”Р°С‚Р° РІС‹РїСѓСЃРєР°'].value_counts()['2019-08-31'])"
      ]
    },
    {
      "cell_type": "markdown",
      "metadata": {
        "id": "60ibBknFydqG"
      },
      "source": [
        "## Вариант 2."
      ]
    },
    {
      "cell_type": "markdown",
      "metadata": {
        "id": "bCvfKEe6yhTU"
      },
      "source": [
        "Кто делает:\n",
        "1. Зверев Александр Александрович \n",
        "2. Зимина Александра Георгиевна\n",
        "3. Иванов Александр Андреевич \n",
        "4. Калентьев (Топилин) Константин Юрьевич\n",
        "5. Мартюшев Владислав Алексеевич"
      ]
    },
    {
      "cell_type": "markdown",
      "metadata": {
        "id": "NR37HA6dyjMf"
      },
      "source": [
        "1. Посмотреть размерность дата фреймов.\n",
        "2. Соедить два датафрейма X_train и y_train в один train по индексам.\n",
        "3. Посчитать пропуски в датафрейме studs_info.\n",
        "4. Посчитать сколько мужчин, сколько женщин в датафрейме studs_info.\n",
        "5. Создать новый датафрейм из studs_info, в котором будут только мужчины 2019-06-30 года выпуска.\n",
        "6. Разложить колонку \"Дата выдачи\" на четыре: Год выдачи, Месяц выдачи, День выдачи, Время выдачи.\n",
        "7. Посчитать сколько уникальных значений в колонке studs_info['Статус'] и сколько раз каждое значение встречается в датафрейм.\n",
        "8. Посчитать сколько раз какая оценка встречатся в датафрейм y_train.\n",
        "9. Посчитать средний балл для студента с ID=175711 по всем предметам.\n",
        "10. Удалить любую ненужны колонку на ваш вгляд из датафрейм train."
      ]
    },
    {
      "cell_type": "code",
      "execution_count": null,
      "metadata": {
        "id": "N7AQr_fpyk5d"
      },
      "outputs": [],
      "source": [
        "# Ваше решение"
      ]
    },
    {
      "cell_type": "markdown",
      "metadata": {
        "id": "nedg9G4FynNZ"
      },
      "source": [
        "## Вариант 3."
      ]
    },
    {
      "cell_type": "markdown",
      "metadata": {
        "id": "6yxwMjM9yp61"
      },
      "source": [
        "Кто делает:\n",
        "1. Нечаев Никита Максимович\n",
        "2. Нуромский Евгений Михайлович\n",
        "3. Родин Андрей Дмитриевич\n",
        "4. Рыженко Роман Владиславович\n",
        "5. Юлов Егор Владимирович "
      ]
    },
    {
      "cell_type": "markdown",
      "metadata": {
        "id": "lObmItbYyqiz"
      },
      "source": [
        "Задания:\n",
        "1. Посмотреть размерность дата фреймов.\n",
        "2. Соедить два датафрейма X_train и y_train в один train по индексам.\n",
        "3. Посчитать пропуски в датафрейме studs_info.\n",
        "4. Посчитать сколько уникальных значений в колонке АТТЕСТАЦИЯ и сколько раз каждое из них встречается.\n",
        "5. Переименовать все колонки датафрейм train, чтобы названия были маленькими буквами.\n",
        "6. Разложить колонку \"направление\" на две: Код направления, Название направления.\n",
        "7. Создать новый датафрейм, в котором будут только мужчины 3 курса обучения.\n",
        "8. Заменить все строковые значения в колонке Пол на числовые.\n",
        "9. Сколько всего студентов сдавали предмет \"Информатика\" в виде экзамена? И какой средний балл по всем сдававшим?"
      ]
    },
    {
      "cell_type": "code",
      "execution_count": null,
      "metadata": {
        "id": "kXtVspQUysSA"
      },
      "outputs": [],
      "source": [
        "# Ваше решение"
      ]
    }
  ],
  "metadata": {
    "colab": {
      "provenance": [],
      "toc_visible": true
    },
    "kernelspec": {
      "display_name": "Python 3.10.0 64-bit",
      "language": "python",
      "name": "python3"
    },
    "language_info": {
      "name": "python",
      "version": "3.10.0"
    },
    "vscode": {
      "interpreter": {
        "hash": "afb734500600fd355917ca529030176ea0ca205570884b88f2f6f7d791fd3fbe"
      }
    }
  },
  "nbformat": 4,
  "nbformat_minor": 0
}
