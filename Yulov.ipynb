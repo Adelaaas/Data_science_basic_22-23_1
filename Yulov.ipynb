{
  "nbformat": 4,
  "nbformat_minor": 0,
  "metadata": {
    "colab": {
      "provenance": []
    },
    "kernelspec": {
      "name": "python3",
      "display_name": "Python 3"
    },
    "language_info": {
      "name": "python"
    }
  },
  "cells": [
    {
      "cell_type": "code",
      "execution_count": 10,
      "metadata": {
        "colab": {
          "base_uri": "https://localhost:8080/",
          "height": 279
        },
        "id": "Zh9lD2WEt_dD",
        "outputId": "15c2d1d7-c51e-4596-d5ac-80cda265df09"
      },
      "outputs": [
        {
          "output_type": "display_data",
          "data": {
            "text/plain": [
              "<Figure size 432x288 with 1 Axes>"
            ],
            "image/png": "[encoded data removed]"
          },
          "metadata": {
            "needs_background": "light"
          }
        }
      ],
      "source": [
        "import numpy as np\n",
        "import matplotlib.pyplot as plt\n",
        "import pandas as pd\n",
        "from sklearn.cluster import KMeans\n",
        "x = [11.5, 9.5, 11, 13.5, 17, 15.3, 14.5, 3.7, 5.4, 7.5]\n",
        "y = [16.5, 15.5, 14.5, 7.5, 6.8, 5.6, 5, 7, 4.7, 4.3]\n",
        "\n",
        "m = pd.DataFrame({\"x\":x,\"y\":y})\n",
        "kmeans = KMeans(n_clusters=3)\n",
        "kmeans.fit(m)\n",
        "Y_pred = kmeans.labels_\n",
        "Y_pred\n",
        "m['cluster'] = Y_pred\n",
        "m\n",
        "plt.plot(m[m['cluster']==0]['x'], m[m['cluster']==0]['y'], 'bo', label='class1')\n",
        "\n",
        "plt.plot(m[m['cluster']==1]['x'], m[m['cluster']==1]['y'], 'go', label='class2')\n",
        "\n",
        "plt.plot(m[m['cluster']==2]['x'], m[m['cluster']==2]['y'], 'ro', label='class3')\n",
        "\n",
        "plt.xlabel('x')\n",
        "plt.ylabel('x')\n",
        "plt.legend(loc=0)\n",
        "plt.show()\n"
      ]
    },
    {
      "cell_type": "code",
      "source": [
        "X = m.loc[:,['x','y']]\n",
        "\n",
        "SSE = [] # Сумма квадратов ошибок для каждого результата\n",
        "\n",
        "for k in range(1,9):\n",
        "    kmeans = KMeans(n_clusters = k) # построить кластер\n",
        "    kmeans.fit(X)\n",
        "    SSE.append(kmeans.inertia_)\n",
        " \n",
        "plt.plot(range(1,9), SSE, marker='s');\n",
        "plt.xlabel('k')\n",
        "plt.ylabel('SSE');\n",
        "plt.show()\n"
      ],
      "metadata": {
        "colab": {
          "base_uri": "https://localhost:8080/",
          "height": 279
        },
        "id": "2dT6xUjquG9C",
        "outputId": "5faf9877-357d-4b52-bfcd-6ce6cc17fa3e"
      },
      "execution_count": 11,
      "outputs": [
        {
          "output_type": "display_data",
          "data": {
            "text/plain": [
              "<Figure size 432x288 with 1 Axes>"
            ],
            "image/png": "[encoded data removed]"
          },
          "metadata": {
            "needs_background": "light"
          }
        }
      ]
    },
    {
      "cell_type": "code",
      "source": [],
      "metadata": {
        "id": "I_a90L2Yy19x"
      },
      "execution_count": null,
      "outputs": []
    },
    {
      "cell_type": "code",
      "source": [],
      "metadata": {
        "id": "8MxODPw9y2Pv"
      },
      "execution_count": null,
      "outputs": []
    }
  ]
}