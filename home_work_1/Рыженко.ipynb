{
  "nbformat": 4,
  "nbformat_minor": 0,
  "metadata": {
    "colab": {
      "provenance": []
    },
    "kernelspec": {
      "name": "python3",
      "display_name": "Python 3"
    },
    "language_info": {
      "name": "python"
    }
  },
  "cells": [
    {
      "cell_type": "code",
      "execution_count": 10,
      "metadata": {
        "colab": {
          "base_uri": "https://localhost:8080/"
        },
        "id": "k8DOnmO4j1d6",
        "outputId": "a26c33dc-ca1b-485d-d38f-4e3f84fc2f3c"
      },
      "outputs": [
        {
          "output_type": "stream",
          "name": "stdout",
          "text": [
            "[3, 5, -4, 0, 0, 0]\n"
          ]
        }
      ],
      "source": [
        "# Задача 1\n",
        "\n",
        "a = [3, 0, 5, 0, 0, -4]\n",
        "fl = 1\n",
        "j=0\n",
        "while (fl==1):\n",
        "  fl = 0\n",
        "  for i in range(len(a)-1-j,0,-1):\n",
        "    if a[i-1] == 0:\n",
        "      fl = 1\n",
        "      a[i] += a[i-1]\n",
        "      a[i-1] = a[i] - a[i-1]\n",
        "      a[i] = a[i] - a[i-1]\n",
        "  j+=1\n",
        "\n",
        "print(a)"
      ]
    },
    {
      "cell_type": "code",
      "source": [
        "# Задача 2\n",
        "\n",
        "s = input().split(' ')\n",
        "s_dict = dict()\n",
        "for i in s:\n",
        "  if (i in s_dict) == False:\n",
        "    s_dict[i] = 1\n",
        "    continue\n",
        "  s_dict[i] += + 1\n",
        "\n",
        "print(s_dict)"
      ],
      "metadata": {
        "colab": {
          "base_uri": "https://localhost:8080/"
        },
        "id": "C5-oozxtkQoc",
        "outputId": "64849353-dc70-4f6b-8853-b4f79569e1cb"
      },
      "execution_count": 33,
      "outputs": [
        {
          "output_type": "stream",
          "name": "stdout",
          "text": [
            "slovo slovo net nety slovo\n",
            "{'slovo': 3, 'net': 1, 'nety': 1}\n"
          ]
        }
      ]
    },
    {
      "cell_type": "code",
      "source": [
        "# Задача 3\n",
        "\n",
        "x = int(input())\n",
        "y = int(input())\n",
        "r = int(input())\n",
        "\n",
        "print('inside'  if x**2 + y**2 <= r**2  else  'outside')"
      ],
      "metadata": {
        "id": "ckI6Z9OZrxAU"
      },
      "execution_count": null,
      "outputs": []
    },
    {
      "cell_type": "code",
      "source": [
        "# Задача 4\n",
        "\n",
        "names = ['Никита', 'Евгений', 'Андрей', 'Роман', 'Егор']\n",
        "surnames = ['Нечаев', 'Нуромский', 'Родин', 'Рыженко', 'Юлов']\n",
        "\n",
        "new = [names[i]+' '+surnames[i] for i in range(len(names))]\n",
        "print(new)"
      ],
      "metadata": {
        "colab": {
          "base_uri": "https://localhost:8080/"
        },
        "id": "IKnuCvTWr0CG",
        "outputId": "8d68955d-88a0-4c6f-d172-2442ff4f2527"
      },
      "execution_count": 37,
      "outputs": [
        {
          "output_type": "stream",
          "name": "stdout",
          "text": [
            "['Никита Нечаев', 'Евгений Нуромский', 'Андрей Родин', 'Роман Рыженко', 'Егор Юлов']\n"
          ]
        }
      ]
    }
  ]
}