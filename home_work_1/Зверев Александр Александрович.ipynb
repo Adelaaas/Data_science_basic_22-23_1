{
 "cells": [
  {
   "cell_type": "markdown",
   "metadata": {
    "id": "qpl5XkfSlYyn"
   },
   "source": [
    "# Вариант 2"
   ]
  },
  {
   "cell_type": "markdown",
   "metadata": {
    "id": "L5MIq7J3lcz3"
   },
   "source": [
    "***Кто делает***:\n",
    "\n",
    "1. Зайцев Егор Андреевич\n",
    "2. Зверев Александр Александрович \n",
    "3. Зимина Александра Георгиевна\n",
    "4. Иванов Александр Андреевич \n",
    "5. Калентьев (Топилин) Константин Юрьевич\n",
    "6. Мартюшев Владислав Алексеевич"
   ]
  },
  {
   "cell_type": "markdown",
   "metadata": {
    "id": "suxuOHmSli09"
   },
   "source": [
    "**Задача 1.**\n",
    "\n",
    "Напишите программу, которая принимает два списка и выводит все элементы первого, которых нет во втором."
   ]
  },
  {
   "cell_type": "code",
   "execution_count": null,
   "metadata": {
    "id": "Fx0y6uvQlqZO"
   },
   "outputs": [],
   "source": [
    "a = list(map(int, input(\"List a: \").split()))\n",
    "b = list(map(int, input(\"List b: \").split()))\n",
    "c = []\n",
    "for i in range(len(a)):\n",
    "    if not a[i] in b:\n",
    "        c.append(a[i])\n",
    "print(c)"
   ]
  },
  {
   "cell_type": "markdown",
   "metadata": {
    "id": "QSWi4FNvlpPK"
   },
   "source": [
    "**Задача 2.**\n",
    "\n",
    "Вам дан список, переставьте соседние элементы местами."
   ]
  },
  {
   "cell_type": "code",
   "execution_count": null,
   "metadata": {
    "id": "vrr5JJkVoEcr"
   },
   "outputs": [],
   "source": [
    "lst= ['a', 4, 'hello', (1,5), 10, 'b']\n",
    "for i in range(0, len(lst), 2):\n",
    "    lst[i], lst[i+1] = lst[i+1], lst[i]\n",
    "print(lst)"
   ]
  },
  {
   "cell_type": "markdown",
   "metadata": {
    "id": "7VpdDp3EoIju"
   },
   "source": [
    "**Задача 3.**\n",
    "\n",
    "С клавиатуры вводится слово. Напишите проверку на то, является ли строка палиндромом. Палиндром — это слово или фраза, которые одинаково читаются слева направо и справа налево."
   ]
  },
  {
   "cell_type": "code",
   "execution_count": null,
   "metadata": {
    "id": "TLBqPcawoK1R"
   },
   "outputs": [],
   "source": [
    "s = input()\n",
    "k = True\n",
    "for i in range(len(s)//2):\n",
    "    if s[i] != s[-i-1]:\n",
    "        k = False\n",
    "print(k)"
   ]
  },
  {
   "cell_type": "markdown",
   "metadata": {
    "id": "jz5JsJ_El6NO"
   },
   "source": [
    "**Задача 4.**\n",
    "\n",
    "На входе программа получает список целых чисел n. Ваша задача - вывести следующие списки по одному в строке, используя генераторы списков:\n",
    "\n",
    "*   Список, состоящий из квадрытных корней элементов списка n.\n",
    "*   Список, состоящий из целый части от деления на 4 элементов n.\n",
    "*   Список, состоящий только из нечётных элементов n.\n",
    "*   Список, состоящий из чисел, которые если больше 0, то умножаются на 2, если меньше 0, то делятся на 2.\n",
    "*   Список, состоящий из выражений [n[i], n[i]_next], где n[i] - элемент списка n, n[i]_next - следующее значение этого элемента (например, [1,2], [4,5], [0,1].\n",
    "*   Список, состоящий из элементов s, стоящих на позициях, кратных 5."
   ]
  },
  {
   "cell_type": "code",
   "execution_count": null,
   "metadata": {
    "id": "7PP4mpcgoG2u"
   },
   "outputs": [],
   "source": [
    "n = list(map(int, input().split()))\n",
    "square = [i ** 2 for i in n]\n",
    "print(*square)\n",
    "four = [i // 4 for i in n]\n",
    "print(*four)\n",
    "mod2eq1 = [i for i in n if i % 2 == 1]\n",
    "print(*mod2eq1)\n",
    "moreless = [i / 2 if i < 0 else i * 2 for i in n]\n",
    "print(*moreless)\n",
    "listsinlist = [[i, i+1] for i in n]\n",
    "print(*listsinlist)\n",
    "pos5 = [n[i] for i in range(0, len(n), 5)]\n",
    "print(*pos5)"
   ]
  }
 ],
 "metadata": {
  "language_info": {
   "name": "python"
  },
  "orig_nbformat": 4
 },
 "nbformat": 4,
 "nbformat_minor": 2
}
