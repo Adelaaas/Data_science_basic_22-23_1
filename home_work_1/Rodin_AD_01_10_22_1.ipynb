{
  "nbformat": 4,
  "nbformat_minor": 0,
  "metadata": {
    "colab": {
      "provenance": []
    },
    "kernelspec": {
      "name": "python3",
      "display_name": "Python 3"
    },
    "language_info": {
      "name": "python"
    }
  },
  "cells": [
    {
      "cell_type": "code",
      "execution_count": null,
      "metadata": {
        "id": "Pu5tKH0Hn8Jv"
      },
      "outputs": [],
      "source": [
        "a=[]\n",
        "b=input()\n",
        "k=0\n",
        "a.append(b)\n",
        "while(b!=\"stop\"):\n",
        "  b=input()\n",
        "  a.append(b)\n",
        "  k+=1\n",
        "for n in range(k):\n",
        "  if(a[n]==0):\n",
        "    c=n\n",
        "    while(a[c]==0):\n",
        "     c+=1\n",
        "    a[n]=a[c]\n",
        "    a[c]=0\n",
        "    c=0\n",
        "print(a)"
      ]
    }
  ]
}