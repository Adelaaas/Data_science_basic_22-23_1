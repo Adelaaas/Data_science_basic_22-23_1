{
 "cells": [
  {
   "cell_type": "markdown",
   "metadata": {
    "id": "ByFo_YXdjBHH"
   },
   "source": [
    "# Вариант 1"
   ]
  },
  {
   "cell_type": "markdown",
   "metadata": {
    "id": "VrkGK2Ykjtwr"
   },
   "source": [
    "***Кто делает***:\n",
    "\n",
    "1. Анохин Георгий Александрович\n",
    "2. Георгиев Денис Дмитриевич\n",
    "3. Горячев Иван Сергеевич\n",
    "4. Даниярбек уулу Нурбол\n",
    "5. Дорохов Матвей Дмитриевич "
   ]
  },
  {
   "cell_type": "markdown",
   "metadata": {
    "id": "FiZBX1FXjCg5"
   },
   "source": [
    "**Задача 1**\n",
    "\n",
    "Даны списки:\n",
    "\n",
    "a = [1, 1, 2, 3, 5, 8, 13, 21, 34, 55, 89];\n",
    "\n",
    "b = [1, 2, 3, 4, 5, 6, 7, 8, 9, 10, 11, 12, 13].\n",
    "\n",
    "Нужно вернуть список, который состоит из элементов, общих для этих двух списков."
   ]
  },
  {
   "cell_type": "code",
   "execution_count": 2,
   "metadata": {
    "id": "CfFRprI5jojk"
   },
   "outputs": [
    {
     "name": "stdout",
     "output_type": "stream",
     "text": [
      "[1, 2, 3, 5, 8, 13]\n"
     ]
    }
   ],
   "source": [
    "a = [1, 1, 2, 3, 5, 8, 13, 21, 34, 55, 89]\n",
    "b = [1, 2, 3, 4, 5, 6, 7, 8, 9, 10, 11, 12, 13]\n",
    "print(list(set(a)&set(b)))"
   ]
  },
  {
   "cell_type": "markdown",
   "metadata": {
    "id": "MftgngptjsV1"
   },
   "source": [
    "**Задача 2.**\n",
    "\n",
    "Найдите три ключа с самыми высокими значениями в словаре my_dict = {'a':500, 'b':5874, 'c': 560,'d':400, 'e':5874, 'f': 20, 'g':-10}."
   ]
  },
  {
   "cell_type": "code",
   "execution_count": 8,
   "metadata": {
    "id": "fjTF5rF-kFQT"
   },
   "outputs": [
    {
     "name": "stdout",
     "output_type": "stream",
     "text": [
      "e b c\n"
     ]
    }
   ],
   "source": [
    "my_dict = {'a':500, 'b':5874, 'c': 560,'d':400, 'e':5874, 'f': 20, 'g':-10}\n",
    "pairs = sorted(my_dict.items(), key=lambda a: a[1])\n",
    "print(pairs[-1][0],pairs[-2][0],pairs[-3][0])"
   ]
  },
  {
   "cell_type": "markdown",
   "metadata": {
    "id": "tsfpJ2fUkKF5"
   },
   "source": [
    "**Задача 3.**\n",
    "\n",
    "Пользователь вводит строку с клавиатуры и некоторое слово. Посчитайте, сколько раз данное слово встречается в строке."
   ]
  },
  {
   "cell_type": "code",
   "execution_count": 16,
   "metadata": {
    "id": "qlIkWw-ak1R0"
   },
   "outputs": [
    {
     "name": "stdout",
     "output_type": "stream",
     "text": [
      "aaa a: a, a... a! aaa\n",
      "a\n",
      "4\n"
     ]
    }
   ],
   "source": [
    "st = input().lower()\n",
    "word = input()\n",
    "# а нужно ли учитывать, что слово обрамлено пробелами с обеих сторон?\n",
    "# если да, то например в начале и в конце предложения нужно добавить пробелы\n",
    "st = ' ' + st + ' '\n",
    "# Но в то же время сразу после слова может идти символ '.', '?', '!', ':' или ',' или еще чтото\n",
    "st = st.replace('.', ' ')\n",
    "st = st.replace(',', ' ')\n",
    "st = st.replace('!', ' ')\n",
    "st = st.replace('?', ' ')\n",
    "st = st.replace(':', ' ')\n",
    "# 'a b b b a'.count(' b ') возвращает 2, чтобы это исправить заменим каждый пробел на два пробела\n",
    "st = st.replace(' ', '  ')\n",
    "# не уверен, что учел все ньюансы. ТЗ так себе\n",
    "print(st.count(' ' + word + ' '))"
   ]
  },
  {
   "cell_type": "markdown",
   "metadata": {
    "id": "qGxHiw12k1nl"
   },
   "source": [
    "**Задача 4.**\n",
    "\n",
    "На входе программа получает список целых чисел s. Ваша задача - вывести следующие списки по одному в строке, используя генераторы списков:\n",
    "\n",
    "*   Список, состоящий из квадратов s.\n",
    "*   Список, состоящий из остатков деления на 11 элементов s.\n",
    "*   Список, состоящий только из чётных элементов s.\n",
    "*   Список, состоящий только из элементов s с нечётным количеством цифр.\n",
    "*   Список, состоящий только из двухзначных элементов s, записанных 2 раза подряд.\n",
    "*   Список, состоящий из элементов s, стоящих на позициях, не кратных 3."
   ]
  },
  {
   "cell_type": "code",
   "execution_count": 20,
   "metadata": {
    "id": "pOUUd0BLlX5o"
   },
   "outputs": [
    {
     "name": "stdout",
     "output_type": "stream",
     "text": [
      "[1, 4, 9, 16, 3025]\n",
      "[1, 2, 3, 4, 0]\n",
      "[2, 4]\n",
      "[1, 2, 3, 4]\n",
      "[5555]\n",
      "[2, 55, 3]\n",
      "[2, 3, 55]\n"
     ]
    }
   ],
   "source": [
    "s = [1,2,3,4,55]\n",
    "print([i*i for i in s])\n",
    "print([i%11 for i in s])\n",
    "print([i for i in s if i%2==0])\n",
    "print([i for i in s if len(str(i))%2==1])\n",
    "print([i*101 for i in s if len(str(i)) == 2])\n",
    "# про сохранение порядка следования элементов не сказано, поэтому их можно перемешать\n",
    "print([i for i in s[1::3]] + [i for i in s[2::3]])\n",
    "# или если их всетаки нужно сохранить\n",
    "# print([s[i] for i in range(len(s)) if i%3!=0])"
   ]
  },
  {
   "cell_type": "markdown",
   "metadata": {
    "id": "qpl5XkfSlYyn"
   },
   "source": [
    "# Вариант 2"
   ]
  },
  {
   "cell_type": "markdown",
   "metadata": {
    "id": "L5MIq7J3lcz3"
   },
   "source": [
    "***Кто делает***:\n",
    "\n",
    "1. Зайцев Егор Андреевич\n",
    "2. Зверев Александр Александрович \n",
    "3. Зимина Александра Георгиевна\n",
    "4. Иванов Александр Андреевич \n",
    "5. Калентьев (Топилин) Константин Юрьевич\n",
    "6. Мартюшев Владислав Алексеевич"
   ]
  },
  {
   "cell_type": "markdown",
   "metadata": {
    "id": "suxuOHmSli09"
   },
   "source": [
    "**Задача 1.**\n",
    "\n",
    "Напишите программу, которая принимает два списка и выводит все элементы первого, которых нет во втором."
   ]
  },
  {
   "cell_type": "code",
   "execution_count": null,
   "metadata": {
    "id": "Fx0y6uvQlqZO"
   },
   "outputs": [],
   "source": [
    "# Ваше решение"
   ]
  },
  {
   "cell_type": "markdown",
   "metadata": {
    "id": "QSWi4FNvlpPK"
   },
   "source": [
    "**Задача 2.**\n",
    "\n",
    "Вам дан список, переставьте соседние элементы местами."
   ]
  },
  {
   "cell_type": "code",
   "execution_count": null,
   "metadata": {
    "id": "vrr5JJkVoEcr"
   },
   "outputs": [],
   "source": [
    "lst= ['a', 4, 'hello', (1,5), 10, 'b']\n",
    "# Ваше решение"
   ]
  },
  {
   "cell_type": "markdown",
   "metadata": {
    "id": "7VpdDp3EoIju"
   },
   "source": [
    "**Задача 3.**\n",
    "\n",
    "С клавиатуры вводится слово. Напишите проверку на то, является ли строка палиндромом. Палиндром — это слово или фраза, которые одинаково читаются слева направо и справа налево."
   ]
  },
  {
   "cell_type": "code",
   "execution_count": null,
   "metadata": {
    "id": "TLBqPcawoK1R"
   },
   "outputs": [],
   "source": [
    "# Ваше решение"
   ]
  },
  {
   "cell_type": "markdown",
   "metadata": {
    "id": "jz5JsJ_El6NO"
   },
   "source": [
    "**Задача 4.**\n",
    "\n",
    "На входе программа получает список целых чисел n. Ваша задача - вывести следующие списки по одному в строке, используя генераторы списков:\n",
    "\n",
    "*   Список, состоящий из квадрытных корней элементов списка n.\n",
    "*   Список, состоящий из целый части от деления на 4 элементов n.\n",
    "*   Список, состоящий только из нечётных элементов n.\n",
    "*   Список, состоящий из чисел, которые если больше 0, то умножаются на 2, если меньше 0, то делятся на 2.\n",
    "*   Список, состоящий из выражений [n[i], n[i]_next], где n[i] - элемент списка n, n[i]_next - следующее значение этого элемента (например, [1,2], [4,5], [0,1].\n",
    "*   Список, состоящий из элементов s, стоящих на позициях, кратных 5."
   ]
  },
  {
   "cell_type": "code",
   "execution_count": null,
   "metadata": {
    "id": "7PP4mpcgoG2u"
   },
   "outputs": [],
   "source": [
    "# Ваше решение"
   ]
  },
  {
   "cell_type": "markdown",
   "metadata": {
    "id": "Ycu4hFCRpAWI"
   },
   "source": [
    "# Вариант 3"
   ]
  },
  {
   "cell_type": "markdown",
   "metadata": {
    "id": "fHJxyAAhpE0x"
   },
   "source": [
    "***Кто делает***:\n",
    "\n",
    "1. Нечаев Никита Максимович\n",
    "2. Нуромский Евгений Михайлович\n",
    "3. Родин Андрей Дмитриевич\n",
    "4. Рыженко Роман Владиславович\n",
    "5. Юлов Егор Владимирович "
   ]
  },
  {
   "cell_type": "markdown",
   "metadata": {
    "id": "RxleHpr0pJzJ"
   },
   "source": [
    "**Задача 1.**\n",
    "\n",
    "Задана последовательность чисел. Сдвиньте все нули в конец последовательности, сохранив относительный порядок ненулевых элементов.\n",
    "\n",
    "Например:\n",
    "\n",
    "Ввод:\n",
    "\n",
    "`3 0 5 0 0 -4`\n",
    "\n",
    "Вывод:\n",
    "\n",
    "`3 5 -4 0 0 0`\n"
   ]
  },
  {
   "cell_type": "code",
   "execution_count": null,
   "metadata": {
    "id": "a2PUa66CpmCU"
   },
   "outputs": [],
   "source": [
    "# Ваше решение"
   ]
  },
  {
   "cell_type": "markdown",
   "metadata": {
    "id": "t8r41njjpno-"
   },
   "source": [
    "**Задача 2.**\n",
    "\n",
    "С клавиатуры вводится строка. Напишите программу, которая формирует словарь, где ключ - это слово, значение - сколько раз это слово встречается в строке."
   ]
  },
  {
   "cell_type": "code",
   "execution_count": null,
   "metadata": {
    "id": "dJ_sTzqvqMw_"
   },
   "outputs": [],
   "source": [
    "# Ваше решение"
   ]
  },
  {
   "cell_type": "markdown",
   "metadata": {
    "id": "L-aO8MLDqNOp"
   },
   "source": [
    "**Задача 3.**\n",
    "\n",
    "Определить, принадлежит ли точка с координатами (x; y) кругу радиуса R с центром в начале координат.\n",
    "\n",
    "Пользователь вводит координаты точки и радиус круга."
   ]
  },
  {
   "cell_type": "code",
   "execution_count": null,
   "metadata": {
    "id": "3d8mTLROqlQO"
   },
   "outputs": [],
   "source": [
    "# Ваше решение"
   ]
  },
  {
   "cell_type": "markdown",
   "metadata": {
    "id": "gS0vf7RvqysI"
   },
   "source": [
    "**Задача 4.**\n",
    "\n",
    "Вам дан список имен и список фамилий, используя генератор списков, создайте новый список, состоящий из имени и фамилии.\n",
    "\n",
    "Ввод:\n",
    "\n",
    "\n",
    "```\n",
    "names = ['Pete']\n",
    "surnames = ['Black']\n",
    "```\n",
    "\n",
    "\n",
    "\n",
    "Вывод:\n",
    "\n",
    "`new = ['Pete Black']`"
   ]
  },
  {
   "cell_type": "code",
   "execution_count": null,
   "metadata": {
    "id": "FRq8ttWdrSoS"
   },
   "outputs": [],
   "source": [
    "names = ['Никита', 'Евгений', 'Андрей', 'Роман', 'Егор']\n",
    "surnames = ['Нечаев', 'Нуромский', 'Родин', 'Рыженко', 'Юлов']\n",
    "\n",
    "# Ваше решение"
   ]
  }
 ],
 "metadata": {
  "colab": {
   "provenance": []
  },
  "kernelspec": {
   "display_name": "Python 3 (ipykernel)",
   "language": "python",
   "name": "python3"
  },
  "language_info": {
   "codemirror_mode": {
    "name": "ipython",
    "version": 3
   },
   "file_extension": ".py",
   "mimetype": "text/x-python",
   "name": "python",
   "nbconvert_exporter": "python",
   "pygments_lexer": "ipython3",
   "version": "3.9.12"
  }
 },
 "nbformat": 4,
 "nbformat_minor": 1
}
