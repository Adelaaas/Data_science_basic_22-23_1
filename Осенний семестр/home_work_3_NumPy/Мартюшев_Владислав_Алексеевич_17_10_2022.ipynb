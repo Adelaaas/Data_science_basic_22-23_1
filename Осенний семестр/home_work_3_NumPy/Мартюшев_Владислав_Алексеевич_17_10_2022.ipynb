{
  "nbformat": 4,
  "nbformat_minor": 0,
  "metadata": {
    "colab": {
      "provenance": [],
      "toc_visible": true,
      "collapsed_sections": []
    },
    "kernelspec": {
      "name": "python3",
      "display_name": "Python 3"
    },
    "language_info": {
      "name": "python"
    }
  },
  "cells": [
    {
      "cell_type": "markdown",
      "source": [
        "# Вариант 3."
      ],
      "metadata": {
        "id": "VoY_eabm8305"
      }
    },
    {
      "cell_type": "markdown",
      "source": [
        "Кто делает:\n",
        "\n",
        "1. Иванов Александр Андреевич \n",
        "2. Калентьев (Топилин) Константин Юрьевич\n",
        "3. Мартюшев Владислав Алексеевич\n",
        "4. Нечаев Никита Максимович"
      ],
      "metadata": {
        "id": "d6rHDdnINNgx"
      }
    },
    {
      "cell_type": "markdown",
      "source": [
        "**Задача 1.**\n",
        "\n",
        "На вход подаются 3 числа (каждое с новой строки):\n",
        "\n",
        "- start\n",
        "- stop\n",
        "- n\n",
        "\n",
        "Создайте функцию, которая возвращает список из n точек на отрезке [start, stop] в геометрической прогрессии, включая start и stop.\n",
        "\n",
        "Округлите значения точек до 3 знака после запятой."
      ],
      "metadata": {
        "id": "QpDCZUXS5INU"
      }
    },
    {
      "cell_type": "code",
      "source": [
        "import numpy as np\n",
        "a = []\n",
        "def f(start, stop, n):\n",
        "  q = pow((stop / start), 1/(n-1))\n",
        "  for i in range(1, n + 1):\n",
        "    a.append(round(start * pow(q, i-1), 3))\n",
        "  return a\n",
        "\n",
        "f(int(input()), int(input()), int(input()))"
      ],
      "metadata": {
        "id": "03G5iKfB85hI"
      },
      "execution_count": null,
      "outputs": []
    },
    {
      "cell_type": "markdown",
      "source": [
        "**Задача 2.**\n",
        "\n",
        "Дана матрица. Напишите функцию, которая принимает в качестве аргумента данную матрицу и возврщает транспонированную матрицу.\n",
        "\n",
        "**Немного теории**. *Транспонированной матрицей $A^T$ называется матрица, полученная из исходной матрицы $A$ заменой строк на столбцы. Формально: элементы матрицы $A^T$ определяются как ${a^T}_{ij} = a_{ji}$, где ${a^T}_{ij}$ — элемент матрицы $A^T$, стоящий на пересечении строки с номером $i$ и столбца с номером $j$.*\n",
        "\n",
        "P.s. использовать встроенные функции Numpy для транспонирования запрещено."
      ],
      "metadata": {
        "id": "wjZlfpQb9GPz"
      }
    },
    {
      "cell_type": "code",
      "source": [
        "def f(matr):\n",
        "  a = np.array(matr, int)\n",
        "  b = np.array([[0]*a.shape[0]]*a.shape[1])\n",
        "  for i in range(a.shape[0]):\n",
        "    for j in range(a.shape[1]):\n",
        "      b[j][i] = a[i][j]\n",
        "  return b\n",
        "grid = [[1, 2, 3], [4, 5, 6]]\n",
        "f(grid)"
      ],
      "metadata": {
        "id": "XS8HHgkQ9Eky",
        "outputId": "77a4b464-17ca-4bb2-e1c2-086b16336951",
        "colab": {
          "base_uri": "https://localhost:8080/"
        }
      },
      "execution_count": 6,
      "outputs": [
        {
          "output_type": "execute_result",
          "data": {
            "text/plain": [
              "array([[1, 4],\n",
              "       [2, 5],\n",
              "       [3, 6]])"
            ]
          },
          "metadata": {},
          "execution_count": 6
        }
      ]
    },
    {
      "cell_type": "markdown",
      "source": [
        "**Задача 3.**\n",
        "\n",
        "Даны два массива A и B формы (8,3) и (2,2). \n",
        "Напишите фукнкцию, которая возвращает строки A, содержащие элементы каждой строки B, независимо от порядка элементов в B?"
      ],
      "metadata": {
        "id": "3SZK2iQNH9zf"
      }
    },
    {
      "cell_type": "code",
      "source": [
        "def f(ma, mb):\n",
        "  a = np.array(ma, int)\n",
        "  b = np.array(mb, int)\n",
        "  for i in range(a.shape[0]):\n",
        "    if (((b[0][0] in a[i][:]) or (b[0][1] in a[i][:])) and ((b[1][0] in a[i][:]) or (b[1][1] in a[i][:]))):\n",
        "      return (a[i][:])\n",
        "\n",
        "grid1 = [[1, 2, 3], [4, 5, 6], [7, 8, 9], [10, 11, 12], [13, 14, 15], [16, 17, 18], [19, 20, 21], [22, 23, 24]]\n",
        "grid2 = [[1, 2], [3, 4]]\n",
        "f(grid1, grid2)"
      ],
      "metadata": {
        "id": "O_XiMeOJJgDE",
        "colab": {
          "base_uri": "https://localhost:8080/"
        },
        "outputId": "96fd592f-f877-4217-bdd7-7c806cc274d0"
      },
      "execution_count": 7,
      "outputs": [
        {
          "output_type": "execute_result",
          "data": {
            "text/plain": [
              "array([1, 2, 3])"
            ]
          },
          "metadata": {},
          "execution_count": 7
        }
      ]
    },
    {
      "cell_type": "markdown",
      "source": [
        "**Задача 4.**\n",
        "\n",
        "Дан вектор. Реализуйте функцию, которая возвращает каждый элемент в двоичном предствалении в виде вектора.\n",
        "\n",
        "Например:\n",
        "\n",
        "Ввод:\n",
        "\n",
        "`[0, 1, 2, 3, 15, 16, 32, 64, 128]`\n",
        "\n",
        "Вывод:\n",
        "\n",
        "```\n",
        "[[0 0 0 0 0 0 0 0]\n",
        " [0 0 0 0 0 0 0 1]\n",
        " [0 0 0 0 0 0 1 0]\n",
        " [0 0 0 0 0 0 1 1]\n",
        " [0 0 0 0 1 1 1 1]\n",
        " [0 0 0 1 0 0 0 0]\n",
        " [0 0 1 0 0 0 0 0]\n",
        " [0 1 0 0 0 0 0 0]\n",
        " [1 0 0 0 0 0 0 0]]\n",
        " ```"
      ],
      "metadata": {
        "id": "AIM6Bm5Y5Vvs"
      }
    },
    {
      "cell_type": "code",
      "source": [
        "def f(mas):\n",
        "  a = np.array(mas, int)\n",
        "  b = np.log2(a)\n",
        "  maxi = int(np.ceil(np.max(b))) + 1\n",
        "  c = np.array([[0]*maxi]*a.shape[0])\n",
        "  for i in range(a.shape[0]):\n",
        "    if (int(a[i]) != 0):\n",
        "      if (int(a[i]) == 1):\n",
        "        c[i][maxi - 1] = 1\n",
        "      else:\n",
        "        chisl = bin(int(a[i]))[2:]\n",
        "        k = len(chisl)\n",
        "        while(len(chisl)>0):\n",
        "          c[i][maxi - k] = int(chisl[0])\n",
        "          chisl = chisl[1:]\n",
        "          k -=1\n",
        "  return c\n",
        "  \n",
        "\n",
        "grid = [0, 1, 2, 3, 15, 16, 32, 64, 128]\n",
        "f(grid)\n"
      ],
      "metadata": {
        "id": "Cc3dYkM7M8sY",
        "colab": {
          "base_uri": "https://localhost:8080/"
        },
        "outputId": "c388f1d0-7060-4547-ec68-0d732348c608"
      },
      "execution_count": 8,
      "outputs": [
        {
          "output_type": "stream",
          "name": "stderr",
          "text": [
            "/usr/local/lib/python3.7/dist-packages/ipykernel_launcher.py:3: RuntimeWarning: divide by zero encountered in log2\n",
            "  This is separate from the ipykernel package so we can avoid doing imports until\n"
          ]
        },
        {
          "output_type": "execute_result",
          "data": {
            "text/plain": [
              "array([[0, 0, 0, 0, 0, 0, 0, 0],\n",
              "       [0, 0, 0, 0, 0, 0, 0, 1],\n",
              "       [0, 0, 0, 0, 0, 0, 1, 0],\n",
              "       [0, 0, 0, 0, 0, 0, 1, 1],\n",
              "       [0, 0, 0, 0, 1, 1, 1, 1],\n",
              "       [0, 0, 0, 1, 0, 0, 0, 0],\n",
              "       [0, 0, 1, 0, 0, 0, 0, 0],\n",
              "       [0, 1, 0, 0, 0, 0, 0, 0],\n",
              "       [1, 0, 0, 0, 0, 0, 0, 0]])"
            ]
          },
          "metadata": {},
          "execution_count": 8
        }
      ]
    }
  ]
}