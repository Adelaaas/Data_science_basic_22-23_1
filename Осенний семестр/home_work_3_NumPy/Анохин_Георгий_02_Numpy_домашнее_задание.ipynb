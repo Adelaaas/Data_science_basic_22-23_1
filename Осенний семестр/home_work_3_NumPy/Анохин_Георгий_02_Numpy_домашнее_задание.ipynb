{
  "nbformat": 4,
  "nbformat_minor": 0,
  "metadata": {
    "colab": {
      "provenance": [],
      "toc_visible": true
    },
    "kernelspec": {
      "name": "python3",
      "display_name": "Python 3"
    },
    "language_info": {
      "name": "python"
    }
  },
  "cells": [
    {
      "cell_type": "markdown",
      "source": [
        "# Вариант 1."
      ],
      "metadata": {
        "id": "uUb0k51-4ZT5"
      }
    },
    {
      "cell_type": "markdown",
      "source": [
        "Кто делает:\n",
        "1. Анохин Георгий Александрович\n",
        "2. Георгиев Денис Дмитриевич \n",
        "3. Горячев Иван Сергеевич\n",
        "4. Даниярбек уулу Нурбол"
      ],
      "metadata": {
        "id": "jYTf6002M_nQ"
      }
    },
    {
      "cell_type": "markdown",
      "source": [
        "**Задача 1.**\n",
        "\n",
        "**1-я входная строка** - год (опционально месяц и день) в формате ISO начала отсчёта.\n",
        "\n",
        "**2-я входная строка** - год (опционально месяц и день) в формате ISO окончания отсчёта.\n",
        "\n",
        "Создайте функцию, которая принимает на вход два введенных года и возвращает список (numpy array) дат с шагом в 1 день от начала до окончания отсчёта (последний день не включается).\n",
        "\n",
        "Результат должен представлять из себя список дат в формате ISO.\n",
        "Пример - 2005-02-25, где\n",
        "\n",
        "- 2005 - год\n",
        "- 02 - месяц\n",
        "- 25 - день"
      ],
      "metadata": {
        "id": "nqParwpl4NYQ"
      }
    },
    {
      "cell_type": "code",
      "source": [
        "import numpy as np\n",
        "import datetime as dt\n",
        "\n",
        "def parse(s: str):\n",
        "  cash = list(map(int, s.split(\"-\")))\n",
        "  for i in range(3 - len(cash)):\n",
        "    cash.append(1)\n",
        "  return cash\n",
        "\n",
        "def fun(s1: str, s2: str):\n",
        "  d1 = parse(s1)\n",
        "  d2 = parse(s2)\n",
        "  d1 = dt.date(year=d1[0], month=d1[1], day=d1[2])\n",
        "  d2 = dt.date(year=d2[0], month=d2[1], day=d2[2])\n",
        "  step = dt.timedelta(days=1)\n",
        "  return np.arange(d1, d2, step).astype('M8[D]')\n",
        "\n",
        "print(fun('2005-02-25', '2005-03-03'))\n",
        "print(fun('2022-10', '2022-10-06'))\n",
        "print(fun('2010', '2010-1-7'))\n"
      ],
      "metadata": {
        "id": "qVPXjYIX4CCT",
        "colab": {
          "base_uri": "https://localhost:8080/"
        },
        "outputId": "97ff20fd-3c87-48ae-9627-b06b8e911e4a"
      },
      "execution_count": 48,
      "outputs": [
        {
          "output_type": "stream",
          "name": "stdout",
          "text": [
            "['2005-02-25' '2005-02-26' '2005-02-27' '2005-02-28' '2005-03-01'\n",
            " '2005-03-02']\n",
            "['2022-10-01' '2022-10-02' '2022-10-03' '2022-10-04' '2022-10-05']\n",
            "['2010-01-01' '2010-01-02' '2010-01-03' '2010-01-04' '2010-01-05'\n",
            " '2010-01-06']\n"
          ]
        }
      ]
    },
    {
      "cell_type": "markdown",
      "source": [
        "**Задача 2.**\n",
        "\n",
        "Используя numpy:\n",
        "\n",
        "Создайте функцию, которая принимает как аргументы целое число N и первый элемент (вещественное число el1), и разность (вещественное число d) и создает матрицу по диагонали, которой распологаются первые N членов арифметической прогрессии."
      ],
      "metadata": {
        "id": "dlfakURs8vgB"
      }
    },
    {
      "cell_type": "code",
      "source": [
        "import numpy as np\n",
        "\n",
        "def progresion(n: int, a1: float, d: float):\n",
        "  m = np.zeros((n, n), dtype=float)\n",
        "  np.fill_diagonal(m, [a1 + d * i for i in range(n)])\n",
        "  return m\n",
        "\n",
        "progresion(10,-2,3.5)"
      ],
      "metadata": {
        "id": "-9XxOXYc8zNv",
        "colab": {
          "base_uri": "https://localhost:8080/"
        },
        "outputId": "258fe9d8-c2bb-4066-dec2-d3443ab7f661"
      },
      "execution_count": 29,
      "outputs": [
        {
          "output_type": "execute_result",
          "data": {
            "text/plain": [
              "array([[-2. ,  0. ,  0. ,  0. ,  0. ,  0. ,  0. ,  0. ,  0. ,  0. ],\n",
              "       [ 0. ,  1.5,  0. ,  0. ,  0. ,  0. ,  0. ,  0. ,  0. ,  0. ],\n",
              "       [ 0. ,  0. ,  5. ,  0. ,  0. ,  0. ,  0. ,  0. ,  0. ,  0. ],\n",
              "       [ 0. ,  0. ,  0. ,  8.5,  0. ,  0. ,  0. ,  0. ,  0. ,  0. ],\n",
              "       [ 0. ,  0. ,  0. ,  0. , 12. ,  0. ,  0. ,  0. ,  0. ,  0. ],\n",
              "       [ 0. ,  0. ,  0. ,  0. ,  0. , 15.5,  0. ,  0. ,  0. ,  0. ],\n",
              "       [ 0. ,  0. ,  0. ,  0. ,  0. ,  0. , 19. ,  0. ,  0. ,  0. ],\n",
              "       [ 0. ,  0. ,  0. ,  0. ,  0. ,  0. ,  0. , 22.5,  0. ,  0. ],\n",
              "       [ 0. ,  0. ,  0. ,  0. ,  0. ,  0. ,  0. ,  0. , 26. ,  0. ],\n",
              "       [ 0. ,  0. ,  0. ,  0. ,  0. ,  0. ,  0. ,  0. ,  0. , 29.5]])"
            ]
          },
          "metadata": {},
          "execution_count": 29
        }
      ]
    },
    {
      "cell_type": "markdown",
      "source": [
        "**Задача 3.**\n",
        "\n",
        "Дан массив. Создайте функцию, которая принимает данный массив и проверяет наличие пропусков и возвращает их количество:\n",
        "- если есть пропуски, то функция должна их заполнить теми значениями, которые пользователь вводит с клавиатуры.\n",
        "- если нет пропусков, то функция возвращает 0.\n",
        "\n",
        "*Встроенные функции заполнения пропусков использовать запрещено.*"
      ],
      "metadata": {
        "id": "b0BomVhGCrZ-"
      }
    },
    {
      "cell_type": "code",
      "source": [
        "def fun(lst: list):\n",
        "  flag = False\n",
        "  for i in range(len(lst)):\n",
        "    flag = True\n",
        "    if (lst[i] == None):\n",
        "      print(f\"Обноружен пропуск на месте {i}, введите что-то >>> \", end=\"\")\n",
        "      lst[i] = input()\n",
        "  if (flag):\n",
        "    return 0\n",
        "\n",
        "fun([None, 1, 4, 5, None, 75, None])\n",
        "fun([1])"
      ],
      "metadata": {
        "id": "ltuxQwBPDeeN",
        "colab": {
          "base_uri": "https://localhost:8080/"
        },
        "outputId": "3fb1a521-6e7f-4b9d-9c51-6e790012768d"
      },
      "execution_count": 28,
      "outputs": [
        {
          "name": "stdout",
          "output_type": "stream",
          "text": [
            "Обноружен пропуск на месте 0, введите что-то >>> error\n",
            "Обноружен пропуск на месте 4, введите что-то >>> 1/0\n",
            "Обноружен пропуск на месте 6, введите что-то >>> 667\n"
          ]
        },
        {
          "output_type": "execute_result",
          "data": {
            "text/plain": [
              "0"
            ]
          },
          "metadata": {},
          "execution_count": 28
        }
      ]
    },
    {
      "cell_type": "markdown",
      "source": [
        "**Задача 4.**\n",
        "\n",
        "Вам дан массив, содержащий категории некоторого объекта в виде строк.\n",
        "\n",
        "Создайте функцию, которая принимает на вход массив, хранящий категории объектов и возвращает:\n",
        "- закодированный список из чисел, где каждому числу соответсвует какая-то категория;\n",
        "- число категорий;\n",
        "- словарь кодирования;\n",
        "\n",
        "**Например:**\n",
        "\n",
        "Ввод:\n",
        "\n",
        "`('red', 'green', 'red', 'blue')`\n",
        "\n",
        "Вывод:\n",
        "```(0, 1, 0, 2)\n",
        "Количество категорий: 3\n",
        "Словарь кодирования: \n",
        "{'red': 0, 'green': 1, 'blue': 2'}\n",
        "```"
      ],
      "metadata": {
        "id": "yGQxrCpbD0S6"
      }
    },
    {
      "cell_type": "markdown",
      "source": [
        "*P.s. встроенными функциями кодирования пользоваться запрещено.*"
      ],
      "metadata": {
        "id": "_KAq5aHVFQ24"
      }
    },
    {
      "cell_type": "code",
      "source": [
        "def fun(inl: list):\n",
        "  l = list(set(inl))\n",
        "  m = {l[i]: i for i in range(len(l))}\n",
        "  print([m[el] for el in inl])\n",
        "  print(f\"Количество категорий: {len(l)}\")\n",
        "  print(\"Словарь кодирования: \" + str(m))\n",
        "\n",
        "fun(['red', 'green', 'red', 'blue', \"haha\", \"haha\", \"red\"])\n"
      ],
      "metadata": {
        "id": "5SA-uo30FMzs",
        "colab": {
          "base_uri": "https://localhost:8080/"
        },
        "outputId": "a53e654f-86b5-4bf3-c6c2-84196cba5806"
      },
      "execution_count": 52,
      "outputs": [
        {
          "output_type": "stream",
          "name": "stdout",
          "text": [
            "[3, 1, 3, 0, 2, 2, 3]\n",
            "Количество категорий: 4\n",
            "Словарь кодирования: {'blue': 0, 'green': 1, 'haha': 2, 'red': 3}\n"
          ]
        }
      ]
    }
  ]
}