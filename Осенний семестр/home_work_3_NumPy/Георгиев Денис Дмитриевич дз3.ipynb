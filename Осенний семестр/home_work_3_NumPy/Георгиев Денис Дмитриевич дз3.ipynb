{
  "cells": [
    {
      "cell_type": "markdown",
      "metadata": {
        "id": "uUb0k51-4ZT5"
      },
      "source": [
        "# Вариант 1."
      ]
    },
    {
      "cell_type": "markdown",
      "metadata": {
        "id": "jYTf6002M_nQ"
      },
      "source": [
        "Кто делает:\n",
        "1. Анохин Георгий Александрович\n",
        "2. Георгиев Денис Дмитриевич \n",
        "3. Горячев Иван Сергеевич\n",
        "4. Даниярбек уулу Нурбол"
      ]
    },
    {
      "cell_type": "markdown",
      "metadata": {
        "id": "nqParwpl4NYQ"
      },
      "source": [
        "**Задача 1.**\n",
        "\n",
        "**1-я входная строка** - год (опционально месяц и день) в формате ISO начала отсчёта.\n",
        "\n",
        "**2-я входная строка** - год (опционально месяц и день) в формате ISO окончания отсчёта.\n",
        "\n",
        "Создайте функцию, которая принимает на вход два введенных года и возвращает список (numpy array) дат с шагом в 1 день от начала до окончания отсчёта (последний день не включается).\n",
        "\n",
        "Результат должен представлять из себя список дат в формате ISO.\n",
        "Пример - 2005-02-25, где\n",
        "\n",
        "- 2005 - год\n",
        "- 02 - месяц\n",
        "- 25 - день"
      ]
    },
    {
      "cell_type": "code",
      "execution_count": null,
      "metadata": {
        "id": "qVPXjYIX4CCT"
      },
      "outputs": [],
      "source": [
        "import numpy as np\n",
        "\n",
        "#обработка времени \n",
        "class Date:\n",
        "    __days = [31,28,31,30,31,30,31,31,30,31,30,31]\n",
        "    year = 0\n",
        "    month = 0\n",
        "    day = 0\n",
        "    def __init__(self, year, month, day):\n",
        "        self.year = year\n",
        "        self.month = month\n",
        "        self.day = day\n",
        "\n",
        "    def __eq__(self, date):\n",
        "        return self.year == date.year and self.month == date.month and self.day == date.day\n",
        "\n",
        "    def __ne__(self, date):\n",
        "        return self.year != date.year or self.month != date.month or self.day != date.day\n",
        "\n",
        "    def nextDate(self):\n",
        "        if self.day < self.__days[self.month - 1]:\n",
        "            self.day += 1\n",
        "            return\n",
        "        if self.month < 12:\n",
        "            self.month += 1\n",
        "            self.day = 1\n",
        "            return \n",
        "        self.month = 1\n",
        "        self.day = 1\n",
        "        self.year += 1\n",
        "\n",
        "    def getInfo(self):\n",
        "        return str(self.year) + '-' + \\\n",
        "        (str(self.month) if self.month // 10 > 0 else '0' + str(self.month)) + '-' + \\\n",
        "        (str(self.day) if self.day // 10 > 0 else '0' + str(self.day))\n",
        "    \n",
        "#\n",
        "def fun(d1, d2):\n",
        "    spis = []\n",
        "    while d1 != d2:\n",
        "        spis.append(d1.getInfo())\n",
        "        d1.nextDate()    \n",
        "\n",
        "    return np.array(spis)\n",
        "\n",
        "#\n",
        "a1 = list(map(int, input().split('-')))\n",
        "a2 = list(map(int, input().split('-')))\n",
        "\n",
        "d1 = Date(a1[0], a1[1], a1[2])\n",
        "d2 = Date(a2[0], a2[1], a2[2])\n",
        "\n",
        "spis = fun(d1, d2)\n",
        "\n",
        "print(spis)"
      ]
    },
    {
      "cell_type": "markdown",
      "metadata": {
        "id": "dlfakURs8vgB"
      },
      "source": [
        "**Задача 2.**\n",
        "\n",
        "Используя numpy:\n",
        "\n",
        "Создайте функцию, которая принимает как аргументы целое число N и первый элемент (вещественное число el1), и разность (вещественное число d) и создает матрицу по диагонали, которой распологаются первые N членов арифметической прогрессии."
      ]
    },
    {
      "cell_type": "code",
      "execution_count": null,
      "metadata": {
        "id": "-9XxOXYc8zNv"
      },
      "outputs": [],
      "source": [
        "import numpy as np\n",
        "\n",
        "def fun(n, a1, d):\n",
        "    mas = np.zeros((n, n), dtype=float)\n",
        "    for i in range(n):\n",
        "        mas[i][i] = a1 + d * i\n",
        "    return mas\n",
        "\n",
        "n = int(input())\n",
        "a1 = float(input())\n",
        "d = float(input())\n",
        "\n",
        "print(fun(n, a1, d))"
      ]
    },
    {
      "cell_type": "markdown",
      "metadata": {
        "id": "b0BomVhGCrZ-"
      },
      "source": [
        "**Задача 3.**\n",
        "\n",
        "Дан массив. Создайте функцию, которая принимает данный массив и проверяет наличие пропусков и возвращает их количество:\n",
        "- если есть пропуски, то функция должна их заполнить теми значениями, которые пользователь вводит с клавиатуры.\n",
        "- если нет пропусков, то функция возвращает 0.\n",
        "\n",
        "*Встроенные функции заполнения пропусков использовать запрещено.*"
      ]
    },
    {
      "cell_type": "code",
      "execution_count": null,
      "metadata": {
        "id": "ltuxQwBPDeeN"
      },
      "outputs": [],
      "source": [
        "import numpy as np\n",
        "\n",
        "def fun(mas):\n",
        "    space = None\n",
        "    spis, = np.where(mas == space, )\n",
        "    count = len(spis)\n",
        "\n",
        "    mas.flatten()\n",
        "\n",
        "    for index in spis:\n",
        "        mas[index] = int(input('input space: '))\n",
        "\n",
        "    return mas, count\n",
        "\n",
        "print(fun(np.array([1, None, 3, 4, None, 12, None])))"
      ]
    },
    {
      "cell_type": "markdown",
      "metadata": {
        "id": "yGQxrCpbD0S6"
      },
      "source": [
        "**Задача 4.**\n",
        "\n",
        "Вам дан массив, содержащий категории некоторого объекта в виде строк.\n",
        "\n",
        "Создайте функцию, которая принимает на вход массив, хранящий категории объектов и возвращает:\n",
        "- закодированный список из чисел, где каждому числу соответсвует какая-то категория;\n",
        "- число категорий;\n",
        "- словарь кодирования;\n",
        "\n",
        "**Например:**\n",
        "\n",
        "Ввод:\n",
        "\n",
        "`('red', 'green', 'red', 'blue')`\n",
        "\n",
        "Вывод:\n",
        "```(0, 1, 0, 2)\n",
        "Количество категорий: 3\n",
        "Словарь кодирования: \n",
        "{'red': 0, 'green': 1, 'blue': 2'}\n",
        "```"
      ]
    },
    {
      "cell_type": "markdown",
      "metadata": {
        "id": "_KAq5aHVFQ24"
      },
      "source": [
        "*P.s. встроенными функциями кодирования пользоваться запрещено.*"
      ]
    },
    {
      "cell_type": "code",
      "execution_count": null,
      "metadata": {
        "id": "5SA-uo30FMzs"
      },
      "outputs": [],
      "source": [
        "import numpy as np\n",
        "\n",
        "def fun(slov):\n",
        "    d = dict.fromkeys(list(slov))\n",
        "    id = 0\n",
        "    for i in d.keys():\n",
        "        d[i] = id\n",
        "        id += 1\n",
        "    return id, d\n",
        "\n",
        "print(fun(('red', 'blue', 'dark', 'red', 'blue', 'purple')))\n",
        "\n",
        "\n"
      ]
    },
    {
      "cell_type": "markdown",
      "metadata": {
        "id": "lyuKr1rn81O_"
      },
      "source": [
        "# Вариант 2."
      ]
    },
    {
      "cell_type": "markdown",
      "metadata": {
        "id": "xAlXF5iENHaw"
      },
      "source": [
        "Кто делает:\n",
        "1. Дорохов Матвей Дмитриевич \n",
        "2. Зайцев Егор Андреевич\n",
        "3. Зверев Александр Александрович \n",
        "4. Зимина Александра Георгиевна"
      ]
    },
    {
      "cell_type": "markdown",
      "metadata": {
        "id": "do65Avzw4DVz"
      },
      "source": [
        "**Задача 1.**\n",
        "\n",
        "На вход подаются 3 числа (каждое с новой строки):\n",
        "\n",
        "- start\n",
        "- stop\n",
        "- n\n",
        "\n",
        "Создайте функцию, которая принимает 3 введеных числа и возвращает список (numpy.array) из n точек на отрезке (start, stop), попарно равноудалённых друг от друга и от концов отрезка (т.е. разделите отрезок на n+1 часть). Округлите значения точек до 3 знака после запятой."
      ]
    },
    {
      "cell_type": "code",
      "execution_count": null,
      "metadata": {
        "id": "uHozyVss-IeX"
      },
      "outputs": [],
      "source": [
        "# ваше решение"
      ]
    },
    {
      "cell_type": "markdown",
      "metadata": {
        "id": "kZGqA0gITmaM"
      },
      "source": [
        "**Задача 2.**\n",
        "\n",
        "Дан массив размерностью NxM.\n",
        "\n",
        "Напишите функцию, которая нормализует все элементы матрицы.\n",
        "\n",
        "**Немного теории.** *Нормализацией данных называется приведение их к некоторой общей шкале без потери информации о различии диапазонов.*\n",
        "\n",
        "*Новые значения элементов расчитываются как:*\n",
        "\n",
        "$x' = \\frac{x-x_{min}}{x_{max}-x_{min}}$"
      ]
    },
    {
      "cell_type": "code",
      "execution_count": null,
      "metadata": {
        "id": "2WyWqRRcCpb_"
      },
      "outputs": [],
      "source": [
        "# ваше решение"
      ]
    },
    {
      "cell_type": "markdown",
      "metadata": {
        "id": "dCVTOO-_FYkU"
      },
      "source": [
        "**Задача 3.**\n",
        "\n",
        "Вам дан одномерный массив. Напишите функцию, которая принимает этот массив и возвращает:\n",
        "1. Количество локальных максимумов для этого массива;\n",
        "2. И сами эти максимумы.\n",
        "\n",
        "*P.s. встроенными функциями пользоваться запрещено.*"
      ]
    },
    {
      "cell_type": "code",
      "execution_count": null,
      "metadata": {
        "id": "wjMpSkDjGgdp"
      },
      "outputs": [],
      "source": [
        "# ваше решение"
      ]
    },
    {
      "cell_type": "markdown",
      "metadata": {
        "id": "sPTzH_1fGs1u"
      },
      "source": [
        "**Задача 4.**\n",
        "\n",
        "Реализуйте функцию умножения двух матриц, без использования встроенной функции."
      ]
    },
    {
      "cell_type": "code",
      "execution_count": null,
      "metadata": {
        "id": "JzgPFrc0H6L0"
      },
      "outputs": [],
      "source": [
        "# ваше решение"
      ]
    },
    {
      "cell_type": "markdown",
      "metadata": {
        "id": "VoY_eabm8305"
      },
      "source": [
        "# Вариант 3."
      ]
    },
    {
      "cell_type": "markdown",
      "metadata": {
        "id": "d6rHDdnINNgx"
      },
      "source": [
        "Кто делает:\n",
        "\n",
        "1. Иванов Александр Андреевич \n",
        "2. Калентьев (Топилин) Константин Юрьевич\n",
        "3. Мартюшев Владислав Алексеевич\n",
        "4. Нечаев Никита Максимович"
      ]
    },
    {
      "cell_type": "markdown",
      "metadata": {
        "id": "QpDCZUXS5INU"
      },
      "source": [
        "**Задача 1.**\n",
        "\n",
        "На вход подаются 3 числа (каждое с новой строки):\n",
        "\n",
        "- start\n",
        "- stop\n",
        "- n\n",
        "\n",
        "Создайте функцию, которая возвращает список из n точек на отрезке [start, stop] в геометрической прогрессии, включая start и stop.\n",
        "\n",
        "Округлите значения точек до 3 знака после запятой."
      ]
    },
    {
      "cell_type": "code",
      "execution_count": null,
      "metadata": {
        "id": "03G5iKfB85hI"
      },
      "outputs": [],
      "source": [
        "# ваше решение"
      ]
    },
    {
      "cell_type": "markdown",
      "metadata": {
        "id": "wjZlfpQb9GPz"
      },
      "source": [
        "**Задача 2.**\n",
        "\n",
        "Дана матрица. Напишите функцию, которая принимает в качестве аргумента данную матрицу и возврщает транспонированную матрицу.\n",
        "\n",
        "**Немного теории**. *Транспонированной матрицей $A^T$ называется матрица, полученная из исходной матрицы $A$ заменой строк на столбцы. Формально: элементы матрицы $A^T$ определяются как ${a^T}_{ij} = a_{ji}$, где ${a^T}_{ij}$ — элемент матрицы $A^T$, стоящий на пересечении строки с номером $i$ и столбца с номером $j$.*\n",
        "\n",
        "P.s. использовать встроенные функции Numpy для транспонирования запрещено."
      ]
    },
    {
      "cell_type": "code",
      "execution_count": null,
      "metadata": {
        "id": "XS8HHgkQ9Eky"
      },
      "outputs": [],
      "source": [
        "# ваше решение"
      ]
    },
    {
      "cell_type": "markdown",
      "metadata": {
        "id": "3SZK2iQNH9zf"
      },
      "source": [
        "**Задача 3.**\n",
        "\n",
        "Даны два массива A и B формы (8,3) и (2,2). \n",
        "Напишите фукнкцию, которая возвращает строки A, содержащие элементы каждой строки B, независимо от порядка элементов в B?"
      ]
    },
    {
      "cell_type": "code",
      "execution_count": null,
      "metadata": {
        "id": "O_XiMeOJJgDE"
      },
      "outputs": [],
      "source": [
        "# ваше решение"
      ]
    },
    {
      "cell_type": "markdown",
      "metadata": {
        "id": "AIM6Bm5Y5Vvs"
      },
      "source": [
        "**Задача 4.**\n",
        "\n",
        "Дан вектор. Реализуйте функцию, которая возвращает каждый элемент в двоичном предствалении в виде вектора.\n",
        "\n",
        "Например:\n",
        "\n",
        "Ввод:\n",
        "\n",
        "`[0, 1, 2, 3, 15, 16, 32, 64, 128]`\n",
        "\n",
        "Вывод:\n",
        "\n",
        "```\n",
        "[[0 0 0 0 0 0 0 0]\n",
        " [0 0 0 0 0 0 0 1]\n",
        " [0 0 0 0 0 0 1 0]\n",
        " [0 0 0 0 0 0 1 1]\n",
        " [0 0 0 0 1 1 1 1]\n",
        " [0 0 0 1 0 0 0 0]\n",
        " [0 0 1 0 0 0 0 0]\n",
        " [0 1 0 0 0 0 0 0]\n",
        " [1 0 0 0 0 0 0 0]]\n",
        " ```"
      ]
    },
    {
      "cell_type": "code",
      "execution_count": null,
      "metadata": {
        "id": "Cc3dYkM7M8sY"
      },
      "outputs": [],
      "source": [
        "# ваше решение"
      ]
    },
    {
      "cell_type": "markdown",
      "metadata": {
        "id": "-QEGzcgoNVx_"
      },
      "source": [
        "# Вариант 4."
      ]
    },
    {
      "cell_type": "markdown",
      "metadata": {
        "id": "o7jyDAXVNXSI"
      },
      "source": [
        "Кто делает:\n",
        "1. Нуромский Евгений Михайлович\n",
        "2. Родин Андрей Дмитриевич\n",
        "3. Рыженко Роман Владиславович\n",
        "4. Юлов Егор Владимирович "
      ]
    },
    {
      "cell_type": "markdown",
      "metadata": {
        "id": "Y2AweIhaIhrl"
      },
      "source": [
        "**Задача 1.**\n",
        "\n",
        "Реализовать функцию, которая принимает матрицу 3x3 и возвращает обратную по отношеную к ней матрицу.\n",
        "\n",
        "**Немного теории**. *Матрица $А^{-1}$ называется обратной матрицей по отношению к матрице $А$, если $А*А^{-1} = Е$, где $Е$ — единичная матрица n-го порядка. Обратная матрица может существовать только для квадратных матриц.*\n",
        "\n",
        "P.s. использовать встроенные функции запрещено."
      ]
    },
    {
      "cell_type": "code",
      "execution_count": null,
      "metadata": {
        "id": "wRH4GNSAJchA"
      },
      "outputs": [],
      "source": [
        "# ваше решение"
      ]
    },
    {
      "cell_type": "markdown",
      "metadata": {
        "id": "_CimGvMAJiw5"
      },
      "source": [
        "**Задача 2.**\n",
        "\n",
        "Дан одномернный массив. Создайте функцию, которая принимает данные массив и возвращает массив, состоящий из элементов, целая часть от деления которых больше 3."
      ]
    },
    {
      "cell_type": "code",
      "execution_count": null,
      "metadata": {
        "id": "4vTLwhjQJj2L"
      },
      "outputs": [],
      "source": [
        "# ваше решение"
      ]
    },
    {
      "cell_type": "markdown",
      "metadata": {
        "id": "SFdz-fHbJ7yt"
      },
      "source": [
        "**Задача 3.**\n",
        "\n",
        "Дана матрица 4х3 (содержащаяя координаты 4х векторов, столбцы это соотсветсвенно x,y,z) и вектор (x,y,z). Напишите функцию которая возвращает ближащий вектор из матрицы к заданому вектору (согласно расстоянию между векторами)."
      ]
    },
    {
      "cell_type": "code",
      "execution_count": null,
      "metadata": {
        "id": "dJny__RzKv3W"
      },
      "outputs": [],
      "source": [
        "# ваше решение"
      ]
    },
    {
      "cell_type": "markdown",
      "metadata": {
        "id": "KYTvVWDPLE43"
      },
      "source": [
        "**Задача 4.**\n",
        "\n",
        "Дан вектор из ненулевых элементов. Вставьте между каждыми элементами по три 0."
      ]
    },
    {
      "cell_type": "code",
      "execution_count": null,
      "metadata": {
        "id": "g6RUeHBfLMPc"
      },
      "outputs": [],
      "source": [
        "# ваше решение"
      ]
    }
  ],
  "metadata": {
    "colab": {
      "provenance": [],
      "toc_visible": true
    },
    "kernelspec": {
      "display_name": "Python 3.10.0 64-bit",
      "language": "python",
      "name": "python3"
    },
    "language_info": {
      "name": "python",
      "version": "3.10.0"
    },
    "vscode": {
      "interpreter": {
        "hash": "afb734500600fd355917ca529030176ea0ca205570884b88f2f6f7d791fd3fbe"
      }
    }
  },
  "nbformat": 4,
  "nbformat_minor": 0
}
