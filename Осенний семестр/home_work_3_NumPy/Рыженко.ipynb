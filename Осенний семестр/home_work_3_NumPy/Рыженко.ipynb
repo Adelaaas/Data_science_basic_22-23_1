{
  "nbformat": 4,
  "nbformat_minor": 0,
  "metadata": {
    "colab": {
      "provenance": []
    },
    "kernelspec": {
      "name": "python3",
      "display_name": "Python 3"
    },
    "language_info": {
      "name": "python"
    }
  },
  "cells": [
    {
      "cell_type": "code",
      "execution_count": null,
      "metadata": {
        "colab": {
          "base_uri": "https://localhost:8080/"
        },
        "id": "Sr7tJxJ30RlT",
        "outputId": "3246261d-88df-4338-9e5e-d5ed4bbda678"
      },
      "outputs": [
        {
          "output_type": "stream",
          "name": "stdout",
          "text": [
            "1 -2 0\n",
            "3 4 2\n",
            "-1 3 1\n",
            "[-0.25  0.25 -0.5 ]\n",
            "[-0.625  0.125 -0.25 ]\n",
            "[ 1.625 -0.125  1.25 ]\n"
          ]
        }
      ],
      "source": [
        "# Задача 1\n",
        "# Решена методом элементарных преобразований\n",
        "\n",
        "import numpy\n",
        "def inversed_matrix(b):\n",
        "  a = numpy.array([[1,-2,0,1,0,0],[3,4,2,0,1,0],[-1,3,1,0,0,1]],float)\n",
        "  for i in range(3):\n",
        "    for j in range(3):\n",
        "      a[i][j] = b[i][j]\n",
        "\n",
        "  if (a[0][2] != 0):\n",
        "    c = a[1] * (-a[0][2] / a[1][2])\n",
        "    a[0] += c\n",
        "\n",
        "  if (a[0][0] == 0):\n",
        "    for i in range(3):\n",
        "      c = a[i][1]\n",
        "      a[i][1] = a[i][0]\n",
        "      a[i][0] = c\n",
        "      c = a[i][4]\n",
        "      a[i][4] = a[i][3]\n",
        "      a[i][3] = c\n",
        "\n",
        "\n",
        "\n",
        "  if (a[1][2] != 0):\n",
        "    c = a[2] * (-a[1][2] / a[2][2])\n",
        "    a[1] += c\n",
        "\n",
        "  if (a[1][1] == 0):\n",
        "    for i in range(3):\n",
        "      c = a[i][1]\n",
        "      a[i][1] = a[i][0]\n",
        "      a[i][0] = c\n",
        "      c = a[i][4]\n",
        "      a[i][4] = a[i][3]\n",
        "      a[i][3] = c\n",
        "\n",
        "\n",
        "\n",
        "  if (a[0][1] != 0):\n",
        "    c = a[1] * (-a[0][1] / a[1][1])\n",
        "    a[0] += c\n",
        "\n",
        "  if (a[1][0] != 0):\n",
        "    c = a[0] * (-a[1][0] / a[0][0])\n",
        "    a[1] += c\n",
        "\n",
        "\n",
        "\n",
        "  if (a[2][0] != 0):\n",
        "    c = a[0] * (-a[2][0] / a[0][0])\n",
        "    a[2] += c\n",
        "\n",
        "  if (a[2][2] == 0):\n",
        "    for i in range(3):\n",
        "      c = a[i][2]\n",
        "      a[i][2] = a[i][1]\n",
        "      a[i][1] = c\n",
        "      c = a[i][5]\n",
        "      a[i][5] = a[i][4]\n",
        "      a[i][4] = c\n",
        "\n",
        "  if (a[2][1] != 0):\n",
        "    c = a[1] * (-a[2][1] / a[1][1])\n",
        "    a[2] += c\n",
        "\n",
        "\n",
        "\n",
        "  a[0] /= a[0][0]\n",
        "  a[1] /= a[1][1]\n",
        "  a[2] /= a[2][2]\n",
        "\n",
        "  ia = []\n",
        "  for i in range(3):\n",
        "    ia.append(a[i][3:])\n",
        "  \n",
        "\n",
        "  return ia\n",
        "\n",
        "\n",
        "\n",
        "\n",
        "m = []\n",
        "for i in range(3):\n",
        "  m.append(list(map(float,input().split())))\n",
        "\n",
        "im = []\n",
        "im = inversed_matrix(m)\n",
        "for i in range(3):\n",
        "  print(im[i])"
      ]
    },
    {
      "cell_type": "code",
      "source": [
        "# Задача 2\n",
        "\n",
        "def fun(b,y):\n",
        "  c = []\n",
        "  for i in range(len(b)):\n",
        "    if b[i]//y > 3:\n",
        "      c.append(b[i])\n",
        "  \n",
        "  return c\n",
        "\n",
        "\n",
        "\n",
        "a = list(map(int,input().split()))\n",
        "x = int(input())\n",
        "\n",
        "tn = []\n",
        "tn = fun(a,x)\n",
        "print(tn)\n"
      ],
      "metadata": {
        "colab": {
          "base_uri": "https://localhost:8080/"
        },
        "id": "ee6NZPod2s1e",
        "outputId": "fc906b5b-b6bc-45a5-cec5-06aae6205516"
      },
      "execution_count": null,
      "outputs": [
        {
          "output_type": "stream",
          "name": "stdout",
          "text": [
            "27 568375\n",
            "5\n",
            "[27, 568375]\n"
          ]
        }
      ]
    },
    {
      "cell_type": "code",
      "source": [
        "# Задача 3\n",
        "\n",
        "import numpy\n",
        "\n",
        "def fun(av, b):\n",
        "  rv = numpy.array([0,0,0,0],int)\n",
        "  for i in range(4):\n",
        "    rv[i] = (av[i][0] - b[0])**2 + (av[i][1] - b[1])**2 + (av[0][2] - b[2])**2\n",
        "\n",
        "  z = rv.argmin()\n",
        "  \n",
        "  return z\n",
        "\n",
        "\n",
        "\n",
        "mv = []\n",
        "for i in range(4):\n",
        "  mv.append(list(map(float,input().split())))\n",
        "fv = list(map(float,input().split()))\n",
        "v = fun(mv,fv)\n",
        "print(f'ближайший вектор - вектор №{v+1} - ({mv[v][0]};{mv[v][1]};{mv[v][2]})')"
      ],
      "metadata": {
        "colab": {
          "base_uri": "https://localhost:8080/"
        },
        "id": "XLcLZkW-KlA6",
        "outputId": "95a82911-c2ca-4baf-877c-e2b80835cc3d"
      },
      "execution_count": 5,
      "outputs": [
        {
          "output_type": "stream",
          "name": "stdout",
          "text": [
            "1 2 3\n",
            "4 5 6\n",
            "1 2 4\n",
            "3 5 6\n",
            "7 8 9\n",
            "ближайший вектор - вектор №1 - (4.0;5.0;6.0)\n"
          ]
        }
      ]
    },
    {
      "cell_type": "code",
      "source": [
        "# Задача 4\n",
        "\n",
        "nen = list(map(int,input().split()))\n",
        "n = []\n",
        "for i in range(len(nen)-1):\n",
        "  n.append(nen[i])\n",
        "  n.append(0)\n",
        "  n.append(0)\n",
        "  n.append(0)\n",
        "n.append(nen[-1])\n",
        "\n",
        "print(n)"
      ],
      "metadata": {
        "colab": {
          "base_uri": "https://localhost:8080/"
        },
        "id": "291gBlBIRIiO",
        "outputId": "935d31b9-1d71-493b-eb80-32bf54c16f6d"
      },
      "execution_count": null,
      "outputs": [
        {
          "output_type": "stream",
          "name": "stdout",
          "text": [
            "1 2 3 4\n",
            "[1, 0, 0, 0, 2, 0, 0, 0, 3, 0, 0, 0, 4]\n"
          ]
        }
      ]
    }
  ]
}
