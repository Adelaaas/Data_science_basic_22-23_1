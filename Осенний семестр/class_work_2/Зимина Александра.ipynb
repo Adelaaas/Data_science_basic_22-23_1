{
  "nbformat": 4,
  "nbformat_minor": 0,
  "metadata": {
    "colab": {
      "provenance": [],
      "collapsed_sections": []
    },
    "kernelspec": {
      "name": "python3",
      "display_name": "Python 3"
    },
    "language_info": {
      "name": "python"
    }
  },
  "cells": [
    {
      "cell_type": "code",
      "execution_count": 13,
      "metadata": {
        "colab": {
          "base_uri": "https://localhost:8080/"
        },
        "id": "lZTi6AjyVmbT",
        "outputId": "6c2e13a1-63c0-4960-a406-05c72f3c42d9"
      },
      "outputs": [
        {
          "output_type": "stream",
          "name": "stdout",
          "text": [
            "True\n",
            "False\n",
            "1 - не простое и не составное число\n"
          ]
        }
      ],
      "source": [
        "def is_prime(n):\n",
        "  f = True\n",
        "  for i in range(2, int(n ** 0.5) + 1):\n",
        "    if n % i == 0:\n",
        "      f = False\n",
        "  if n == 1:\n",
        "    f = \"1 - не простое и не составное число\"\n",
        "  return f\n",
        "\n",
        "print(is_prime(7))\n",
        "print(is_prime(10))\n",
        "print(is_prime(1))"
      ]
    }
  ]
}