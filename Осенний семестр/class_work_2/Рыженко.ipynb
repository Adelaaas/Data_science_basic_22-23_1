{
  "nbformat": 4,
  "nbformat_minor": 0,
  "metadata": {
    "colab": {
      "provenance": []
    },
    "kernelspec": {
      "name": "python3",
      "display_name": "Python 3"
    },
    "language_info": {
      "name": "python"
    }
  },
  "cells": [
    {
      "cell_type": "code",
      "execution_count": null,
      "metadata": {
        "id": "ZPUhVQMMXvUb"
      },
      "outputs": [],
      "source": [
        "def distance(x1, y1, x2, y2):\n",
        "  return ((abs(x1-x2))**2 + (abs(y1-y2))**2)**0.5"
      ]
    }
  ]
}