{
  "nbformat": 4,
  "nbformat_minor": 0,
  "metadata": {
    "colab": {
      "provenance": [],
      "toc_visible": true
    },
    "kernelspec": {
      "name": "python3",
      "display_name": "Python 3"
    },
    "language_info": {
      "name": "python"
    }
  },
  "cells": [
    {
      "cell_type": "markdown",
      "source": [
        "# Домашнее задание"
      ],
      "metadata": {
        "id": "Lb0fH4pWyGBE"
      }
    },
    {
      "cell_type": "markdown",
      "source": [
        "В домашнем задании вам необходимо рассмтреть данные с олимпиады НТИ по профилю \"Исскусственный интеллект\" за 2019-2020 год.\n",
        "\n",
        "Задачу можно найти по ссылке:\n",
        "\n",
        "https://www.kaggle.com/c/onti-students-performance/data"
      ],
      "metadata": {
        "id": "FbPB2pyrx33h"
      }
    },
    {
      "cell_type": "markdown",
      "source": [
        "## **Как загрузить данные в Google Colab?**\n",
        "\n",
        "1. Из Github (файлы <25 МБ)\n",
        "2. С локального диска\n",
        "3. С Google Диска"
      ],
      "metadata": {
        "id": "0g6EbTpkyLb-"
      }
    },
    {
      "cell_type": "code",
      "source": [
        "# Github\n",
        "# 1. Нажмите на файл с данными, которые хотите подключить\n",
        "# 2. Нажмите \"Raw\"\n",
        "# 3. Скопируйте ссылку открывшейся старницы\n",
        "import pandas as pd\n",
        "\n",
        "url = 'https://raw.githubusercontent.com/Adelaaas/Data_science_basic_22-23_1/main/class_work_4_Pandas/ONTI%20Students%20performance/X_train.csv'\n",
        "df1 = pd.read_csv(url)\n",
        "\n",
        "df1.head()"
      ],
      "metadata": {
        "id": "1HDXz97qyMaw"
      },
      "execution_count": null,
      "outputs": []
    },
    {
      "cell_type": "code",
      "source": [
        "# С локального компьютера\n",
        "\n",
        "from google.colab import files\n",
        "uploaded = files.upload()"
      ],
      "metadata": {
        "id": "Ny4jIq-qyQDr"
      },
      "execution_count": null,
      "outputs": []
    },
    {
      "cell_type": "code",
      "source": [
        "studs_info = pd.read_csv('studs_info.csv')\n",
        "X_train = pd.read_csv('X_train.csv')\n",
        "y_train = pd.read_csv('y_train.csv')\n",
        "zachety = pd.read_csv('zachety.csv')"
      ],
      "metadata": {
        "id": "hf8wQfdfyQbg"
      },
      "execution_count": null,
      "outputs": []
    },
    {
      "cell_type": "code",
      "source": [
        "# Google disk\n",
        "\n",
        "from google.colab import drive\n",
        "drive.mount('/content/drive')"
      ],
      "metadata": {
        "id": "oiKry3qfySAM"
      },
      "execution_count": null,
      "outputs": []
    },
    {
      "cell_type": "code",
      "source": [
        "path = \"copied path\"\n",
        "# /content/drive/MyDrive/Data Science для школьников/ОНТИ /ONTI Students performance/X_train.csv\n",
        "df_bonus = pd.read_csv(path)"
      ],
      "metadata": {
        "id": "OnSm0IL2yVHJ"
      },
      "execution_count": null,
      "outputs": []
    },
    {
      "cell_type": "markdown",
      "source": [
        "## Вариант 1."
      ],
      "metadata": {
        "id": "KAW0d_zSyX_d"
      }
    },
    {
      "cell_type": "markdown",
      "source": [
        "Кто делает:\n",
        "1. Анохин Георгий Александрович\n",
        "2. Георгиев Денис Дмитриевич \n",
        "3. Горячев Иван Сергеевич\n",
        "4. Даниярбек уулу Нурбол\n",
        "5. Дорохов Матвей Дмитриевич \n",
        "6. Зайцев Егор Андреевич"
      ],
      "metadata": {
        "id": "uz5vhuFPyZAk"
      }
    },
    {
      "cell_type": "markdown",
      "source": [
        "1. Посмотреть размерность дата фреймов.\n",
        "2. Соедить два датафрейма X_train и y_train в один train по индексам.\n",
        "3. Посчитать пропуски в получившемся датафрейме train.\n",
        "4. Посчитать сколько раз встречается каждая специальность в колонке studs_info['направление (специальность)'].\n",
        "5. Создать новый датафрейм из studs_info, в котором будут только женщины с лечебного дела.\n",
        "6. Разложить колонку \"Дата выпуска\" на три: Год выпуска, Месяц выпуска, День выпуска.\n",
        "7. Посчитать сколько уникальных значений в колонке studs_info['Категория обучения'].\n",
        "8. Заменить в колонке studs_info['Категория обучения'] все строковые категории на числовые.\n",
        "9. Удалить ненужную на ваш вгляд колонку из датафрейма studs_info.\n",
        "10. Посчитать сколько мужчин выпустились 2019-08-31."
      ],
      "metadata": {
        "id": "YyYlw9TSybvn"
      }
    },
    {
      "cell_type": "code",
      "source": [
        "# Ваше решение"
      ],
      "metadata": {
        "id": "uFuF5BrDydfF"
      },
      "execution_count": null,
      "outputs": []
    },
    {
      "cell_type": "markdown",
      "source": [
        "## Вариант 2."
      ],
      "metadata": {
        "id": "60ibBknFydqG"
      }
    },
    {
      "cell_type": "markdown",
      "source": [
        "Кто делает:\n",
        "1. Зверев Александр Александрович \n",
        "2. Зимина Александра Георгиевна\n",
        "3. Иванов Александр Андреевич \n",
        "4. Калентьев (Топилин) Константин Юрьевич\n",
        "5. Мартюшев Владислав Алексеевич"
      ],
      "metadata": {
        "id": "bCvfKEe6yhTU"
      }
    },
    {
      "cell_type": "markdown",
      "source": [
        "1. Посмотреть размерность дата фреймов.\n",
        "2. Соедить два датафрейма X_train и y_train в один train по индексам.\n",
        "3. Посчитать пропуски в датафрейме studs_info.\n",
        "4. Посчитать сколько мужчин, сколько женщин в датафрейме studs_info.\n",
        "5. Создать новый датафрейм из studs_info, в котором будут только мужчины 2019-06-30 года выпуска.\n",
        "6. Разложить колонку \"Дата выдачи\" на четыре: Год выдачи, Месяц выдачи, День выдачи, Время выдачи.\n",
        "7. Посчитать сколько уникальных значений в колонке studs_info['Статус'] и сколько раз каждое значение встречается в датафрейм.\n",
        "8. Посчитать сколько раз какая оценка встречатся в датафрейм y_train.\n",
        "9. Посчитать средний балл для студента с ID=175711 по всем предметам.\n",
        "10. Удалить любую ненужны колонку на ваш вгляд из датафрейм train."
      ],
      "metadata": {
        "id": "NR37HA6dyjMf"
      }
    },
    {
      "cell_type": "code",
      "source": [
        "import pandas as pd\n",
        "\n",
        "studs_info = pd.read_csv('https://raw.githubusercontent.com/Adelaaas/Data_science_basic_22-23_1/main/class_work_4_Pandas/ONTI%20Students%20performance/studs_info.csv')\n",
        "X_train = pd.read_csv('https://raw.githubusercontent.com/Adelaaas/Data_science_basic_22-23_1/main/class_work_4_Pandas/ONTI%20Students%20performance/X_train.csv')\n",
        "y_train = pd.read_csv('https://raw.githubusercontent.com/Adelaaas/Data_science_basic_22-23_1/main/class_work_4_Pandas/ONTI%20Students%20performance/y_train.csv')\n",
        "zachety = pd.read_csv('https://raw.githubusercontent.com/Adelaaas/Data_science_basic_22-23_1/main/class_work_4_Pandas/ONTI%20Students%20performance/zachety.csv')"
      ],
      "metadata": {
        "id": "N7AQr_fpyk5d"
      },
      "execution_count": 29,
      "outputs": []
    },
    {
      "cell_type": "code",
      "source": [
        "#Задание 1\n",
        "\n",
        "print(\"studs_info: \", studs_info.shape)\n",
        "print(\"X_train: \", X_train.shape)\n",
        "print(\"y_train: \", y_train.shape)\n",
        "print(\"zachety: \", zachety.shape)"
      ],
      "metadata": {
        "colab": {
          "base_uri": "https://localhost:8080/"
        },
        "id": "KG5yQCWdyn-_",
        "outputId": "9c312c81-f6ba-4e3d-9162-e7633c57a518"
      },
      "execution_count": 30,
      "outputs": [
        {
          "output_type": "stream",
          "name": "stdout",
          "text": [
            "studs_info:  (5466, 13)\n",
            "X_train:  (105058, 8)\n",
            "y_train:  (105058, 2)\n",
            "zachety:  (133223, 8)\n"
          ]
        }
      ]
    },
    {
      "cell_type": "code",
      "source": [
        "#Задание 2\n",
        "\n",
        "train = pd.concat([X_train, y_train], axis = 1)\n",
        "train"
      ],
      "metadata": {
        "colab": {
          "base_uri": "https://localhost:8080/",
          "height": 658
        },
        "id": "t8qiJkwUqsI6",
        "outputId": "8262ee35-b099-4910-cfb5-d395fe5547dd"
      },
      "execution_count": 31,
      "outputs": [
        {
          "output_type": "execute_result",
          "data": {
            "text/plain": [
              "        Unnamed: 0  STD_ID             НАПРАВЛЕНИЕ        ГОД  КУРС  СЕМЕСТР  \\\n",
              "0            51081  175711     38.03.02 Менеджмент  2018-2019   2.0      4.0   \n",
              "1            72921  100647  31.05.01 Лечебное дело  2015-2016   3.0      5.0   \n",
              "2            96438  199311   31.05.03 Стоматология  2019-2020   1.0      1.0   \n",
              "3           273044  162002     38.03.02 Менеджмент  2017-2018   2.0      3.0   \n",
              "4           371309  108384  31.05.01 Лечебное дело  2018-2019   5.0      9.0   \n",
              "...            ...     ...                     ...        ...   ...      ...   \n",
              "105053      224856  176141  40.03.01 Юриспруденция  2017-2018   1.0      2.0   \n",
              "105054      260998  182794  31.05.01 Лечебное дело  2018-2019   2.0      4.0   \n",
              "105055       57245  162391  31.05.01 Лечебное дело  2016-2017   1.0      2.0   \n",
              "105056      218529  202479      38.03.01 Экономика  2017-2018   1.0      1.0   \n",
              "105057      233318  182325  08.03.01 Строительство  2018-2019   2.0      3.0   \n",
              "\n",
              "                      АТТЕСТАЦИЯ  \\\n",
              "0                        Экзамен   \n",
              "1                        Экзамен   \n",
              "2                        Экзамен   \n",
              "3                        Экзамен   \n",
              "4                        Экзамен   \n",
              "...                          ...   \n",
              "105053           Курсовая работа   \n",
              "105054                   Экзамен   \n",
              "105055  Дифференцированный зачет   \n",
              "105056  Дифференцированный зачет   \n",
              "105057           Курсовая работа   \n",
              "\n",
              "                                               ДИСЦИПЛИНА   index  mark  \n",
              "0                                               Маркетинг   51081     5  \n",
              "1       Пропедевтика внутренних болезней, лучевая диаг...   72921     5  \n",
              "2                                                   Химия   96438     5  \n",
              "3                                              Статистика  273044     4  \n",
              "4                                               Педиатрия  371309     3  \n",
              "...                                                   ...     ...   ...  \n",
              "105053                              Конституционное право  224856     3  \n",
              "105054                              Нормальная физиология  260998     3  \n",
              "105055                                   Иностранный язык   57245     4  \n",
              "105056                                        Информатика  218529     4  \n",
              "105057           Технологические процессы в строительстве  233318     4  \n",
              "\n",
              "[105058 rows x 10 columns]"
            ],
            "text/html": [
              "\n",
              "  <div id=\"df-7459a267-46b8-4bbf-9555-20269b61dddd\">\n",
              "    <div class=\"colab-df-container\">\n",
              "      <div>\n",
              "<style scoped>\n",
              "    .dataframe tbody tr th:only-of-type {\n",
              "        vertical-align: middle;\n",
              "    }\n",
              "\n",
              "    .dataframe tbody tr th {\n",
              "        vertical-align: top;\n",
              "    }\n",
              "\n",
              "    .dataframe thead th {\n",
              "        text-align: right;\n",
              "    }\n",
              "</style>\n",
              "<table border=\"1\" class=\"dataframe\">\n",
              "  <thead>\n",
              "    <tr style=\"text-align: right;\">\n",
              "      <th></th>\n",
              "      <th>Unnamed: 0</th>\n",
              "      <th>STD_ID</th>\n",
              "      <th>НАПРАВЛЕНИЕ</th>\n",
              "      <th>ГОД</th>\n",
              "      <th>КУРС</th>\n",
              "      <th>СЕМЕСТР</th>\n",
              "      <th>АТТЕСТАЦИЯ</th>\n",
              "      <th>ДИСЦИПЛИНА</th>\n",
              "      <th>index</th>\n",
              "      <th>mark</th>\n",
              "    </tr>\n",
              "  </thead>\n",
              "  <tbody>\n",
              "    <tr>\n",
              "      <th>0</th>\n",
              "      <td>51081</td>\n",
              "      <td>175711</td>\n",
              "      <td>38.03.02 Менеджмент</td>\n",
              "      <td>2018-2019</td>\n",
              "      <td>2.0</td>\n",
              "      <td>4.0</td>\n",
              "      <td>Экзамен</td>\n",
              "      <td>Маркетинг</td>\n",
              "      <td>51081</td>\n",
              "      <td>5</td>\n",
              "    </tr>\n",
              "    <tr>\n",
              "      <th>1</th>\n",
              "      <td>72921</td>\n",
              "      <td>100647</td>\n",
              "      <td>31.05.01 Лечебное дело</td>\n",
              "      <td>2015-2016</td>\n",
              "      <td>3.0</td>\n",
              "      <td>5.0</td>\n",
              "      <td>Экзамен</td>\n",
              "      <td>Пропедевтика внутренних болезней, лучевая диаг...</td>\n",
              "      <td>72921</td>\n",
              "      <td>5</td>\n",
              "    </tr>\n",
              "    <tr>\n",
              "      <th>2</th>\n",
              "      <td>96438</td>\n",
              "      <td>199311</td>\n",
              "      <td>31.05.03 Стоматология</td>\n",
              "      <td>2019-2020</td>\n",
              "      <td>1.0</td>\n",
              "      <td>1.0</td>\n",
              "      <td>Экзамен</td>\n",
              "      <td>Химия</td>\n",
              "      <td>96438</td>\n",
              "      <td>5</td>\n",
              "    </tr>\n",
              "    <tr>\n",
              "      <th>3</th>\n",
              "      <td>273044</td>\n",
              "      <td>162002</td>\n",
              "      <td>38.03.02 Менеджмент</td>\n",
              "      <td>2017-2018</td>\n",
              "      <td>2.0</td>\n",
              "      <td>3.0</td>\n",
              "      <td>Экзамен</td>\n",
              "      <td>Статистика</td>\n",
              "      <td>273044</td>\n",
              "      <td>4</td>\n",
              "    </tr>\n",
              "    <tr>\n",
              "      <th>4</th>\n",
              "      <td>371309</td>\n",
              "      <td>108384</td>\n",
              "      <td>31.05.01 Лечебное дело</td>\n",
              "      <td>2018-2019</td>\n",
              "      <td>5.0</td>\n",
              "      <td>9.0</td>\n",
              "      <td>Экзамен</td>\n",
              "      <td>Педиатрия</td>\n",
              "      <td>371309</td>\n",
              "      <td>3</td>\n",
              "    </tr>\n",
              "    <tr>\n",
              "      <th>...</th>\n",
              "      <td>...</td>\n",
              "      <td>...</td>\n",
              "      <td>...</td>\n",
              "      <td>...</td>\n",
              "      <td>...</td>\n",
              "      <td>...</td>\n",
              "      <td>...</td>\n",
              "      <td>...</td>\n",
              "      <td>...</td>\n",
              "      <td>...</td>\n",
              "    </tr>\n",
              "    <tr>\n",
              "      <th>105053</th>\n",
              "      <td>224856</td>\n",
              "      <td>176141</td>\n",
              "      <td>40.03.01 Юриспруденция</td>\n",
              "      <td>2017-2018</td>\n",
              "      <td>1.0</td>\n",
              "      <td>2.0</td>\n",
              "      <td>Курсовая работа</td>\n",
              "      <td>Конституционное право</td>\n",
              "      <td>224856</td>\n",
              "      <td>3</td>\n",
              "    </tr>\n",
              "    <tr>\n",
              "      <th>105054</th>\n",
              "      <td>260998</td>\n",
              "      <td>182794</td>\n",
              "      <td>31.05.01 Лечебное дело</td>\n",
              "      <td>2018-2019</td>\n",
              "      <td>2.0</td>\n",
              "      <td>4.0</td>\n",
              "      <td>Экзамен</td>\n",
              "      <td>Нормальная физиология</td>\n",
              "      <td>260998</td>\n",
              "      <td>3</td>\n",
              "    </tr>\n",
              "    <tr>\n",
              "      <th>105055</th>\n",
              "      <td>57245</td>\n",
              "      <td>162391</td>\n",
              "      <td>31.05.01 Лечебное дело</td>\n",
              "      <td>2016-2017</td>\n",
              "      <td>1.0</td>\n",
              "      <td>2.0</td>\n",
              "      <td>Дифференцированный зачет</td>\n",
              "      <td>Иностранный язык</td>\n",
              "      <td>57245</td>\n",
              "      <td>4</td>\n",
              "    </tr>\n",
              "    <tr>\n",
              "      <th>105056</th>\n",
              "      <td>218529</td>\n",
              "      <td>202479</td>\n",
              "      <td>38.03.01 Экономика</td>\n",
              "      <td>2017-2018</td>\n",
              "      <td>1.0</td>\n",
              "      <td>1.0</td>\n",
              "      <td>Дифференцированный зачет</td>\n",
              "      <td>Информатика</td>\n",
              "      <td>218529</td>\n",
              "      <td>4</td>\n",
              "    </tr>\n",
              "    <tr>\n",
              "      <th>105057</th>\n",
              "      <td>233318</td>\n",
              "      <td>182325</td>\n",
              "      <td>08.03.01 Строительство</td>\n",
              "      <td>2018-2019</td>\n",
              "      <td>2.0</td>\n",
              "      <td>3.0</td>\n",
              "      <td>Курсовая работа</td>\n",
              "      <td>Технологические процессы в строительстве</td>\n",
              "      <td>233318</td>\n",
              "      <td>4</td>\n",
              "    </tr>\n",
              "  </tbody>\n",
              "</table>\n",
              "<p>105058 rows × 10 columns</p>\n",
              "</div>\n",
              "      <button class=\"colab-df-convert\" onclick=\"convertToInteractive('df-7459a267-46b8-4bbf-9555-20269b61dddd')\"\n",
              "              title=\"Convert this dataframe to an interactive table.\"\n",
              "              style=\"display:none;\">\n",
              "        \n",
              "  <svg xmlns=\"http://www.w3.org/2000/svg\" height=\"24px\"viewBox=\"0 0 24 24\"\n",
              "       width=\"24px\">\n",
              "    <path d=\"M0 0h24v24H0V0z\" fill=\"none\"/>\n",
              "    <path d=\"M18.56 5.44l.94 2.06.94-2.06 2.06-.94-2.06-.94-.94-2.06-.94 2.06-2.06.94zm-11 1L8.5 8.5l.94-2.06 2.06-.94-2.06-.94L8.5 2.5l-.94 2.06-2.06.94zm10 10l.94 2.06.94-2.06 2.06-.94-2.06-.94-.94-2.06-.94 2.06-2.06.94z\"/><path d=\"M17.41 7.96l-1.37-1.37c-.4-.4-.92-.59-1.43-.59-.52 0-1.04.2-1.43.59L10.3 9.45l-7.72 7.72c-.78.78-.78 2.05 0 2.83L4 21.41c.39.39.9.59 1.41.59.51 0 1.02-.2 1.41-.59l7.78-7.78 2.81-2.81c.8-.78.8-2.07 0-2.86zM5.41 20L4 18.59l7.72-7.72 1.47 1.35L5.41 20z\"/>\n",
              "  </svg>\n",
              "      </button>\n",
              "      \n",
              "  <style>\n",
              "    .colab-df-container {\n",
              "      display:flex;\n",
              "      flex-wrap:wrap;\n",
              "      gap: 12px;\n",
              "    }\n",
              "\n",
              "    .colab-df-convert {\n",
              "      background-color: #E8F0FE;\n",
              "      border: none;\n",
              "      border-radius: 50%;\n",
              "      cursor: pointer;\n",
              "      display: none;\n",
              "      fill: #1967D2;\n",
              "      height: 32px;\n",
              "      padding: 0 0 0 0;\n",
              "      width: 32px;\n",
              "    }\n",
              "\n",
              "    .colab-df-convert:hover {\n",
              "      background-color: #E2EBFA;\n",
              "      box-shadow: 0px 1px 2px rgba(60, 64, 67, 0.3), 0px 1px 3px 1px rgba(60, 64, 67, 0.15);\n",
              "      fill: #174EA6;\n",
              "    }\n",
              "\n",
              "    [theme=dark] .colab-df-convert {\n",
              "      background-color: #3B4455;\n",
              "      fill: #D2E3FC;\n",
              "    }\n",
              "\n",
              "    [theme=dark] .colab-df-convert:hover {\n",
              "      background-color: #434B5C;\n",
              "      box-shadow: 0px 1px 3px 1px rgba(0, 0, 0, 0.15);\n",
              "      filter: drop-shadow(0px 1px 2px rgba(0, 0, 0, 0.3));\n",
              "      fill: #FFFFFF;\n",
              "    }\n",
              "  </style>\n",
              "\n",
              "      <script>\n",
              "        const buttonEl =\n",
              "          document.querySelector('#df-7459a267-46b8-4bbf-9555-20269b61dddd button.colab-df-convert');\n",
              "        buttonEl.style.display =\n",
              "          google.colab.kernel.accessAllowed ? 'block' : 'none';\n",
              "\n",
              "        async function convertToInteractive(key) {\n",
              "          const element = document.querySelector('#df-7459a267-46b8-4bbf-9555-20269b61dddd');\n",
              "          const dataTable =\n",
              "            await google.colab.kernel.invokeFunction('convertToInteractive',\n",
              "                                                     [key], {});\n",
              "          if (!dataTable) return;\n",
              "\n",
              "          const docLinkHtml = 'Like what you see? Visit the ' +\n",
              "            '<a target=\"_blank\" href=https://colab.research.google.com/notebooks/data_table.ipynb>data table notebook</a>'\n",
              "            + ' to learn more about interactive tables.';\n",
              "          element.innerHTML = '';\n",
              "          dataTable['output_type'] = 'display_data';\n",
              "          await google.colab.output.renderOutput(dataTable, element);\n",
              "          const docLink = document.createElement('div');\n",
              "          docLink.innerHTML = docLinkHtml;\n",
              "          element.appendChild(docLink);\n",
              "        }\n",
              "      </script>\n",
              "    </div>\n",
              "  </div>\n",
              "  "
            ]
          },
          "metadata": {},
          "execution_count": 31
        }
      ]
    },
    {
      "cell_type": "code",
      "source": [
        "#Задание 3\n",
        "\n",
        "nan_count = studs_info.isna().sum()\n",
        "nan_count"
      ],
      "metadata": {
        "colab": {
          "base_uri": "https://localhost:8080/"
        },
        "id": "idRwLxVTssuu",
        "outputId": "6753a018-7ec6-4027-feac-532f0a3262f1"
      },
      "execution_count": 32,
      "outputs": [
        {
          "output_type": "execute_result",
          "data": {
            "text/plain": [
              "STD_ID                            0\n",
              "   number                         1\n",
              "Пол                               1\n",
              "Статус                            1\n",
              "Дата выпуска                   5002\n",
              "Категория обучения                1\n",
              "Форма обучения                    1\n",
              "Шифр                              1\n",
              "направление (специальность)       1\n",
              "                                191\n",
              "Образование                     191\n",
              "Дата выдачи                     240\n",
              "Что именно закончил             191\n",
              "dtype: int64"
            ]
          },
          "metadata": {},
          "execution_count": 32
        }
      ]
    },
    {
      "cell_type": "code",
      "source": [
        "#Задание 4\n",
        "\n",
        "sex = studs_info[\"Пол\"]\n",
        "women_count = sex[sex == \"Ж\"].count()\n",
        "print(\"Женщины: \", women_count)\n",
        "men_count = sex[sex == \"М\"].count()\n",
        "print(\"Мужчины: \", men_count)"
      ],
      "metadata": {
        "colab": {
          "base_uri": "https://localhost:8080/"
        },
        "id": "BsJif1_TuUvr",
        "outputId": "2a62a639-2ff5-47ed-e24c-374c699e859b"
      },
      "execution_count": 33,
      "outputs": [
        {
          "output_type": "stream",
          "name": "stdout",
          "text": [
            "Женщины:  3192\n",
            "Мужчины:  2273\n"
          ]
        }
      ]
    },
    {
      "cell_type": "code",
      "source": [
        "#Задание 5\n",
        "\n",
        "menn = studs_info[studs_info[\"Пол\"] == \"М\"]\n",
        "men_thirtythjune2019 = menn[menn[\"Дата выпуска\"] == \"2019-06-30\"].shape[0]\n",
        "men_thirtythjune2019"
      ],
      "metadata": {
        "colab": {
          "base_uri": "https://localhost:8080/"
        },
        "id": "pe1s5U0dwhw5",
        "outputId": "02ebaf11-b707-41c3-e3b8-5b8c48537c6e"
      },
      "execution_count": 34,
      "outputs": [
        {
          "output_type": "execute_result",
          "data": {
            "text/plain": [
              "55"
            ]
          },
          "metadata": {},
          "execution_count": 34
        }
      ]
    },
    {
      "cell_type": "code",
      "source": [
        "#Задание 6\n",
        "\n",
        "studs_info_new = studs_info[\"Дата выдачи\"].str.split(\" \", expand = True)\n",
        "studs_info_new1 = pd.concat([studs_info_new[0].str.split(\"-\", expand = True), studs_info_new[1]], axis = 1)\n",
        "studs_info_new1.columns = [\"Год выдачи\", \"Месяц выдачи\", \"День выдачи\", \"Время выдачи\"]\n",
        "studs_info_new1"
      ],
      "metadata": {
        "colab": {
          "base_uri": "https://localhost:8080/",
          "height": 424
        },
        "id": "h2V_gBXpzPMT",
        "outputId": "bfbd0bc2-64f8-4916-a887-28d14d83b8c2"
      },
      "execution_count": 35,
      "outputs": [
        {
          "output_type": "execute_result",
          "data": {
            "text/plain": [
              "     Год выдачи Месяц выдачи День выдачи Время выдачи\n",
              "0          2013           06          26     00:00:00\n",
              "1          2012           06          23     00:00:00\n",
              "2          2013           06          25     00:00:00\n",
              "3          2013           06          23     00:00:00\n",
              "4          2012           06          29     00:00:00\n",
              "...         ...          ...         ...          ...\n",
              "5461       2013           06          21     00:00:00\n",
              "5462       2013           06          27     00:00:00\n",
              "5463       2014           05          31     00:00:00\n",
              "5464        NaN          NaN         NaN          NaN\n",
              "5465        NaN          NaN         NaN          NaN\n",
              "\n",
              "[5466 rows x 4 columns]"
            ],
            "text/html": [
              "\n",
              "  <div id=\"df-717ec155-6b08-4cbf-a0e8-bf64bb6347a0\">\n",
              "    <div class=\"colab-df-container\">\n",
              "      <div>\n",
              "<style scoped>\n",
              "    .dataframe tbody tr th:only-of-type {\n",
              "        vertical-align: middle;\n",
              "    }\n",
              "\n",
              "    .dataframe tbody tr th {\n",
              "        vertical-align: top;\n",
              "    }\n",
              "\n",
              "    .dataframe thead th {\n",
              "        text-align: right;\n",
              "    }\n",
              "</style>\n",
              "<table border=\"1\" class=\"dataframe\">\n",
              "  <thead>\n",
              "    <tr style=\"text-align: right;\">\n",
              "      <th></th>\n",
              "      <th>Год выдачи</th>\n",
              "      <th>Месяц выдачи</th>\n",
              "      <th>День выдачи</th>\n",
              "      <th>Время выдачи</th>\n",
              "    </tr>\n",
              "  </thead>\n",
              "  <tbody>\n",
              "    <tr>\n",
              "      <th>0</th>\n",
              "      <td>2013</td>\n",
              "      <td>06</td>\n",
              "      <td>26</td>\n",
              "      <td>00:00:00</td>\n",
              "    </tr>\n",
              "    <tr>\n",
              "      <th>1</th>\n",
              "      <td>2012</td>\n",
              "      <td>06</td>\n",
              "      <td>23</td>\n",
              "      <td>00:00:00</td>\n",
              "    </tr>\n",
              "    <tr>\n",
              "      <th>2</th>\n",
              "      <td>2013</td>\n",
              "      <td>06</td>\n",
              "      <td>25</td>\n",
              "      <td>00:00:00</td>\n",
              "    </tr>\n",
              "    <tr>\n",
              "      <th>3</th>\n",
              "      <td>2013</td>\n",
              "      <td>06</td>\n",
              "      <td>23</td>\n",
              "      <td>00:00:00</td>\n",
              "    </tr>\n",
              "    <tr>\n",
              "      <th>4</th>\n",
              "      <td>2012</td>\n",
              "      <td>06</td>\n",
              "      <td>29</td>\n",
              "      <td>00:00:00</td>\n",
              "    </tr>\n",
              "    <tr>\n",
              "      <th>...</th>\n",
              "      <td>...</td>\n",
              "      <td>...</td>\n",
              "      <td>...</td>\n",
              "      <td>...</td>\n",
              "    </tr>\n",
              "    <tr>\n",
              "      <th>5461</th>\n",
              "      <td>2013</td>\n",
              "      <td>06</td>\n",
              "      <td>21</td>\n",
              "      <td>00:00:00</td>\n",
              "    </tr>\n",
              "    <tr>\n",
              "      <th>5462</th>\n",
              "      <td>2013</td>\n",
              "      <td>06</td>\n",
              "      <td>27</td>\n",
              "      <td>00:00:00</td>\n",
              "    </tr>\n",
              "    <tr>\n",
              "      <th>5463</th>\n",
              "      <td>2014</td>\n",
              "      <td>05</td>\n",
              "      <td>31</td>\n",
              "      <td>00:00:00</td>\n",
              "    </tr>\n",
              "    <tr>\n",
              "      <th>5464</th>\n",
              "      <td>NaN</td>\n",
              "      <td>NaN</td>\n",
              "      <td>NaN</td>\n",
              "      <td>NaN</td>\n",
              "    </tr>\n",
              "    <tr>\n",
              "      <th>5465</th>\n",
              "      <td>NaN</td>\n",
              "      <td>NaN</td>\n",
              "      <td>NaN</td>\n",
              "      <td>NaN</td>\n",
              "    </tr>\n",
              "  </tbody>\n",
              "</table>\n",
              "<p>5466 rows × 4 columns</p>\n",
              "</div>\n",
              "      <button class=\"colab-df-convert\" onclick=\"convertToInteractive('df-717ec155-6b08-4cbf-a0e8-bf64bb6347a0')\"\n",
              "              title=\"Convert this dataframe to an interactive table.\"\n",
              "              style=\"display:none;\">\n",
              "        \n",
              "  <svg xmlns=\"http://www.w3.org/2000/svg\" height=\"24px\"viewBox=\"0 0 24 24\"\n",
              "       width=\"24px\">\n",
              "    <path d=\"M0 0h24v24H0V0z\" fill=\"none\"/>\n",
              "    <path d=\"M18.56 5.44l.94 2.06.94-2.06 2.06-.94-2.06-.94-.94-2.06-.94 2.06-2.06.94zm-11 1L8.5 8.5l.94-2.06 2.06-.94-2.06-.94L8.5 2.5l-.94 2.06-2.06.94zm10 10l.94 2.06.94-2.06 2.06-.94-2.06-.94-.94-2.06-.94 2.06-2.06.94z\"/><path d=\"M17.41 7.96l-1.37-1.37c-.4-.4-.92-.59-1.43-.59-.52 0-1.04.2-1.43.59L10.3 9.45l-7.72 7.72c-.78.78-.78 2.05 0 2.83L4 21.41c.39.39.9.59 1.41.59.51 0 1.02-.2 1.41-.59l7.78-7.78 2.81-2.81c.8-.78.8-2.07 0-2.86zM5.41 20L4 18.59l7.72-7.72 1.47 1.35L5.41 20z\"/>\n",
              "  </svg>\n",
              "      </button>\n",
              "      \n",
              "  <style>\n",
              "    .colab-df-container {\n",
              "      display:flex;\n",
              "      flex-wrap:wrap;\n",
              "      gap: 12px;\n",
              "    }\n",
              "\n",
              "    .colab-df-convert {\n",
              "      background-color: #E8F0FE;\n",
              "      border: none;\n",
              "      border-radius: 50%;\n",
              "      cursor: pointer;\n",
              "      display: none;\n",
              "      fill: #1967D2;\n",
              "      height: 32px;\n",
              "      padding: 0 0 0 0;\n",
              "      width: 32px;\n",
              "    }\n",
              "\n",
              "    .colab-df-convert:hover {\n",
              "      background-color: #E2EBFA;\n",
              "      box-shadow: 0px 1px 2px rgba(60, 64, 67, 0.3), 0px 1px 3px 1px rgba(60, 64, 67, 0.15);\n",
              "      fill: #174EA6;\n",
              "    }\n",
              "\n",
              "    [theme=dark] .colab-df-convert {\n",
              "      background-color: #3B4455;\n",
              "      fill: #D2E3FC;\n",
              "    }\n",
              "\n",
              "    [theme=dark] .colab-df-convert:hover {\n",
              "      background-color: #434B5C;\n",
              "      box-shadow: 0px 1px 3px 1px rgba(0, 0, 0, 0.15);\n",
              "      filter: drop-shadow(0px 1px 2px rgba(0, 0, 0, 0.3));\n",
              "      fill: #FFFFFF;\n",
              "    }\n",
              "  </style>\n",
              "\n",
              "      <script>\n",
              "        const buttonEl =\n",
              "          document.querySelector('#df-717ec155-6b08-4cbf-a0e8-bf64bb6347a0 button.colab-df-convert');\n",
              "        buttonEl.style.display =\n",
              "          google.colab.kernel.accessAllowed ? 'block' : 'none';\n",
              "\n",
              "        async function convertToInteractive(key) {\n",
              "          const element = document.querySelector('#df-717ec155-6b08-4cbf-a0e8-bf64bb6347a0');\n",
              "          const dataTable =\n",
              "            await google.colab.kernel.invokeFunction('convertToInteractive',\n",
              "                                                     [key], {});\n",
              "          if (!dataTable) return;\n",
              "\n",
              "          const docLinkHtml = 'Like what you see? Visit the ' +\n",
              "            '<a target=\"_blank\" href=https://colab.research.google.com/notebooks/data_table.ipynb>data table notebook</a>'\n",
              "            + ' to learn more about interactive tables.';\n",
              "          element.innerHTML = '';\n",
              "          dataTable['output_type'] = 'display_data';\n",
              "          await google.colab.output.renderOutput(dataTable, element);\n",
              "          const docLink = document.createElement('div');\n",
              "          docLink.innerHTML = docLinkHtml;\n",
              "          element.appendChild(docLink);\n",
              "        }\n",
              "      </script>\n",
              "    </div>\n",
              "  </div>\n",
              "  "
            ]
          },
          "metadata": {},
          "execution_count": 35
        }
      ]
    },
    {
      "cell_type": "code",
      "source": [
        "#Задание 7\n",
        "\n",
        "stat_unique = studs_info[\"Статус\"].value_counts()\n",
        "stat_unique"
      ],
      "metadata": {
        "colab": {
          "base_uri": "https://localhost:8080/"
        },
        "id": "GzG_u_gJ2Pix",
        "outputId": "abb2229b-f760-469c-e405-fa670453e15f"
      },
      "execution_count": 36,
      "outputs": [
        {
          "output_type": "execute_result",
          "data": {
            "text/plain": [
              "СТ     5001\n",
              "ВЫП     464\n",
              "Name: Статус, dtype: int64"
            ]
          },
          "metadata": {},
          "execution_count": 36
        }
      ]
    },
    {
      "cell_type": "code",
      "source": [
        "#Задание 8\n",
        "\n",
        "mark_unique = y_train[\"mark\"].value_counts()\n",
        "mark_unique"
      ],
      "metadata": {
        "colab": {
          "base_uri": "https://localhost:8080/"
        },
        "id": "ImtiZjm93ev-",
        "outputId": "92950e29-fa32-450a-995d-71ec052403e4"
      },
      "execution_count": 37,
      "outputs": [
        {
          "output_type": "execute_result",
          "data": {
            "text/plain": [
              "4    42217\n",
              "5    41085\n",
              "3    21756\n",
              "Name: mark, dtype: int64"
            ]
          },
          "metadata": {},
          "execution_count": 37
        }
      ]
    },
    {
      "cell_type": "code",
      "source": [
        "#Задание 9\n",
        "\n",
        "train_175711 = train[train[\"STD_ID\"] == 175711]\n",
        "av_mark_175711 = train_175711[\"mark\"].sum()/train_175711[\"mark\"].count()\n",
        "av_mark_175711"
      ],
      "metadata": {
        "colab": {
          "base_uri": "https://localhost:8080/"
        },
        "id": "HxMl2u7P4FjN",
        "outputId": "4f16f1a7-ad3c-47a7-8f8d-e44685820aa6"
      },
      "execution_count": 38,
      "outputs": [
        {
          "output_type": "execute_result",
          "data": {
            "text/plain": [
              "4.181818181818182"
            ]
          },
          "metadata": {},
          "execution_count": 38
        }
      ]
    },
    {
      "cell_type": "code",
      "source": [
        "#Задание 10\n",
        "\n",
        "train.drop(columns = [\"Unnamed: 0\"], inplace = True)\n",
        "train"
      ],
      "metadata": {
        "colab": {
          "base_uri": "https://localhost:8080/",
          "height": 641
        },
        "id": "YRSUs4jLco73",
        "outputId": "58f016fc-be7c-492b-a70c-626de0dc24c2"
      },
      "execution_count": 39,
      "outputs": [
        {
          "output_type": "execute_result",
          "data": {
            "text/plain": [
              "        STD_ID             НАПРАВЛЕНИЕ        ГОД  КУРС  СЕМЕСТР  \\\n",
              "0       175711     38.03.02 Менеджмент  2018-2019   2.0      4.0   \n",
              "1       100647  31.05.01 Лечебное дело  2015-2016   3.0      5.0   \n",
              "2       199311   31.05.03 Стоматология  2019-2020   1.0      1.0   \n",
              "3       162002     38.03.02 Менеджмент  2017-2018   2.0      3.0   \n",
              "4       108384  31.05.01 Лечебное дело  2018-2019   5.0      9.0   \n",
              "...        ...                     ...        ...   ...      ...   \n",
              "105053  176141  40.03.01 Юриспруденция  2017-2018   1.0      2.0   \n",
              "105054  182794  31.05.01 Лечебное дело  2018-2019   2.0      4.0   \n",
              "105055  162391  31.05.01 Лечебное дело  2016-2017   1.0      2.0   \n",
              "105056  202479      38.03.01 Экономика  2017-2018   1.0      1.0   \n",
              "105057  182325  08.03.01 Строительство  2018-2019   2.0      3.0   \n",
              "\n",
              "                      АТТЕСТАЦИЯ  \\\n",
              "0                        Экзамен   \n",
              "1                        Экзамен   \n",
              "2                        Экзамен   \n",
              "3                        Экзамен   \n",
              "4                        Экзамен   \n",
              "...                          ...   \n",
              "105053           Курсовая работа   \n",
              "105054                   Экзамен   \n",
              "105055  Дифференцированный зачет   \n",
              "105056  Дифференцированный зачет   \n",
              "105057           Курсовая работа   \n",
              "\n",
              "                                               ДИСЦИПЛИНА   index  mark  \n",
              "0                                               Маркетинг   51081     5  \n",
              "1       Пропедевтика внутренних болезней, лучевая диаг...   72921     5  \n",
              "2                                                   Химия   96438     5  \n",
              "3                                              Статистика  273044     4  \n",
              "4                                               Педиатрия  371309     3  \n",
              "...                                                   ...     ...   ...  \n",
              "105053                              Конституционное право  224856     3  \n",
              "105054                              Нормальная физиология  260998     3  \n",
              "105055                                   Иностранный язык   57245     4  \n",
              "105056                                        Информатика  218529     4  \n",
              "105057           Технологические процессы в строительстве  233318     4  \n",
              "\n",
              "[105058 rows x 9 columns]"
            ],
            "text/html": [
              "\n",
              "  <div id=\"df-ca16b3c1-9a6e-4cb6-b796-f42e747bdffd\">\n",
              "    <div class=\"colab-df-container\">\n",
              "      <div>\n",
              "<style scoped>\n",
              "    .dataframe tbody tr th:only-of-type {\n",
              "        vertical-align: middle;\n",
              "    }\n",
              "\n",
              "    .dataframe tbody tr th {\n",
              "        vertical-align: top;\n",
              "    }\n",
              "\n",
              "    .dataframe thead th {\n",
              "        text-align: right;\n",
              "    }\n",
              "</style>\n",
              "<table border=\"1\" class=\"dataframe\">\n",
              "  <thead>\n",
              "    <tr style=\"text-align: right;\">\n",
              "      <th></th>\n",
              "      <th>STD_ID</th>\n",
              "      <th>НАПРАВЛЕНИЕ</th>\n",
              "      <th>ГОД</th>\n",
              "      <th>КУРС</th>\n",
              "      <th>СЕМЕСТР</th>\n",
              "      <th>АТТЕСТАЦИЯ</th>\n",
              "      <th>ДИСЦИПЛИНА</th>\n",
              "      <th>index</th>\n",
              "      <th>mark</th>\n",
              "    </tr>\n",
              "  </thead>\n",
              "  <tbody>\n",
              "    <tr>\n",
              "      <th>0</th>\n",
              "      <td>175711</td>\n",
              "      <td>38.03.02 Менеджмент</td>\n",
              "      <td>2018-2019</td>\n",
              "      <td>2.0</td>\n",
              "      <td>4.0</td>\n",
              "      <td>Экзамен</td>\n",
              "      <td>Маркетинг</td>\n",
              "      <td>51081</td>\n",
              "      <td>5</td>\n",
              "    </tr>\n",
              "    <tr>\n",
              "      <th>1</th>\n",
              "      <td>100647</td>\n",
              "      <td>31.05.01 Лечебное дело</td>\n",
              "      <td>2015-2016</td>\n",
              "      <td>3.0</td>\n",
              "      <td>5.0</td>\n",
              "      <td>Экзамен</td>\n",
              "      <td>Пропедевтика внутренних болезней, лучевая диаг...</td>\n",
              "      <td>72921</td>\n",
              "      <td>5</td>\n",
              "    </tr>\n",
              "    <tr>\n",
              "      <th>2</th>\n",
              "      <td>199311</td>\n",
              "      <td>31.05.03 Стоматология</td>\n",
              "      <td>2019-2020</td>\n",
              "      <td>1.0</td>\n",
              "      <td>1.0</td>\n",
              "      <td>Экзамен</td>\n",
              "      <td>Химия</td>\n",
              "      <td>96438</td>\n",
              "      <td>5</td>\n",
              "    </tr>\n",
              "    <tr>\n",
              "      <th>3</th>\n",
              "      <td>162002</td>\n",
              "      <td>38.03.02 Менеджмент</td>\n",
              "      <td>2017-2018</td>\n",
              "      <td>2.0</td>\n",
              "      <td>3.0</td>\n",
              "      <td>Экзамен</td>\n",
              "      <td>Статистика</td>\n",
              "      <td>273044</td>\n",
              "      <td>4</td>\n",
              "    </tr>\n",
              "    <tr>\n",
              "      <th>4</th>\n",
              "      <td>108384</td>\n",
              "      <td>31.05.01 Лечебное дело</td>\n",
              "      <td>2018-2019</td>\n",
              "      <td>5.0</td>\n",
              "      <td>9.0</td>\n",
              "      <td>Экзамен</td>\n",
              "      <td>Педиатрия</td>\n",
              "      <td>371309</td>\n",
              "      <td>3</td>\n",
              "    </tr>\n",
              "    <tr>\n",
              "      <th>...</th>\n",
              "      <td>...</td>\n",
              "      <td>...</td>\n",
              "      <td>...</td>\n",
              "      <td>...</td>\n",
              "      <td>...</td>\n",
              "      <td>...</td>\n",
              "      <td>...</td>\n",
              "      <td>...</td>\n",
              "      <td>...</td>\n",
              "    </tr>\n",
              "    <tr>\n",
              "      <th>105053</th>\n",
              "      <td>176141</td>\n",
              "      <td>40.03.01 Юриспруденция</td>\n",
              "      <td>2017-2018</td>\n",
              "      <td>1.0</td>\n",
              "      <td>2.0</td>\n",
              "      <td>Курсовая работа</td>\n",
              "      <td>Конституционное право</td>\n",
              "      <td>224856</td>\n",
              "      <td>3</td>\n",
              "    </tr>\n",
              "    <tr>\n",
              "      <th>105054</th>\n",
              "      <td>182794</td>\n",
              "      <td>31.05.01 Лечебное дело</td>\n",
              "      <td>2018-2019</td>\n",
              "      <td>2.0</td>\n",
              "      <td>4.0</td>\n",
              "      <td>Экзамен</td>\n",
              "      <td>Нормальная физиология</td>\n",
              "      <td>260998</td>\n",
              "      <td>3</td>\n",
              "    </tr>\n",
              "    <tr>\n",
              "      <th>105055</th>\n",
              "      <td>162391</td>\n",
              "      <td>31.05.01 Лечебное дело</td>\n",
              "      <td>2016-2017</td>\n",
              "      <td>1.0</td>\n",
              "      <td>2.0</td>\n",
              "      <td>Дифференцированный зачет</td>\n",
              "      <td>Иностранный язык</td>\n",
              "      <td>57245</td>\n",
              "      <td>4</td>\n",
              "    </tr>\n",
              "    <tr>\n",
              "      <th>105056</th>\n",
              "      <td>202479</td>\n",
              "      <td>38.03.01 Экономика</td>\n",
              "      <td>2017-2018</td>\n",
              "      <td>1.0</td>\n",
              "      <td>1.0</td>\n",
              "      <td>Дифференцированный зачет</td>\n",
              "      <td>Информатика</td>\n",
              "      <td>218529</td>\n",
              "      <td>4</td>\n",
              "    </tr>\n",
              "    <tr>\n",
              "      <th>105057</th>\n",
              "      <td>182325</td>\n",
              "      <td>08.03.01 Строительство</td>\n",
              "      <td>2018-2019</td>\n",
              "      <td>2.0</td>\n",
              "      <td>3.0</td>\n",
              "      <td>Курсовая работа</td>\n",
              "      <td>Технологические процессы в строительстве</td>\n",
              "      <td>233318</td>\n",
              "      <td>4</td>\n",
              "    </tr>\n",
              "  </tbody>\n",
              "</table>\n",
              "<p>105058 rows × 9 columns</p>\n",
              "</div>\n",
              "      <button class=\"colab-df-convert\" onclick=\"convertToInteractive('df-ca16b3c1-9a6e-4cb6-b796-f42e747bdffd')\"\n",
              "              title=\"Convert this dataframe to an interactive table.\"\n",
              "              style=\"display:none;\">\n",
              "        \n",
              "  <svg xmlns=\"http://www.w3.org/2000/svg\" height=\"24px\"viewBox=\"0 0 24 24\"\n",
              "       width=\"24px\">\n",
              "    <path d=\"M0 0h24v24H0V0z\" fill=\"none\"/>\n",
              "    <path d=\"M18.56 5.44l.94 2.06.94-2.06 2.06-.94-2.06-.94-.94-2.06-.94 2.06-2.06.94zm-11 1L8.5 8.5l.94-2.06 2.06-.94-2.06-.94L8.5 2.5l-.94 2.06-2.06.94zm10 10l.94 2.06.94-2.06 2.06-.94-2.06-.94-.94-2.06-.94 2.06-2.06.94z\"/><path d=\"M17.41 7.96l-1.37-1.37c-.4-.4-.92-.59-1.43-.59-.52 0-1.04.2-1.43.59L10.3 9.45l-7.72 7.72c-.78.78-.78 2.05 0 2.83L4 21.41c.39.39.9.59 1.41.59.51 0 1.02-.2 1.41-.59l7.78-7.78 2.81-2.81c.8-.78.8-2.07 0-2.86zM5.41 20L4 18.59l7.72-7.72 1.47 1.35L5.41 20z\"/>\n",
              "  </svg>\n",
              "      </button>\n",
              "      \n",
              "  <style>\n",
              "    .colab-df-container {\n",
              "      display:flex;\n",
              "      flex-wrap:wrap;\n",
              "      gap: 12px;\n",
              "    }\n",
              "\n",
              "    .colab-df-convert {\n",
              "      background-color: #E8F0FE;\n",
              "      border: none;\n",
              "      border-radius: 50%;\n",
              "      cursor: pointer;\n",
              "      display: none;\n",
              "      fill: #1967D2;\n",
              "      height: 32px;\n",
              "      padding: 0 0 0 0;\n",
              "      width: 32px;\n",
              "    }\n",
              "\n",
              "    .colab-df-convert:hover {\n",
              "      background-color: #E2EBFA;\n",
              "      box-shadow: 0px 1px 2px rgba(60, 64, 67, 0.3), 0px 1px 3px 1px rgba(60, 64, 67, 0.15);\n",
              "      fill: #174EA6;\n",
              "    }\n",
              "\n",
              "    [theme=dark] .colab-df-convert {\n",
              "      background-color: #3B4455;\n",
              "      fill: #D2E3FC;\n",
              "    }\n",
              "\n",
              "    [theme=dark] .colab-df-convert:hover {\n",
              "      background-color: #434B5C;\n",
              "      box-shadow: 0px 1px 3px 1px rgba(0, 0, 0, 0.15);\n",
              "      filter: drop-shadow(0px 1px 2px rgba(0, 0, 0, 0.3));\n",
              "      fill: #FFFFFF;\n",
              "    }\n",
              "  </style>\n",
              "\n",
              "      <script>\n",
              "        const buttonEl =\n",
              "          document.querySelector('#df-ca16b3c1-9a6e-4cb6-b796-f42e747bdffd button.colab-df-convert');\n",
              "        buttonEl.style.display =\n",
              "          google.colab.kernel.accessAllowed ? 'block' : 'none';\n",
              "\n",
              "        async function convertToInteractive(key) {\n",
              "          const element = document.querySelector('#df-ca16b3c1-9a6e-4cb6-b796-f42e747bdffd');\n",
              "          const dataTable =\n",
              "            await google.colab.kernel.invokeFunction('convertToInteractive',\n",
              "                                                     [key], {});\n",
              "          if (!dataTable) return;\n",
              "\n",
              "          const docLinkHtml = 'Like what you see? Visit the ' +\n",
              "            '<a target=\"_blank\" href=https://colab.research.google.com/notebooks/data_table.ipynb>data table notebook</a>'\n",
              "            + ' to learn more about interactive tables.';\n",
              "          element.innerHTML = '';\n",
              "          dataTable['output_type'] = 'display_data';\n",
              "          await google.colab.output.renderOutput(dataTable, element);\n",
              "          const docLink = document.createElement('div');\n",
              "          docLink.innerHTML = docLinkHtml;\n",
              "          element.appendChild(docLink);\n",
              "        }\n",
              "      </script>\n",
              "    </div>\n",
              "  </div>\n",
              "  "
            ]
          },
          "metadata": {},
          "execution_count": 39
        }
      ]
    },
    {
      "cell_type": "markdown",
      "source": [
        "## Вариант 3."
      ],
      "metadata": {
        "id": "nedg9G4FynNZ"
      }
    },
    {
      "cell_type": "markdown",
      "source": [
        "Кто делает:\n",
        "1. Нечаев Никита Максимович\n",
        "2. Нуромский Евгений Михайлович\n",
        "3. Родин Андрей Дмитриевич\n",
        "4. Рыженко Роман Владиславович\n",
        "5. Юлов Егор Владимирович "
      ],
      "metadata": {
        "id": "6yxwMjM9yp61"
      }
    },
    {
      "cell_type": "markdown",
      "source": [
        "Задания:\n",
        "1. Посмотреть размерность дата фреймов.\n",
        "2. Соедить два датафрейма X_train и y_train в один train по индексам.\n",
        "3. Посчитать пропуски в датафрейме studs_info.\n",
        "4. Посчитать сколько уникальных значений в колонке АТТЕСТАЦИЯ и сколько раз каждое из них встречается.\n",
        "5. Переименовать все колонки датафрейм train, чтобы названия были маленькими буквами.\n",
        "6. Разложить колонку \"направление\" на две: Код направления, Название направления.\n",
        "7. Создать новый датафрейм, в котором будут только мужчины 3 курса обучения.\n",
        "8. Заменить все строковые значения в колонке Пол на числовые.\n",
        "9. Сколько всего студентов сдавали предмет \"Информатика\" в виде экзамена? И какой средний балл по всем сдававшим?"
      ],
      "metadata": {
        "id": "lObmItbYyqiz"
      }
    },
    {
      "cell_type": "code",
      "source": [
        "# Ваше решение"
      ],
      "metadata": {
        "id": "kXtVspQUysSA"
      },
      "execution_count": null,
      "outputs": []
    }
  ]
}