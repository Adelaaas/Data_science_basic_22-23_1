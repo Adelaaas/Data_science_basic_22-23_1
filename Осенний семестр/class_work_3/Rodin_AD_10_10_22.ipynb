{
  "nbformat": 4,
  "nbformat_minor": 0,
  "metadata": {
    "colab": {
      "provenance": []
    },
    "kernelspec": {
      "name": "python3",
      "display_name": "Python 3"
    },
    "language_info": {
      "name": "python"
    }
  },
  "cells": [
    {
      "cell_type": "code",
      "execution_count": 21,
      "metadata": {
        "colab": {
          "base_uri": "https://localhost:8080/"
        },
        "id": "nYsQowVRSKnc",
        "outputId": "ce84013a-826e-48fe-c690-8e20ff58834b"
      },
      "outputs": [
        {
          "output_type": "stream",
          "name": "stdout",
          "text": [
            "4\n",
            "5\n",
            "6\n",
            "[4, 5, 6]\n"
          ]
        },
        {
          "output_type": "execute_result",
          "data": {
            "text/plain": [
              "array([4, 5, 6])"
            ]
          },
          "metadata": {},
          "execution_count": 21
        }
      ],
      "source": [
        "import numpy as np\n",
        "a=np.array([1,2,3,4,5,6], int)\n",
        "b=np.array([4,5,6,7,8,9], int)\n",
        "z=[]\n",
        "x=0\n",
        "for x in a:\n",
        "  for y in b:\n",
        "    if x==y:\n",
        "      z.append(x)\n",
        "      print(x)\n",
        "print(z)\n",
        "z=np.array(z)\n",
        "z=np.sort(z)\n",
        "z"
      ]
    },
    {
      "cell_type": "markdown",
      "source": [
        "Даны 2 вектора целых чисел A и B.\n",
        "\n",
        "Найдите числа, встречающиеся в обоих векторах и составьте их по возрастанию в вектор Z.\n",
        "\n",
        "Если пересечений нет, то вектор Z будет пустым."
      ],
      "metadata": {
        "id": "zjDIqVTuTDox"
      }
    }
  ]
}