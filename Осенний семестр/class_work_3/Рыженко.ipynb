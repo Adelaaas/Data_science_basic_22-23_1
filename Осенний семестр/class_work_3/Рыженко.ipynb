{
  "nbformat": 4,
  "nbformat_minor": 0,
  "metadata": {
    "colab": {
      "provenance": []
    },
    "kernelspec": {
      "name": "python3",
      "display_name": "Python 3"
    },
    "language_info": {
      "name": "python"
    }
  },
  "cells": [
    {
      "cell_type": "code",
      "execution_count": 13,
      "metadata": {
        "colab": {
          "base_uri": "https://localhost:8080/"
        },
        "id": "R7ua3Tm1SUUY",
        "outputId": "d6b2a262-4a85-49fe-94a3-aa947b7af299"
      },
      "outputs": [
        {
          "output_type": "stream",
          "name": "stdout",
          "text": [
            "5\n"
          ]
        }
      ],
      "source": [
        "import numpy\n",
        "x = numpy.array([6, 2, 0, 3, 0, 0, 5, 7, 0])\n",
        "maxi = 0\n",
        "for i in range(1,len(x)):\n",
        "  if x[i-1] != 0:\n",
        "    continue\n",
        "  if x[i] > maxi:\n",
        "    maxi = x[i]\n",
        "\n",
        "print(maxi)"
      ]
    }
  ]
}