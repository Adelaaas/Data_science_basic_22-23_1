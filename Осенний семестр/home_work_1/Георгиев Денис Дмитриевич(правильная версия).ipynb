{
  "nbformat": 4,
  "nbformat_minor": 0,
  "metadata": {
    "colab": {
      "provenance": [],
      "collapsed_sections": []
    },
    "kernelspec": {
      "name": "python3",
      "display_name": "Python 3"
    },
    "language_info": {
      "name": "python"
    }
  },
  "cells": [
    {
      "cell_type": "markdown",
      "source": [
        "# Вариант 1"
      ],
      "metadata": {
        "id": "ByFo_YXdjBHH"
      }
    },
    {
      "cell_type": "markdown",
      "source": [
        "***Кто делает***:\n",
        "\n",
        "1. Анохин Георгий Александрович\n",
        "2. Георгиев Денис Дмитриевич\n",
        "3. Горячев Иван Сергеевич\n",
        "4. Даниярбек уулу Нурбол\n",
        "5. Дорохов Матвей Дмитриевич "
      ],
      "metadata": {
        "id": "VrkGK2Ykjtwr"
      }
    },
    {
      "cell_type": "markdown",
      "source": [
        "**Задача 1**\n",
        "\n",
        "Даны списки:\n",
        "\n",
        "a = [1, 1, 2, 3, 5, 8, 13, 21, 34, 55, 89];\n",
        "\n",
        "b = [1, 2, 3, 4, 5, 6, 7, 8, 9, 10, 11, 12, 13].\n",
        "\n",
        "Нужно вернуть список, который состоит из элементов, общих для этих двух списков."
      ],
      "metadata": {
        "id": "FiZBX1FXjCg5"
      }
    },
    {
      "cell_type": "code",
      "source": [
        "a = [1, 1, 2, 3, 5, 8, 13, 21, 34, 55, 89]\n",
        "\n",
        "b = [1, 2, 3, 4, 5, 6, 7, 8, 9, 10, 11, 12, 13]\n",
        "\n",
        "s = list(set(a) and set(b))\n",
        "s"
      ],
      "metadata": {
        "id": "CfFRprI5jojk",
        "colab": {
          "base_uri": "https://localhost:8080/"
        },
        "outputId": "3d7d1b0c-f23c-401f-8fec-7ec238180fb7"
      },
      "execution_count": 1,
      "outputs": [
        {
          "output_type": "execute_result",
          "data": {
            "text/plain": [
              "[1, 2, 3, 4, 5, 6, 7, 8, 9, 10, 11, 12, 13]"
            ]
          },
          "metadata": {},
          "execution_count": 1
        }
      ]
    },
    {
      "cell_type": "markdown",
      "source": [
        "**Задача 2.**\n",
        "\n",
        "Найдите три ключа с самыми высокими значениями в словаре my_dict = {'a':500, 'b':5874, 'c': 560,'d':400, 'e':5874, 'f': 20, 'g':-10}."
      ],
      "metadata": {
        "id": "MftgngptjsV1"
      }
    },
    {
      "cell_type": "code",
      "source": [
        "my_dict = {'a':500, 'b':5874, 'c': 560,'d':400, 'e':5874, 'f': 20, 'g':-10}\n",
        "\n",
        "for i in 0, 1, 2:\n",
        "  a = -9999999\n",
        "  for i in my_dict.values():\n",
        "    if (a < i):\n",
        "        a = i\n",
        "  for k, v in my_dict.items():\n",
        "    if (a == v):\n",
        "      print(k)\n",
        "      my_dict[k] = -99999999\n",
        "      break\n"
      ],
      "metadata": {
        "id": "fjTF5rF-kFQT",
        "colab": {
          "base_uri": "https://localhost:8080/"
        },
        "outputId": "eda23b7c-f2e2-4290-8898-bccb7cfcab5e"
      },
      "execution_count": 4,
      "outputs": [
        {
          "output_type": "stream",
          "name": "stdout",
          "text": [
            "b\n",
            "e\n",
            "c\n"
          ]
        }
      ]
    },
    {
      "cell_type": "markdown",
      "source": [
        "**Задача 3.**\n",
        "\n",
        "Пользователь вводит строку с клавиатуры и некоторое слово. Посчитайте, сколько раз данное слово встречается в строке."
      ],
      "metadata": {
        "id": "tsfpJ2fUkKF5"
      }
    },
    {
      "cell_type": "code",
      "source": [
        "s1 = input()\n",
        "s2 = input()\n",
        "print(s1.count(s2))"
      ],
      "metadata": {
        "id": "qlIkWw-ak1R0",
        "colab": {
          "base_uri": "https://localhost:8080/"
        },
        "outputId": "6601c8ab-1c59-4606-b6d8-7e997ac057f7"
      },
      "execution_count": 5,
      "outputs": [
        {
          "output_type": "stream",
          "name": "stdout",
          "text": [
            "123123123123\n",
            "12\n",
            "4\n"
          ]
        }
      ]
    },
    {
      "cell_type": "markdown",
      "source": [
        "**Задача 4.**\n",
        "\n",
        "На входе программа получает список целых чисел s. Ваша задача - вывести следующие списки по одному в строке, используя генераторы списков:\n",
        "\n",
        "*   Список, состоящий из квадратов s.\n",
        "*   Список, состоящий из остатков деления на 11 элементов s.\n",
        "*   Список, состоящий только из чётных элементов s.\n",
        "*   Список, состоящий только из элементов s с нечётным количеством цифр.\n",
        "*   Список, состоящий только из двухзначных элементов s, записанных 2 раза подряд.\n",
        "*   Список, состоящий из элементов s, стоящих на позициях, не кратных 3."
      ],
      "metadata": {
        "id": "qGxHiw12k1nl"
      }
    },
    {
      "cell_type": "code",
      "source": [
        "s = input().split()\n",
        "\n",
        "print([int(i) ** 2 for i in s])\n",
        "print([int(i) % 11 for i in s])\n",
        "print([i for i in s if int(i) % 2 == 0])\n",
        "print([i for i in s if len(i) % 2 == 1])\n",
        "print([i for i in s if s.index(i) != len(s) - 1 and s[s.index(i) + 1] == i])\n",
        "print([i for i in s if s[s.index(i) % 3 != 0]])"
      ],
      "metadata": {
        "id": "pOUUd0BLlX5o",
        "colab": {
          "base_uri": "https://localhost:8080/"
        },
        "outputId": "efbb3b47-424b-4ef7-b236-6e42bd837e17"
      },
      "execution_count": 15,
      "outputs": [
        {
          "output_type": "stream",
          "name": "stdout",
          "text": [
            "1 2 3 3 4 5 6 7 8 9 10 11 12 13 13\n",
            "[1, 4, 9, 9, 16, 25, 36, 49, 64, 81, 100, 121, 144, 169, 169]\n",
            "[1, 2, 3, 3, 4, 5, 6, 7, 8, 9, 10, 0, 1, 2, 2]\n",
            "['2', '4', '6', '8', '10', '12']\n",
            "['1', '2', '3', '3', '4', '5', '6', '7', '8', '9']\n",
            "['3', '3', '13', '13']\n",
            "['1', '2', '3', '3', '4', '5', '6', '7', '8', '9', '10', '11', '12', '13', '13']\n"
          ]
        }
      ]
    },
    {
      "cell_type": "markdown",
      "source": [
        "# Вариант 2"
      ],
      "metadata": {
        "id": "qpl5XkfSlYyn"
      }
    },
    {
      "cell_type": "markdown",
      "source": [
        "***Кто делает***:\n",
        "\n",
        "1. Зайцев Егор Андреевич\n",
        "2. Зверев Александр Александрович \n",
        "3. Зимина Александра Георгиевна\n",
        "4. Иванов Александр Андреевич \n",
        "5. Калентьев (Топилин) Константин Юрьевич\n",
        "6. Мартюшев Владислав Алексеевич"
      ],
      "metadata": {
        "id": "L5MIq7J3lcz3"
      }
    },
    {
      "cell_type": "markdown",
      "source": [
        "**Задача 1.**\n",
        "\n",
        "Напишите программу, которая принимает два списка и выводит все элементы первого, которых нет во втором."
      ],
      "metadata": {
        "id": "suxuOHmSli09"
      }
    },
    {
      "cell_type": "code",
      "source": [
        "# Ваше решение"
      ],
      "metadata": {
        "id": "Fx0y6uvQlqZO"
      },
      "execution_count": null,
      "outputs": []
    },
    {
      "cell_type": "markdown",
      "source": [
        "**Задача 2.**\n",
        "\n",
        "Вам дан список, переставьте соседние элементы местами."
      ],
      "metadata": {
        "id": "QSWi4FNvlpPK"
      }
    },
    {
      "cell_type": "code",
      "source": [
        "lst= ['a', 4, 'hello', (1,5), 10, 'b']\n",
        "# Ваше решение"
      ],
      "metadata": {
        "id": "vrr5JJkVoEcr"
      },
      "execution_count": null,
      "outputs": []
    },
    {
      "cell_type": "markdown",
      "source": [
        "**Задача 3.**\n",
        "\n",
        "С клавиатуры вводится слово. Напишите проверку на то, является ли строка палиндромом. Палиндром — это слово или фраза, которые одинаково читаются слева направо и справа налево."
      ],
      "metadata": {
        "id": "7VpdDp3EoIju"
      }
    },
    {
      "cell_type": "code",
      "source": [
        "# Ваше решение"
      ],
      "metadata": {
        "id": "TLBqPcawoK1R"
      },
      "execution_count": null,
      "outputs": []
    },
    {
      "cell_type": "markdown",
      "source": [
        "**Задача 4.**\n",
        "\n",
        "На входе программа получает список целых чисел n. Ваша задача - вывести следующие списки по одному в строке, используя генераторы списков:\n",
        "\n",
        "*   Список, состоящий из квадрытных корней элементов списка n.\n",
        "*   Список, состоящий из целый части от деления на 4 элементов n.\n",
        "*   Список, состоящий только из нечётных элементов n.\n",
        "*   Список, состоящий из чисел, которые если больше 0, то умножаются на 2, если меньше 0, то делятся на 2.\n",
        "*   Список, состоящий из выражений [n[i], n[i]_next], где n[i] - элемент списка n, n[i]_next - следующее значение этого элемента (например, [1,2], [4,5], [0,1].\n",
        "*   Список, состоящий из элементов s, стоящих на позициях, кратных 5."
      ],
      "metadata": {
        "id": "jz5JsJ_El6NO"
      }
    },
    {
      "cell_type": "code",
      "source": [
        "# Ваше решение"
      ],
      "metadata": {
        "id": "7PP4mpcgoG2u"
      },
      "execution_count": null,
      "outputs": []
    },
    {
      "cell_type": "markdown",
      "source": [
        "# Вариант 3"
      ],
      "metadata": {
        "id": "Ycu4hFCRpAWI"
      }
    },
    {
      "cell_type": "markdown",
      "source": [
        "***Кто делает***:\n",
        "\n",
        "1. Нечаев Никита Максимович\n",
        "2. Нуромский Евгений Михайлович\n",
        "3. Родин Андрей Дмитриевич\n",
        "4. Рыженко Роман Владиславович\n",
        "5. Юлов Егор Владимирович "
      ],
      "metadata": {
        "id": "fHJxyAAhpE0x"
      }
    },
    {
      "cell_type": "markdown",
      "source": [
        "**Задача 1.**\n",
        "\n",
        "Задана последовательность чисел. Сдвиньте все нули в конец последовательности, сохранив относительный порядок ненулевых элементов.\n",
        "\n",
        "Например:\n",
        "\n",
        "Ввод:\n",
        "\n",
        "`3 0 5 0 0 -4`\n",
        "\n",
        "Вывод:\n",
        "\n",
        "`3 5 -4 0 0 0`\n"
      ],
      "metadata": {
        "id": "RxleHpr0pJzJ"
      }
    },
    {
      "cell_type": "code",
      "source": [
        "# Ваше решение"
      ],
      "metadata": {
        "id": "a2PUa66CpmCU"
      },
      "execution_count": null,
      "outputs": []
    },
    {
      "cell_type": "markdown",
      "source": [
        "**Задача 2.**\n",
        "\n",
        "С клавиатуры вводится строка. Напишите программу, которая формирует словарь, где ключ - это слово, значение - сколько раз это слово встречается в строке."
      ],
      "metadata": {
        "id": "t8r41njjpno-"
      }
    },
    {
      "cell_type": "code",
      "source": [
        "# Ваше решение"
      ],
      "metadata": {
        "id": "dJ_sTzqvqMw_"
      },
      "execution_count": null,
      "outputs": []
    },
    {
      "cell_type": "markdown",
      "source": [
        "**Задача 3.**\n",
        "\n",
        "Определить, принадлежит ли точка с координатами (x; y) кругу радиуса R с центром в начале координат.\n",
        "\n",
        "Пользователь вводит координаты точки и радиус круга."
      ],
      "metadata": {
        "id": "L-aO8MLDqNOp"
      }
    },
    {
      "cell_type": "code",
      "source": [
        "# Ваше решение"
      ],
      "metadata": {
        "id": "3d8mTLROqlQO"
      },
      "execution_count": null,
      "outputs": []
    },
    {
      "cell_type": "markdown",
      "source": [
        "**Задача 4.**\n",
        "\n",
        "Вам дан список имен и список фамилий, используя генератор списков, создайте новый список, состоящий из имени и фамилии.\n",
        "\n",
        "Ввод:\n",
        "\n",
        "\n",
        "```\n",
        "names = ['Pete']\n",
        "surnames = ['Black']\n",
        "```\n",
        "\n",
        "\n",
        "\n",
        "Вывод:\n",
        "\n",
        "`new = ['Pete Black']`"
      ],
      "metadata": {
        "id": "gS0vf7RvqysI"
      }
    },
    {
      "cell_type": "code",
      "source": [
        "names = ['Никита', 'Евгений', 'Андрей', 'Роман', 'Егор']\n",
        "surnames = ['Нечаев', 'Нуромский', 'Родин', 'Рыженко', 'Юлов']\n",
        "\n",
        "# Ваше решение"
      ],
      "metadata": {
        "id": "FRq8ttWdrSoS"
      },
      "execution_count": null,
      "outputs": []
    }
  ]
}