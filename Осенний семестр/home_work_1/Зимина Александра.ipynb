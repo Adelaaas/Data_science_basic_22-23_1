{
  "nbformat": 4,
  "nbformat_minor": 0,
  "metadata": {
    "colab": {
      "provenance": [],
      "collapsed_sections": []
    },
    "kernelspec": {
      "name": "python3",
      "display_name": "Python 3"
    },
    "language_info": {
      "name": "python"
    }
  },
  "cells": [
    {
      "cell_type": "markdown",
      "source": [
        "#Вариант 2"
      ],
      "metadata": {
        "id": "5lpyREHxJQu2"
      }
    },
    {
      "cell_type": "markdown",
      "source": [
        "№1"
      ],
      "metadata": {
        "id": "UcPS9fX5JJVx"
      }
    },
    {
      "cell_type": "code",
      "execution_count": 5,
      "metadata": {
        "colab": {
          "base_uri": "https://localhost:8080/"
        },
        "id": "8t0uUL4JI-1H",
        "outputId": "d1f08f68-faff-4a35-82da-a79ae97cc4ce"
      },
      "outputs": [
        {
          "output_type": "stream",
          "name": "stdout",
          "text": [
            "Вводите списки с двумя пробелами между элементами\n",
            "Введите второй список 1  5  3  f\n",
            "Введите второй список 2  5  h  k\n",
            "1 3 f\n"
          ]
        }
      ],
      "source": [
        "print(\"Вводите списки с двумя пробелами между элементами\")\n",
        "n1 = [i for i in input(\"Введите второй список \").split(\"  \")]\n",
        "n2 = [i for i in input(\"Введите второй список \").split(\"  \")]\n",
        "print(*list(i for i in n1 if i not in n2))"
      ]
    },
    {
      "cell_type": "markdown",
      "source": [
        "№2"
      ],
      "metadata": {
        "id": "GSnkoeXNJXSI"
      }
    },
    {
      "cell_type": "code",
      "source": [
        "list = ['a', 4, 'hello', (1,5), 10, 'b']\n",
        "for i in range(0, len(list) - 1, 2):\n",
        "    list[i], list[i + 1] = list[i + 1], list[i]\n",
        "print(list)"
      ],
      "metadata": {
        "colab": {
          "base_uri": "https://localhost:8080/"
        },
        "id": "inskEr4UJYr3",
        "outputId": "6b9927f1-8b03-47f2-8700-ad0d1ba69399"
      },
      "execution_count": 6,
      "outputs": [
        {
          "output_type": "stream",
          "name": "stdout",
          "text": [
            "[4, 'a', (1, 5), 'hello', 'b', 10]\n"
          ]
        }
      ]
    },
    {
      "cell_type": "markdown",
      "source": [
        "№3"
      ],
      "metadata": {
        "id": "jciwvKRwJY2k"
      }
    },
    {
      "cell_type": "code",
      "source": [
        "s = input().upper()\n",
        "print(\"yes\" if s == s[::-1] else \"no\")"
      ],
      "metadata": {
        "colab": {
          "base_uri": "https://localhost:8080/"
        },
        "id": "-TUIlNwkJaSr",
        "outputId": "762a86d0-6689-43d4-9e85-6deed1a498df"
      },
      "execution_count": 7,
      "outputs": [
        {
          "output_type": "stream",
          "name": "stdout",
          "text": [
            "ghjhG\n",
            "yes\n"
          ]
        }
      ]
    },
    {
      "cell_type": "markdown",
      "source": [
        "№4"
      ],
      "metadata": {
        "id": "Vpa9-5dGJacx"
      }
    },
    {
      "cell_type": "code",
      "source": [
        "n = [int(i) for i in input().split(\" \")]\n",
        "print(*[i ** 2 for i in n])\n",
        "print(*[i // 4 for i in n])\n",
        "print(*[i for i in n if i % 2 == 1])\n",
        "print(*[i * 2 if i > 0 else i / 2 for i in n])\n",
        "print(*[[i, i + 1] for i in n])\n",
        "print(*[n[i] for i in range(len(n)) if i % 5 == 0])"
      ],
      "metadata": {
        "colab": {
          "base_uri": "https://localhost:8080/"
        },
        "id": "9NvBh0QUJbaa",
        "outputId": "bf0dc86b-c1ca-4785-c823-a7fa41669187"
      },
      "execution_count": 10,
      "outputs": [
        {
          "output_type": "stream",
          "name": "stdout",
          "text": [
            "1 3 5 -3 4 6\n",
            "1 9 25 9 16 36\n",
            "0 0 1 -1 1 1\n",
            "1 3 5 -3\n",
            "2 6 10 -1.5 8 12\n",
            "[1, 2] [3, 4] [5, 6] [-3, -2] [4, 5] [6, 7]\n",
            "1 6\n"
          ]
        }
      ]
    }
  ]
}
