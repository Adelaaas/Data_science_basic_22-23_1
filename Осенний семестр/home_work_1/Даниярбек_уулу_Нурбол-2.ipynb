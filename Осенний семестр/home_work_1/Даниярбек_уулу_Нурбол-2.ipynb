{
  "nbformat": 4,
  "nbformat_minor": 0,
  "metadata": {
    "colab": {
      "provenance": []
    },
    "kernelspec": {
      "name": "python3",
      "display_name": "Python 3"
    },
    "language_info": {
      "name": "python"
    }
  },
  "cells": [
    {
      "cell_type": "markdown",
      "source": [
        "Задача 1\n",
        "\n",
        "Даны списки:\n",
        "\n",
        "a = [1, 1, 2, 3, 5, 8, 13, 21, 34, 55, 89];\n",
        "\n",
        "b = [1, 2, 3, 4, 5, 6, 7, 8, 9, 10, 11, 12, 13].\n",
        "\n",
        "Нужно вернуть список, который состоит из элементов, общих для этих двух списков.\n",
        "\n",
        "In [1]:\n"
      ],
      "metadata": {
        "id": "pI_ohoAgRPyh"
      }
    },
    {
      "cell_type": "code",
      "source": [
        "a = [1, 1, 2, 3, 5, 8, 13, 21, 34, 55, 89]\n",
        "b = [1, 2, 3, 4, 5, 6, 7, 8, 9, 10, 11, 12, 13]\n",
        "\n",
        "ab = list(set(a).intersection(set(b)))\n",
        "print(ab)"
      ],
      "metadata": {
        "colab": {
          "base_uri": "https://localhost:8080/"
        },
        "id": "c1h_0bVwRZmZ",
        "outputId": "a24ca2ec-86e2-4e97-d8ef-cfccee10b80a"
      },
      "execution_count": 2,
      "outputs": [
        {
          "output_type": "stream",
          "name": "stdout",
          "text": [
            "[1, 2, 3, 5, 8, 13]\n"
          ]
        }
      ]
    },
    {
      "cell_type": "markdown",
      "source": [
        "Задача 2.\n",
        "\n",
        "Найдите три ключа с самыми высокими значениями в словаре my_dict = {'a':500, 'b':5874, 'c': 560,'d':400, 'e':5874, 'f': 20, 'g':-10}."
      ],
      "metadata": {
        "id": "CzLoySxDRlCW"
      }
    },
    {
      "cell_type": "code",
      "source": [
        "my_dict = {'a': 500, 'b': 5874, 'c': 560, 'd': 400, 'e': 5874, 'f': 20, 'g': -10}\n",
        "\n",
        "\n",
        "my_dict_sort = [(k, v) for k, v in my_dict.items()]\n",
        "my_dict_sort.sort(key = lambda a: -a[1])\n",
        "my_dict_sort = my_dict_sort[0:3]\n",
        "my_dict_sort"
      ],
      "metadata": {
        "id": "ITdH2N9YRqdQ",
        "colab": {
          "base_uri": "https://localhost:8080/"
        },
        "outputId": "356ed7d5-75f6-4ee4-8a32-91289cf259c6"
      },
      "execution_count": 3,
      "outputs": [
        {
          "output_type": "execute_result",
          "data": {
            "text/plain": [
              "[('b', 5874), ('e', 5874), ('c', 560)]"
            ]
          },
          "metadata": {},
          "execution_count": 3
        }
      ]
    },
    {
      "cell_type": "markdown",
      "source": [
        "Задача 3.\n",
        "\n",
        "Пользователь вводит строку с клавиатуры и некоторое слово. Посчитайте, сколько раз данное слово встречается в строке."
      ],
      "metadata": {
        "id": "nK6F-V7lSa63"
      }
    },
    {
      "cell_type": "code",
      "source": [
        "string = input(\"строка: \").split(\" \")\n",
        "word = input(\"слово: \")\n",
        "print(f\"встречается {string.count(word)} раз/а\")"
      ],
      "metadata": {
        "id": "ararbzCISebk",
        "colab": {
          "base_uri": "https://localhost:8080/"
        },
        "outputId": "bd247ec0-6413-4c96-e4e5-e4b3ac7338dd"
      },
      "execution_count": 5,
      "outputs": [
        {
          "output_type": "stream",
          "name": "stdout",
          "text": [
            "строка: bom bom beach\n",
            "слово: bom\n",
            "встречается 2 раз/а\n"
          ]
        }
      ]
    },
    {
      "cell_type": "markdown",
      "source": [
        "Задача 4.\n",
        "\n",
        "На входе программа получает список целых чисел s. Ваша задача - вывести следующие списки по одному в строке, используя генераторы списков:\n",
        "\n",
        "Список, состоящий из квадратов s.\n",
        "Список, состоящий из остатков деления на 11 элементов s.\n",
        "Список, состоящий только из чётных элементов s.\n",
        "Список, состоящий только из элементов s с нечётным количеством цифр.\n",
        "Список, состоящий только из двухзначных элементов s, записанных 2 раза подряд.\n",
        "Список, состоящий из элементов s, стоящих на позициях, не кратных 3."
      ],
      "metadata": {
        "id": "E9cpJn6fSiAe"
      }
    },
    {
      "cell_type": "code",
      "source": [
        "s = [i for i in range(0, 25)]\n",
        "\n",
        "square = [i**2 for i in s]\n",
        "\n",
        "ost11 = [i % 11 for i in s]\n",
        "\n",
        "honests = [i for i in s if i % 2 == 0]\n",
        "\n",
        "odd = [i for i in s if len(str(i)) % 2 == 1]\n",
        "\n",
        "dozens = [str(i) * 2 for i in s if len(str(i)) == 2]\n",
        "\n",
        "no_third_pos = [s[i] for i in range(0, len(s)) if i % 3 != 0]\n",
        "\n",
        "print(s)\n",
        "print(square)\n",
        "print(ost11)\n",
        "print(honests)\n",
        "print(odd)\n",
        "print(dozens)\n",
        "print(no_third_pos)"
      ],
      "metadata": {
        "id": "f9jNrXAwSsB2",
        "colab": {
          "base_uri": "https://localhost:8080/"
        },
        "outputId": "bd65066c-4428-41b2-c244-2e3d3b962d40"
      },
      "execution_count": 9,
      "outputs": [
        {
          "output_type": "stream",
          "name": "stdout",
          "text": [
            "[0, 1, 2, 3, 4, 5, 6, 7, 8, 9, 10, 11, 12, 13, 14, 15, 16, 17, 18, 19, 20, 21, 22, 23, 24]\n",
            "[0, 1, 4, 9, 16, 25, 36, 49, 64, 81, 100, 121, 144, 169, 196, 225, 256, 289, 324, 361, 400, 441, 484, 529, 576]\n",
            "[0, 1, 2, 3, 4, 5, 6, 7, 8, 9, 10, 0, 1, 2, 3, 4, 5, 6, 7, 8, 9, 10, 0, 1, 2]\n",
            "[0, 2, 4, 6, 8, 10, 12, 14, 16, 18, 20, 22, 24]\n",
            "[0, 1, 2, 3, 4, 5, 6, 7, 8, 9]\n",
            "['1010', '1111', '1212', '1313', '1414', '1515', '1616', '1717', '1818', '1919', '2020', '2121', '2222', '2323', '2424']\n",
            "[1, 2, 4, 5, 7, 8, 10, 11, 13, 14, 16, 17, 19, 20, 22, 23]\n"
          ]
        }
      ]
    }
  ]
}