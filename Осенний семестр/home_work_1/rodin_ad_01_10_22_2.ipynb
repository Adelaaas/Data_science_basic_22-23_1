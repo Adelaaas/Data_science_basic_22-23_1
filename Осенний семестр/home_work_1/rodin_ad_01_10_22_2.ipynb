{
  "nbformat": 4,
  "nbformat_minor": 0,
  "metadata": {
    "colab": {
      "provenance": [],
      "collapsed_sections": []
    },
    "kernelspec": {
      "name": "python3",
      "display_name": "Python 3"
    },
    "language_info": {
      "name": "python"
    }
  },
  "cells": [
    {
      "cell_type": "code",
      "execution_count": null,
      "metadata": {
        "id": "nw5JUHLVb1eI"
      },
      "outputs": [],
      "source": [
        "str = input()\n",
        "str = str.split(', ')\n",
        "slovar = {}\n",
        "for slovo in str:\n",
        "    slovar[slovo] = slovar.get(slovo, 0) + 1\n",
        "print (slovar)"
      ]
    }
  ]
}