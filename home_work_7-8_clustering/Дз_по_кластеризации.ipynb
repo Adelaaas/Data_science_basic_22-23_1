{
  "nbformat": 4,
  "nbformat_minor": 0,
  "metadata": {
    "colab": {
      "provenance": []
    },
    "kernelspec": {
      "name": "python3",
      "display_name": "Python 3"
    },
    "language_info": {
      "name": "python"
    }
  },
  "cells": [
    {
      "cell_type": "markdown",
      "source": [
        "# Домашнее задание по кластеризации"
      ],
      "metadata": {
        "id": "M57jBUotL_jB"
      }
    },
    {
      "cell_type": "markdown",
      "source": [
        "Набор данных содержит сведения о 9000 клиентов банка.\n",
        "\n",
        "Колонки в датасете:\n",
        "- CUSTID : Identification of Credit Card holder (Categorical)\n",
        "- BALANCE : Balance amount left in their account to make purchases (\n",
        "- BALANCEFREQUENCY : How frequently the Balance is updated, score between 0 and 1 (1 = frequently updated, 0 = not frequently updated)\n",
        "- PURCHASES : Amount of purchases made from account\n",
        "- ONEOFFPURCHASES : Maximum purchase amount done in one-go\n",
        "- INSTALLMENTSPURCHASES : Amount of purchase done in installment\n",
        "- CASHADVANCE : Cash in advance given by the user\n",
        "- PURCHASESFREQUENCY : How frequently the Purchases are being made, score between 0 and 1 (1 = frequently purchased, 0 = not frequently purchased)\n",
        "- ONEOFFPURCHASESFREQUENCY : How frequently Purchases are happening in one-go (1 = frequently purchased, 0 = not frequently purchased)\n",
        "- PURCHASESINSTALLMENTSFREQUENCY : How frequently purchases in installments are being done (1 = frequently done, 0 = not frequently done)\n",
        "- CASHADVANCEFREQUENCY : How frequently the cash in advance being paid\n",
        "- CASHADVANCETRX : Number of Transactions made with \"Cash in Advanced\"\n",
        "- PURCHASESTRX : Numbe of purchase transactions made\n",
        "- CREDITLIMIT : Limit of Credit Card for user\n",
        "- PAYMENTS : Amount of Payment done by user\n",
        "- MINIMUM_PAYMENTS : Minimum amount of payments made by user\n",
        "- PRCFULLPAYMENT : Percent of full payment paid by user\n",
        "- TENURE : Tenure of credit card service for user"
      ],
      "metadata": {
        "id": "wKPvbnzKMDnN"
      }
    },
    {
      "cell_type": "markdown",
      "source": [
        "## Задания"
      ],
      "metadata": {
        "id": "bFGoZP8xMoYK"
      }
    },
    {
      "cell_type": "markdown",
      "source": [
        "### Задание 1.\n",
        "\n",
        "Провести исследование данных (в том числе с визуализацией, к исследованию должны быть даны выводы и комментарии, все графики и оси должны быть подписаны)."
      ],
      "metadata": {
        "id": "PUAfF6sMMcM8"
      }
    },
    {
      "cell_type": "code",
      "execution_count": 4,
      "metadata": {
        "colab": {
          "base_uri": "https://localhost:8080/"
        },
        "id": "zVstNcOaL4Id",
        "outputId": "709e3723-bddb-42e0-c0e2-c915be27de25"
      },
      "outputs": [
        {
          "output_type": "execute_result",
          "data": {
            "text/plain": [
              "CUST_ID                               0\n",
              "BALANCE                               0\n",
              "BALANCE_FREQUENCY                     0\n",
              "PURCHASES                             0\n",
              "ONEOFF_PURCHASES                      0\n",
              "INSTALLMENTS_PURCHASES                0\n",
              "CASH_ADVANCE                          0\n",
              "PURCHASES_FREQUENCY                   0\n",
              "ONEOFF_PURCHASES_FREQUENCY            0\n",
              "PURCHASES_INSTALLMENTS_FREQUENCY      0\n",
              "CASH_ADVANCE_FREQUENCY                0\n",
              "CASH_ADVANCE_TRX                      0\n",
              "PURCHASES_TRX                         0\n",
              "CREDIT_LIMIT                          1\n",
              "PAYMENTS                              0\n",
              "MINIMUM_PAYMENTS                    313\n",
              "PRC_FULL_PAYMENT                      0\n",
              "TENURE                                0\n",
              "dtype: int64"
            ]
          },
          "metadata": {},
          "execution_count": 4
        }
      ],
      "source": [
        "# ПРИМЕР\n",
        "\n",
        "# Исследуем данные на пропуски\n",
        "df.isna().sum()\n",
        "\n",
        "# Видим что в данных есть пропуски\n",
        "# описать что вы будете делать с этими пропусками"
      ]
    },
    {
      "cell_type": "code",
      "source": [
        "import matplotlib.pyplot as plt\n",
        "import seaborn as sns\n",
        "\n",
        "plt.figure(figsize=(10,6))\n",
        "sns.displot(\n",
        "    data=df.isna().melt(value_name=\"missing\"),\n",
        "    y=\"variable\",\n",
        "    hue=\"missing\",\n",
        "    multiple=\"fill\",\n",
        "    aspect=1.25\n",
        ")"
      ],
      "metadata": {
        "colab": {
          "base_uri": "https://localhost:8080/",
          "height": 404
        },
        "id": "AW8WOhxRNRa5",
        "outputId": "21d84f5a-d084-4625-ca13-320516675c62"
      },
      "execution_count": 5,
      "outputs": [
        {
          "output_type": "execute_result",
          "data": {
            "text/plain": [
              "<seaborn.axisgrid.FacetGrid at 0x7f499e93c590>"
            ]
          },
          "metadata": {},
          "execution_count": 5
        },
        {
          "output_type": "display_data",
          "data": {
            "text/plain": [
              "<Figure size 720x432 with 0 Axes>"
            ]
          },
          "metadata": {}
        },
        {
          "output_type": "display_data",
          "data": {
            "text/plain": [
              "<Figure size 511.25x360 with 1 Axes>"
            ],
            "image/png": "[encoded data removed]"
          },
          "metadata": {
            "needs_background": "light"
          }
        }
      ]
    },
    {
      "cell_type": "markdown",
      "source": [
        "### Задание 2\n",
        "\n",
        "Реализовать метод кластарезации KMeans:\n",
        "1. Методом локтя и силуется (в том числе с использованием графиков) оценить оптимальное число кластеров и обосновать его.\n",
        "2. Построить точечный график объектов до кластеризации и после с цветовым разделением на кластеры. Для построения графиков придется взять только две переменные как признаки, но строить кластеризацию не обязательно на двух переменных. \n",
        "\n",
        "P.s. все графики должны быть подписанны и к ним должны прилагаться выводы."
      ],
      "metadata": {
        "id": "F0Nlbys7NWZb"
      }
    },
    {
      "cell_type": "markdown",
      "source": [
        "### Задание 3\n",
        "\n",
        "Реализовать иерархический метод кластарезации:\n",
        "1. Должны быть построены дендрограммы и обоснован выбор количества кластеров.\n",
        "2. Построить точечный график объектов до кластеризации и после с цветовым разделением на кластеры. Для построения графиков придется взять только две переменные как признаки, но строить кластеризацию не обязательно на двух переменных.\n",
        "\n",
        "P.s. все графики должны быть подписанны и к ним должны прилагаться выводы."
      ],
      "metadata": {
        "id": "oP-dVUF1NWdc"
      }
    }
  ]
}