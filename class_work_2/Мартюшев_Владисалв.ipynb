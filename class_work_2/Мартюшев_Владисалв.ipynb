{
  "nbformat": 4,
  "nbformat_minor": 0,
  "metadata": {
    "colab": {
      "provenance": []
    },
    "kernelspec": {
      "name": "python3",
      "display_name": "Python 3"
    },
    "language_info": {
      "name": "python"
    }
  },
  "cells": [
    {
      "cell_type": "code",
      "execution_count": 4,
      "metadata": {
        "colab": {
          "base_uri": "https://localhost:8080/"
        },
        "id": "SY5XObk_afnB",
        "outputId": "8b1cc057-2bcb-47f9-cdaf-9211d98d77fb"
      },
      "outputs": [
        {
          "output_type": "stream",
          "name": "stdout",
          "text": [
            "в\n",
            "е\n",
            "т\n",
            " \n",
            "м\n",
            "и\n"
          ]
        }
      ],
      "source": [
        "a = \"Привет мир!\"\n",
        "for i in range(3, 9):\n",
        "  print(a[i])"
      ]
    }
  ]
}