{
  "nbformat": 4,
  "nbformat_minor": 0,
  "metadata": {
    "colab": {
      "provenance": [],
      "collapsed_sections": []
    },
    "kernelspec": {
      "name": "python3",
      "display_name": "Python 3"
    },
    "language_info": {
      "name": "python"
    }
  },
  "cells": [
    {
      "cell_type": "code",
      "execution_count": 4,
      "metadata": {
        "colab": {
          "base_uri": "https://localhost:8080/"
        },
        "id": "oBi5dSFsXfLk",
        "outputId": "67a38e18-15c1-4f32-a63a-c200d9b850a6"
      },
      "outputs": [
        {
          "output_type": "stream",
          "name": "stdout",
          "text": [
            "28\n",
            "98\n",
            "168\n",
            "238\n",
            "308\n",
            "378\n",
            "448\n"
          ]
        }
      ],
      "source": [
        "i = 0\n",
        "for i in range(0,500):\n",
        "  i+=1\n",
        "  if(i%7==0) and((i%10==8) or(i/100%10==8) or(i/100==8)):\n",
        "    print(i)\n",
        "  "
      ]
    }
  ]
}