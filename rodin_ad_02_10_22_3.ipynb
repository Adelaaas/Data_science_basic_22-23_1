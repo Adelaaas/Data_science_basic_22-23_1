{
  "nbformat": 4,
  "nbformat_minor": 0,
  "metadata": {
    "colab": {
      "provenance": [],
      "collapsed_sections": []
    },
    "kernelspec": {
      "name": "python3",
      "display_name": "Python 3"
    },
    "language_info": {
      "name": "python"
    }
  },
  "cells": [
    {
      "cell_type": "code",
      "execution_count": null,
      "metadata": {
        "id": "VtwFXKJBeGg-"
      },
      "outputs": [],
      "source": [
        "print(\"Введите радиус\")\n",
        "rad=int(input())\n",
        "print(\"Введите x\")\n",
        "x=int(input())\n",
        "print(\"Введите y\")\n",
        "y=int(input())\n",
        "if(x**2+y**2<=rad**2):\n",
        "  print(\"Точка входит в заданную окружность\")\n",
        "else:\n",
        "  print(\"Точка не входит в заданную окружность\")\n"
      ]
    },
    {
      "cell_type": "code",
      "source": [],
      "metadata": {
        "id": "CN7KbWOlfvk6"
      },
      "execution_count": null,
      "outputs": []
    }
  ]
}