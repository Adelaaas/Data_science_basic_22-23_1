{
  "nbformat": 4,
  "nbformat_minor": 0,
  "metadata": {
    "colab": {
      "provenance": [],
      "collapsed_sections": [
        "ykb7nrajjbyx",
        "9nLA29usl9zq",
        "O67Zmbi5oFQ9",
        "LEhGxHb_qB4T"
      ]
    },
    "kernelspec": {
      "name": "python3",
      "display_name": "Python 3"
    },
    "language_info": {
      "name": "python"
    }
  },
  "cells": [
    {
      "cell_type": "markdown",
      "source": [
        "# №1"
      ],
      "metadata": {
        "id": "ykb7nrajjbyx"
      }
    },
    {
      "cell_type": "code",
      "source": [
        "import numpy as np"
      ],
      "metadata": {
        "id": "xV5fhFXyjxMd"
      },
      "execution_count": 1,
      "outputs": []
    },
    {
      "cell_type": "code",
      "source": [
        "def my_array(start, stop, n):\n",
        "  a = (stop - start) / (n + 1)\n",
        "  b = []\n",
        "  for i in range(1, n + 1):\n",
        "    b.append(start + a * i)\n",
        "  my_np = np.array(b)\n",
        "  return np.around(my_np, 3)"
      ],
      "metadata": {
        "id": "yx9MYSvljkRb"
      },
      "execution_count": 17,
      "outputs": []
    },
    {
      "cell_type": "code",
      "execution_count": 18,
      "metadata": {
        "colab": {
          "base_uri": "https://localhost:8080/"
        },
        "id": "HZgEI1oUjQDP",
        "outputId": "4abac644-15c4-43d2-d238-386f8b1ab65f"
      },
      "outputs": [
        {
          "output_type": "stream",
          "name": "stdout",
          "text": [
            "1\n",
            "4\n",
            "33\n",
            "1.088 1.176 1.265 1.353 1.441 1.529 1.618 1.706 1.794 1.882 1.971 2.059 2.147 2.235 2.324 2.412 2.5 2.588 2.676 2.765 2.853 2.941 3.029 3.118 3.206 3.294 3.382 3.471 3.559 3.647 3.735 3.824 3.912\n"
          ]
        }
      ],
      "source": [
        "start = int(input())\n",
        "stop = int(input())\n",
        "n= int(input())\n",
        "print(*my_array(start, stop, n))"
      ]
    },
    {
      "cell_type": "markdown",
      "source": [
        "# №2"
      ],
      "metadata": {
        "id": "9nLA29usl9zq"
      }
    },
    {
      "cell_type": "code",
      "source": [
        "import numpy as np"
      ],
      "metadata": {
        "id": "DGOBW8dWmDfa"
      },
      "execution_count": 19,
      "outputs": []
    },
    {
      "cell_type": "code",
      "source": [
        "def norm(a):\n",
        "  mi = a.min()\n",
        "  ma = a.max()\n",
        "  for i in range(len(a)):\n",
        "    for j in range(len(a[i])):\n",
        "      a[i][j] = (a[i][j] - mi) / (ma - mi)\n",
        "  return a"
      ],
      "metadata": {
        "id": "Qn7ZYWcmmb7d"
      },
      "execution_count": 34,
      "outputs": []
    },
    {
      "cell_type": "code",
      "source": [
        "a = np.array([[1, 2, 3], [4, 5, 6], [7, 8, 9], [3, 6, 9]], float)\n",
        "print(norm(a))"
      ],
      "metadata": {
        "colab": {
          "base_uri": "https://localhost:8080/"
        },
        "id": "QNoFDyeimGHt",
        "outputId": "e0961701-d1b8-49c8-dfa2-2503a3ba5cbd"
      },
      "execution_count": 35,
      "outputs": [
        {
          "output_type": "stream",
          "name": "stdout",
          "text": [
            "[[0.    0.125 0.25 ]\n",
            " [0.375 0.5   0.625]\n",
            " [0.75  0.875 1.   ]\n",
            " [0.25  0.625 1.   ]]\n"
          ]
        }
      ]
    },
    {
      "cell_type": "markdown",
      "source": [
        "# №3"
      ],
      "metadata": {
        "id": "O67Zmbi5oFQ9"
      }
    },
    {
      "cell_type": "code",
      "source": [
        "import numpy as np"
      ],
      "metadata": {
        "id": "ZkbEGo7eoHR_"
      },
      "execution_count": 36,
      "outputs": []
    },
    {
      "cell_type": "code",
      "source": [
        "def my_max(a):\n",
        "  b = []\n",
        "  for i in range(1, len(a) - 1):\n",
        "    if a[i] > a[i - 1] and a[i] > a[i + 1]:\n",
        "      b.append(a[i])\n",
        "  return len(b), np.array(b)"
      ],
      "metadata": {
        "id": "WNAi8jy5oLBs"
      },
      "execution_count": 37,
      "outputs": []
    },
    {
      "cell_type": "code",
      "source": [
        "a = np.array([1, 4, 3, 9, 3, 5, 2, 7, 9])\n",
        "print(my_max(a))"
      ],
      "metadata": {
        "colab": {
          "base_uri": "https://localhost:8080/"
        },
        "id": "XtNYrqhmoLJ1",
        "outputId": "adbee091-025e-4d44-a50c-20ef57ecf375"
      },
      "execution_count": 40,
      "outputs": [
        {
          "output_type": "stream",
          "name": "stdout",
          "text": [
            "(3, array([4, 9, 5]))\n"
          ]
        }
      ]
    },
    {
      "cell_type": "markdown",
      "source": [
        "# №4"
      ],
      "metadata": {
        "id": "LEhGxHb_qB4T"
      }
    },
    {
      "cell_type": "code",
      "source": [
        "import numpy as np"
      ],
      "metadata": {
        "id": "iU956H7JqE3n"
      },
      "execution_count": 41,
      "outputs": []
    },
    {
      "cell_type": "code",
      "source": [
        "def my_dot(a, b):\n",
        "  c = [[0] * len(b[0]) for i in range(len(a))]\n",
        "  if len(a[0]) == len(b):\n",
        "    for k in range(len(a)):\n",
        "      for i in range(len(b)):\n",
        "        for j in range(len(b[0])):\n",
        "          c[k][j] += a[k][i] * b[i][j]\n",
        "    return np.array(c)\n",
        "  else:\n",
        "    return \"Матрицы не соответствуют условию\""
      ],
      "metadata": {
        "id": "gWaNRuqOqH57"
      },
      "execution_count": 96,
      "outputs": []
    },
    {
      "cell_type": "code",
      "source": [
        "a = np.array([[15, 27], [18, 10]])\n",
        "b = np.array([[35], [16]])\n",
        "print(my_dot(a, b))"
      ],
      "metadata": {
        "colab": {
          "base_uri": "https://localhost:8080/"
        },
        "id": "1eEbION2qH_3",
        "outputId": "2132226c-5bbb-48b1-abc2-161c35e04512"
      },
      "execution_count": 97,
      "outputs": [
        {
          "output_type": "stream",
          "name": "stdout",
          "text": [
            "[[957]\n",
            " [790]]\n"
          ]
        }
      ]
    }
  ]
}