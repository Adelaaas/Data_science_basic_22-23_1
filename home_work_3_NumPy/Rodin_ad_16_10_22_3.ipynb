{
  "nbformat": 4,
  "nbformat_minor": 0,
  "metadata": {
    "colab": {
      "provenance": []
    },
    "kernelspec": {
      "name": "python3",
      "display_name": "Python 3"
    },
    "language_info": {
      "name": "python"
    }
  },
  "cells": [
    {
      "cell_type": "code",
      "execution_count": 9,
      "metadata": {
        "colab": {
          "base_uri": "https://localhost:8080/"
        },
        "id": "4kDAzP1PIakf",
        "outputId": "4b29d99f-1ed2-48d7-fbf0-62be854ef046"
      },
      "outputs": [
        {
          "output_type": "execute_result",
          "data": {
            "text/plain": [
              "array([7, 6, 4])"
            ]
          },
          "metadata": {},
          "execution_count": 9
        }
      ],
      "source": [
        "import numpy as np\n",
        "a=np.array([[1,3,5],[3,9,7],[7,4,6],[8,3,2]],int)\n",
        "b=np.array([5,3,7])\n",
        "r=np.array([0,0,0],int)\n",
        "rMin=1000\n",
        "for i in range(3):\n",
        "  for j in range(1):\n",
        "    if(a[i][j]-b[0])**2+(a[i][j+1]-b[1])**2+(a[i][j+2]-b[2])**2<rMin:\n",
        "      rMin=(a[i][j]-b[0])**2+(a[i][j+1]-b[1])**2+(a[i][j+2]-b[2])**2\n",
        "      r[0]=a[i][j]\n",
        "      r[1]=a[i][j-1]\n",
        "      r[2]=a[i][j-2]\n",
        "r"
      ]
    }
  ]
}