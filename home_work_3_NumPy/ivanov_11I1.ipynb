{
  "nbformat": 4,
  "nbformat_minor": 0,
  "metadata": {
    "colab": {
      "provenance": [],
      "collapsed_sections": []
    },
    "kernelspec": {
      "name": "python3",
      "display_name": "Python 3"
    },
    "language_info": {
      "name": "python"
    }
  },
  "cells": [
    {
      "cell_type": "markdown",
      "source": [
        "Задание 1"
      ],
      "metadata": {
        "id": "NzGoIcvmyHpT"
      }
    },
    {
      "cell_type": "code",
      "execution_count": 7,
      "metadata": {
        "colab": {
          "base_uri": "https://localhost:8080/"
        },
        "id": "TMLLwRbUx_4d",
        "outputId": "79d8b34d-3ae4-4a02-e375-b7542659533f"
      },
      "outputs": [
        {
          "output_type": "stream",
          "name": "stdout",
          "text": [
            "0\n",
            "10\n",
            "3\n",
            "0\n",
            "2\n",
            "4\n"
          ]
        }
      ],
      "source": [
        "import numpy as np\n",
        "start = int(input())\n",
        "stop = int(input())\n",
        "n = int(input())\n",
        "q = 2\n",
        "b = 0\n",
        "for i in range(n):\n",
        "  print((start+b)*q)\n",
        "  b+=1"
      ]
    },
    {
      "cell_type": "markdown",
      "source": [
        "Задача 2"
      ],
      "metadata": {
        "id": "3HpzQVf21okh"
      }
    },
    {
      "cell_type": "code",
      "source": [
        "a = np.array([[1, 2, 3], [4, 5, 6]], int)\n",
        "b = a.reshape(a.shape[1],a.shape[0])\n",
        "for i in range(a.shape[0]):\n",
        "  for j in range(a.shape[1]):\n",
        "    b[j][i] = a[i][j]\n",
        "print(b)"
      ],
      "metadata": {
        "colab": {
          "base_uri": "https://localhost:8080/"
        },
        "id": "t_rKix0iyGwY",
        "outputId": "9c7f0638-0e9d-4c37-c45c-21c1f6416a55"
      },
      "execution_count": 14,
      "outputs": [
        {
          "output_type": "stream",
          "name": "stdout",
          "text": [
            "[[1 4]\n",
            " [2 2]\n",
            " [2 6]]\n"
          ]
        }
      ]
    },
    {
      "cell_type": "markdown",
      "source": [
        "Задание 3\n"
      ],
      "metadata": {
        "id": "9kUcfdtJ4dr3"
      }
    },
    {
      "cell_type": "code",
      "source": [
        "a = np.array([[1, 1, 2], [2, 2, 2], [7, 8, 9], [13, 13, 13], [7, 4, 3], [1, 1, 1], [9, 10, 1], [2, 2, 2]], int)\n",
        "b = np.array([[2, 2], [1, 1]], int)\n",
        "for i in range(a.shape[0]):\n",
        "  if (((b[0][0] in a[i][:]) or (b[0][1] in a[i][:]) or (b[1][0] in a[i][:])) and ((b[1][0] in a[i][:]) or (b[1][1] in a[i][:]) or (b[0][1] in a[i][:]))):\n",
        "    print(a[i][:])\n"
      ],
      "metadata": {
        "colab": {
          "base_uri": "https://localhost:8080/"
        },
        "id": "8Ilykl974f7U",
        "outputId": "428e327c-fcb9-4e64-d3c4-960d1caf10ae"
      },
      "execution_count": 19,
      "outputs": [
        {
          "output_type": "stream",
          "name": "stdout",
          "text": [
            "[1 1 2]\n",
            "[2 2 2]\n",
            "[1 1 1]\n",
            "[ 9 10  1]\n",
            "[2 2 2]\n"
          ]
        }
      ]
    },
    {
      "cell_type": "markdown",
      "source": [
        "Задание 4\n"
      ],
      "metadata": {
        "id": "FJ2J5WiT6Jyw"
      }
    },
    {
      "cell_type": "code",
      "source": [],
      "metadata": {
        "id": "ZcBBl6ay6M0C"
      },
      "execution_count": null,
      "outputs": []
    }
  ]
}