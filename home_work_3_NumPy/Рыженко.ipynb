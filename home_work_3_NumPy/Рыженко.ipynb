{
  "nbformat": 4,
  "nbformat_minor": 0,
  "metadata": {
    "colab": {
      "provenance": []
    },
    "kernelspec": {
      "name": "python3",
      "display_name": "Python 3"
    },
    "language_info": {
      "name": "python"
    }
  },
  "cells": [
    {
      "cell_type": "code",
      "execution_count": 34,
      "metadata": {
        "colab": {
          "base_uri": "https://localhost:8080/"
        },
        "id": "Sr7tJxJ30RlT",
        "outputId": "3246261d-88df-4338-9e5e-d5ed4bbda678"
      },
      "outputs": [
        {
          "output_type": "stream",
          "name": "stdout",
          "text": [
            "1 -2 0\n",
            "3 4 2\n",
            "-1 3 1\n",
            "[-0.25  0.25 -0.5 ]\n",
            "[-0.625  0.125 -0.25 ]\n",
            "[ 1.625 -0.125  1.25 ]\n"
          ]
        }
      ],
      "source": [
        "# Задача 1\n",
        "\n",
        "import numpy\n",
        "def inversed_matrix(b):\n",
        "  a = numpy.array([[1,-2,0,1,0,0],[3,4,2,0,1,0],[-1,3,1,0,0,1]],float)\n",
        "  for i in range(3):\n",
        "    for j in range(3):\n",
        "      a[i][j] = b[i][j]\n",
        "\n",
        "  if (a[0][2] != 0):\n",
        "    c = a[1] * (-a[0][2] / a[1][2])\n",
        "    a[0] += c\n",
        "\n",
        "  if (a[0][0] == 0):\n",
        "    for i in range(3):\n",
        "      c = a[i][1]\n",
        "      a[i][1] = a[i][0]\n",
        "      a[i][0] = c\n",
        "      c = a[i][4]\n",
        "      a[i][4] = a[i][3]\n",
        "      a[i][3] = c\n",
        "\n",
        "\n",
        "\n",
        "  if (a[1][2] != 0):\n",
        "    c = a[2] * (-a[1][2] / a[2][2])\n",
        "    a[1] += c\n",
        "\n",
        "  if (a[1][1] == 0):\n",
        "    for i in range(3):\n",
        "      c = a[i][1]\n",
        "      a[i][1] = a[i][0]\n",
        "      a[i][0] = c\n",
        "      c = a[i][4]\n",
        "      a[i][4] = a[i][3]\n",
        "      a[i][3] = c\n",
        "\n",
        "\n",
        "\n",
        "  if (a[0][1] != 0):\n",
        "    c = a[1] * (-a[0][1] / a[1][1])\n",
        "    a[0] += c\n",
        "\n",
        "  if (a[1][0] != 0):\n",
        "    c = a[0] * (-a[1][0] / a[0][0])\n",
        "    a[1] += c\n",
        "\n",
        "\n",
        "\n",
        "  if (a[2][0] != 0):\n",
        "    c = a[0] * (-a[2][0] / a[0][0])\n",
        "    a[2] += c\n",
        "\n",
        "  if (a[2][2] == 0):\n",
        "    for i in range(3):\n",
        "      c = a[i][2]\n",
        "      a[i][2] = a[i][1]\n",
        "      a[i][1] = c\n",
        "      c = a[i][5]\n",
        "      a[i][5] = a[i][4]\n",
        "      a[i][4] = c\n",
        "\n",
        "  if (a[2][1] != 0):\n",
        "    c = a[1] * (-a[2][1] / a[1][1])\n",
        "    a[2] += c\n",
        "\n",
        "\n",
        "\n",
        "  a[0] /= a[0][0]\n",
        "  a[1] /= a[1][1]\n",
        "  a[2] /= a[2][2]\n",
        "\n",
        "  ia = []\n",
        "  for i in range(3):\n",
        "    ia.append(a[i][3:])\n",
        "  \n",
        "\n",
        "  return ia\n",
        "\n",
        "\n",
        "\n",
        "\n",
        "m = []\n",
        "for i in range(3):\n",
        "  m.append(list(map(float,input().split())))\n",
        "\n",
        "im = []\n",
        "im = inversed_matrix(m)\n",
        "for i in range(3):\n",
        "  print(im[i])"
      ]
    },
    {
      "cell_type": "code",
      "source": [
        "# Задача 2\n",
        "\n",
        "def fun(b,y):\n",
        "  c = []\n",
        "  for i in range(len(b)):\n",
        "    if b[i]//y > 3:\n",
        "      c.append(b[i])\n",
        "  \n",
        "  return c\n",
        "\n",
        "\n",
        "\n",
        "a = list(map(int,input().split()))\n",
        "x = int(input())\n",
        "\n",
        "tn = []\n",
        "tn = fun(a,x)\n",
        "print(tn)\n"
      ],
      "metadata": {
        "colab": {
          "base_uri": "https://localhost:8080/"
        },
        "id": "ee6NZPod2s1e",
        "outputId": "fc906b5b-b6bc-45a5-cec5-06aae6205516"
      },
      "execution_count": 37,
      "outputs": [
        {
          "output_type": "stream",
          "name": "stdout",
          "text": [
            "27 568375\n",
            "5\n",
            "[27, 568375]\n"
          ]
        }
      ]
    },
    {
      "cell_type": "code",
      "source": [
        "# Задача 3\n",
        "\n",
        "def fun(av, b):\n",
        "  rv = []\n",
        "  for i in range(4):\n",
        "    rv[i] = (av[i][0] - b[0])**2 + (av[i][1] - b[1])**2 + (av[0][2] - b[2])**2\n",
        "\n",
        "  if (rv[0] < rv[1]  and  rv[0] < rv[2]  and  rv[0] < rv[3]):\n",
        "    return rv[0]\n",
        "  if (rv[1] < rv[0]  and  rv[1] < rv[2]  and  rv[1] < rv[3]):\n",
        "    return rv[1]\n",
        "  if (rv[2] < rv[0]  and  rv[2] < rv[1]  and  rv[2] < rv[3]):\n",
        "    return rv[2]\n",
        "  \n",
        "  return rv[3]\n",
        "\n",
        "\n",
        "\n",
        "mv = []\n",
        "for i in range(4):\n",
        "  mv.append(list(map(float,input().split())))\n",
        "v = list(map(float,input().split()))\n",
        "\n",
        "print(fun(mv,v))"
      ],
      "metadata": {
        "colab": {
          "base_uri": "https://localhost:8080/"
        },
        "id": "XLcLZkW-KlA6",
        "outputId": "396f253d-c55f-42aa-8630-0ef326098396"
      },
      "execution_count": 25,
      "outputs": [
        {
          "output_type": "stream",
          "name": "stdout",
          "text": [
            "1\n",
            "2\n",
            "3\n"
          ]
        }
      ]
    },
    {
      "cell_type": "code",
      "source": [
        "# Задача 4\n",
        "\n",
        "nen = list(map(int,input().split()))\n",
        "n = []\n",
        "for i in range(len(nen)-1):\n",
        "  n.append(nen[i])\n",
        "  n.append(0)\n",
        "  n.append(0)\n",
        "  n.append(0)\n",
        "n.append(nen[-1])\n",
        "\n",
        "print(n)"
      ],
      "metadata": {
        "colab": {
          "base_uri": "https://localhost:8080/",
          "height": 252
        },
        "id": "291gBlBIRIiO",
        "outputId": "208c9aae-f5ba-4bdd-c202-64c102f1f68c"
      },
      "execution_count": 40,
      "outputs": [
        {
          "name": "stdout",
          "output_type": "stream",
          "text": [
            "1 2 3 4\n"
          ]
        },
        {
          "output_type": "error",
          "ename": "TypeError",
          "evalue": "ignored",
          "traceback": [
            "\u001b[0;31m---------------------------------------------------------------------------\u001b[0m",
            "\u001b[0;31mTypeError\u001b[0m                                 Traceback (most recent call last)",
            "\u001b[0;32m<ipython-input-40-be50a7292ada>\u001b[0m in \u001b[0;36m<module>\u001b[0;34m\u001b[0m\n\u001b[1;32m      4\u001b[0m \u001b[0mn\u001b[0m \u001b[0;34m=\u001b[0m \u001b[0;34m[\u001b[0m\u001b[0;34m]\u001b[0m\u001b[0;34m\u001b[0m\u001b[0;34m\u001b[0m\u001b[0m\n\u001b[1;32m      5\u001b[0m \u001b[0;32mfor\u001b[0m \u001b[0mi\u001b[0m \u001b[0;32min\u001b[0m \u001b[0mrange\u001b[0m\u001b[0;34m(\u001b[0m\u001b[0mlen\u001b[0m\u001b[0;34m(\u001b[0m\u001b[0mnen\u001b[0m\u001b[0;34m)\u001b[0m\u001b[0;34m-\u001b[0m\u001b[0;36m1\u001b[0m\u001b[0;34m)\u001b[0m\u001b[0;34m:\u001b[0m\u001b[0;34m\u001b[0m\u001b[0;34m\u001b[0m\u001b[0m\n\u001b[0;32m----> 6\u001b[0;31m   \u001b[0mn\u001b[0m\u001b[0;34m.\u001b[0m\u001b[0mappend\u001b[0m\u001b[0;34m(\u001b[0m\u001b[0mnen\u001b[0m\u001b[0;34m[\u001b[0m\u001b[0mi\u001b[0m\u001b[0;34m]\u001b[0m\u001b[0;34m,\u001b[0m \u001b[0;36m0\u001b[0m\u001b[0;34m,\u001b[0m \u001b[0;36m0\u001b[0m\u001b[0;34m,\u001b[0m \u001b[0;36m0\u001b[0m\u001b[0;34m)\u001b[0m\u001b[0;34m\u001b[0m\u001b[0;34m\u001b[0m\u001b[0m\n\u001b[0m\u001b[1;32m      7\u001b[0m   \u001b[0;31m# n.append(0)\u001b[0m\u001b[0;34m\u001b[0m\u001b[0;34m\u001b[0m\u001b[0;34m\u001b[0m\u001b[0m\n\u001b[1;32m      8\u001b[0m   \u001b[0;31m# n.append(0)\u001b[0m\u001b[0;34m\u001b[0m\u001b[0;34m\u001b[0m\u001b[0;34m\u001b[0m\u001b[0m\n",
            "\u001b[0;31mTypeError\u001b[0m: append() takes exactly one argument (4 given)"
          ]
        }
      ]
    }
  ]
}