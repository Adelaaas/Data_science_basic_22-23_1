{
  "nbformat": 4,
  "nbformat_minor": 0,
  "metadata": {
    "colab": {
      "provenance": []
    },
    "kernelspec": {
      "name": "python3",
      "display_name": "Python 3"
    },
    "language_info": {
      "name": "python"
    }
  },
  "cells": [
    {
      "cell_type": "code",
      "execution_count": 47,
      "metadata": {
        "colab": {
          "base_uri": "https://localhost:8080/"
        },
        "id": "FeaxA8PloqjR",
        "outputId": "998e4c0f-ebf2-4c75-b9e7-61989c20a7aa"
      },
      "outputs": [
        {
          "output_type": "stream",
          "name": "stdout",
          "text": [
            "4\n",
            "3\n",
            "7\n"
          ]
        },
        {
          "output_type": "execute_result",
          "data": {
            "text/plain": [
              "[3, 7]"
            ]
          },
          "metadata": {},
          "execution_count": 47
        }
      ],
      "source": [
        "import numpy as np\n",
        "a=np.array([1,2,3,4,5,6,7,8,9],int)\n",
        "b=int(input())\n",
        "c=[]\n",
        "for i in range(len(a)):\n",
        "  if a[i]%b>=3:\n",
        "    print(a[i])\n",
        "    c.append(a[i])\n",
        "c"
      ]
    }
  ]
}