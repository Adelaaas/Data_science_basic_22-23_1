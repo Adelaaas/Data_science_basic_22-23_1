{
  "nbformat": 4,
  "nbformat_minor": 0,
  "metadata": {
    "colab": {
      "provenance": []
    },
    "kernelspec": {
      "name": "python3",
      "display_name": "Python 3"
    },
    "language_info": {
      "name": "python"
    }
  },
  "cells": [
    {
      "cell_type": "code",
      "execution_count": 9,
      "metadata": {
        "colab": {
          "base_uri": "https://localhost:8080/"
        },
        "id": "fk3uk1i_NQsc",
        "outputId": "963c2c8b-61ff-4129-f6b4-18a46ed4ff37"
      },
      "outputs": [
        {
          "output_type": "stream",
          "name": "stdout",
          "text": [
            "(12, 12, 12)\n",
            "1\n",
            "0\n",
            "0\n",
            "0\n",
            "3\n",
            "0\n",
            "0\n",
            "0\n",
            "5\n",
            "0\n",
            "0\n",
            "0\n",
            "3\n",
            "0\n",
            "0\n",
            "0\n",
            "9\n",
            "0\n",
            "0\n",
            "0\n",
            "7\n",
            "0\n",
            "0\n",
            "0\n",
            "7\n",
            "0\n",
            "0\n",
            "0\n",
            "4\n",
            "0\n",
            "0\n",
            "0\n",
            "6\n",
            "0\n",
            "0\n"
          ]
        }
      ],
      "source": [
        "import numpy as np\n",
        "a=np.array([1,3,5,3,9,7,7,4,6,8,3,2],int)\n",
        "b=[a.shape*3]\n",
        "for i in range(a.shape[0]):\n",
        "  b.append(a[i])\n",
        "  b.append(0)\n",
        "  b.append(0)\n",
        "  b.append(0)  \n",
        "b\n"
      ]
    }
  ]
}