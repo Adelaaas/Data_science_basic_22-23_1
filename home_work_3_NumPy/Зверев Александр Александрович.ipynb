{
  "nbformat": 4,
  "nbformat_minor": 0,
  "metadata": {
    "colab": {
      "provenance": [],
      "toc_visible": true
    },
    "kernelspec": {
      "name": "python3",
      "display_name": "Python 3"
    },
    "language_info": {
      "name": "python"
    }
  },
  "cells": [
    {
      "cell_type": "markdown",
      "source": [
        "# Вариант 1."
      ],
      "metadata": {
        "id": "uUb0k51-4ZT5"
      }
    },
    {
      "cell_type": "markdown",
      "source": [
        "Кто делает:\n",
        "1. Анохин Георгий Александрович\n",
        "2. Георгиев Денис Дмитриевич \n",
        "3. Горячев Иван Сергеевич\n",
        "4. Даниярбек уулу Нурбол"
      ],
      "metadata": {
        "id": "jYTf6002M_nQ"
      }
    },
    {
      "cell_type": "markdown",
      "source": [
        "**Задача 1.**\n",
        "\n",
        "**1-я входная строка** - год (опционально месяц и день) в формате ISO начала отсчёта.\n",
        "\n",
        "**2-я входная строка** - год (опционально месяц и день) в формате ISO окончания отсчёта.\n",
        "\n",
        "Создайте функцию, которая принимает на вход два введенных года и возвращает список (numpy array) дат с шагом в 1 день от начала до окончания отсчёта (последний день не включается).\n",
        "\n",
        "Результат должен представлять из себя список дат в формате ISO.\n",
        "Пример - 2005-02-25, где\n",
        "\n",
        "- 2005 - год\n",
        "- 02 - месяц\n",
        "- 25 - день"
      ],
      "metadata": {
        "id": "nqParwpl4NYQ"
      }
    },
    {
      "cell_type": "code",
      "source": [
        "# ваше решение"
      ],
      "metadata": {
        "id": "qVPXjYIX4CCT"
      },
      "execution_count": null,
      "outputs": []
    },
    {
      "cell_type": "markdown",
      "source": [
        "**Задача 2.**\n",
        "\n",
        "Используя numpy:\n",
        "\n",
        "Создайте функцию, которая принимает как аргументы целое число N и первый элемент (вещественное число el1), и разность (вещественное число d) и создает матрицу по диагонали, которой распологаются первые N членов арифметической прогрессии."
      ],
      "metadata": {
        "id": "dlfakURs8vgB"
      }
    },
    {
      "cell_type": "code",
      "source": [
        "# ваше решение"
      ],
      "metadata": {
        "id": "-9XxOXYc8zNv"
      },
      "execution_count": null,
      "outputs": []
    },
    {
      "cell_type": "markdown",
      "source": [
        "**Задача 3.**\n",
        "\n",
        "Дан массив. Создайте функцию, которая принимает данный массив и проверяет наличие пропусков и возвращает их количество:\n",
        "- если есть пропуски, то функция должна их заполнить теми значениями, которые пользователь вводит с клавиатуры.\n",
        "- если нет пропусков, то функция возвращает 0.\n",
        "\n",
        "*Встроенные функции заполнения пропусков использовать запрещено.*"
      ],
      "metadata": {
        "id": "b0BomVhGCrZ-"
      }
    },
    {
      "cell_type": "code",
      "source": [
        "# ваше решение"
      ],
      "metadata": {
        "id": "ltuxQwBPDeeN"
      },
      "execution_count": null,
      "outputs": []
    },
    {
      "cell_type": "markdown",
      "source": [
        "**Задача 4.**\n",
        "\n",
        "Вам дан массив, содержащий категории некоторого объекта в виде строк.\n",
        "\n",
        "Создайте функцию, которая принимает на вход массив, хранящий категории объектов и возвращает:\n",
        "- закодированный список из чисел, где каждому числу соответсвует какая-то категория;\n",
        "- число категорий;\n",
        "- словарь кодирования;\n",
        "\n",
        "**Например:**\n",
        "\n",
        "Ввод:\n",
        "\n",
        "`('red', 'green', 'red', 'blue')`\n",
        "\n",
        "Вывод:\n",
        "```(0, 1, 0, 2)\n",
        "Количество категорий: 3\n",
        "Словарь кодирования: \n",
        "{'red': 0, 'green': 1, 'blue': 2'}\n",
        "```"
      ],
      "metadata": {
        "id": "yGQxrCpbD0S6"
      }
    },
    {
      "cell_type": "markdown",
      "source": [
        "*P.s. встроенными функциями кодирования пользоваться запрещено.*"
      ],
      "metadata": {
        "id": "_KAq5aHVFQ24"
      }
    },
    {
      "cell_type": "code",
      "source": [
        "# ваше решение"
      ],
      "metadata": {
        "id": "5SA-uo30FMzs"
      },
      "execution_count": null,
      "outputs": []
    },
    {
      "cell_type": "markdown",
      "source": [
        "# Вариант 2."
      ],
      "metadata": {
        "id": "lyuKr1rn81O_"
      }
    },
    {
      "cell_type": "markdown",
      "source": [
        "Кто делает:\n",
        "1. Дорохов Матвей Дмитриевич \n",
        "2. Зайцев Егор Андреевич\n",
        "3. Зверев Александр Александрович \n",
        "4. Зимина Александра Георгиевна"
      ],
      "metadata": {
        "id": "xAlXF5iENHaw"
      }
    },
    {
      "cell_type": "markdown",
      "source": [
        "**Задача 1.**\n",
        "\n",
        "На вход подаются 3 числа (каждое с новой строки):\n",
        "\n",
        "- start\n",
        "- stop\n",
        "- n\n",
        "\n",
        "Создайте функцию, которая принимает 3 введеных числа и возвращает список (numpy.array) из n точек на отрезке (start, stop), попарно равноудалённых друг от друга и от концов отрезка (т.е. разделите отрезок на n+1 часть). Округлите значения точек до 3 знака после запятой."
      ],
      "metadata": {
        "id": "do65Avzw4DVz"
      }
    },
    {
      "cell_type": "code",
      "source": [
        "import numpy as np"
      ],
      "metadata": {
        "id": "uHozyVss-IeX"
      },
      "execution_count": 2,
      "outputs": []
    },
    {
      "cell_type": "code",
      "source": [
        "def otrez(start, stop, n):\n",
        "  x = np.around(np.arange(start, stop + (stop-start)/(n+1), (stop-start)/(n+1)), decimals = 3)\n",
        "  return x\n",
        "\n",
        "start = int(input())\n",
        "stop = int(input())\n",
        "n = int(input())\n",
        "otrez(start, stop, n)"
      ],
      "metadata": {
        "colab": {
          "base_uri": "https://localhost:8080/"
        },
        "id": "Eyi8En_79O23",
        "outputId": "3fe2f520-e2e6-49d5-c60d-718023bad5b3"
      },
      "execution_count": 15,
      "outputs": [
        {
          "name": "stdout",
          "output_type": "stream",
          "text": [
            "0\n",
            "10\n",
            "2\n"
          ]
        },
        {
          "output_type": "execute_result",
          "data": {
            "text/plain": [
              "array([ 0.   ,  3.333,  6.667, 10.   ])"
            ]
          },
          "metadata": {},
          "execution_count": 15
        }
      ]
    },
    {
      "cell_type": "markdown",
      "source": [
        "**Задача 2.**\n",
        "\n",
        "Дан массив размерностью NxM.\n",
        "\n",
        "Напишите функцию, которая нормализует все элементы матрицы.\n",
        "\n",
        "**Немного теории.** *Нормализацией данных называется приведение их к некоторой общей шкале без потери информации о различии диапазонов.*\n",
        "\n",
        "*Новые значения элементов расчитываются как:*\n",
        "\n",
        "$x' = \\frac{x-x_{min}}{x_{max}-x_{min}}$"
      ],
      "metadata": {
        "id": "kZGqA0gITmaM"
      }
    },
    {
      "cell_type": "code",
      "source": [
        "def norm(a):\n",
        "  return (a - a.min()) / (a.max() - a.min())\n",
        "\n",
        "a = np.array([[1, 2, 3], [4, 5, 6]])\n",
        "norm(a)"
      ],
      "metadata": {
        "id": "2WyWqRRcCpb_",
        "colab": {
          "base_uri": "https://localhost:8080/"
        },
        "outputId": "5f4b84e4-bc95-4cbd-b26b-43fb3a6743f7"
      },
      "execution_count": 14,
      "outputs": [
        {
          "output_type": "execute_result",
          "data": {
            "text/plain": [
              "array([[0. , 0.2, 0.4],\n",
              "       [0.6, 0.8, 1. ]])"
            ]
          },
          "metadata": {},
          "execution_count": 14
        }
      ]
    },
    {
      "cell_type": "markdown",
      "source": [
        "**Задача 3.**\n",
        "\n",
        "Вам дан одномерный массив. Напишите функцию, которая принимает этот массив и возвращает:\n",
        "1. Количество локальных максимумов для этого массива;\n",
        "2. И сами эти максимумы.\n",
        "\n",
        "*P.s. встроенными функциями пользоваться запрещено.*"
      ],
      "metadata": {
        "id": "dCVTOO-_FYkU"
      }
    },
    {
      "cell_type": "code",
      "source": [
        "def locmax(m):\n",
        "  return np.array([m[i] for i in range(1, m.shape[0]-1) if m[i] > m[i-1] and m[i] > m[i+1]])\n",
        "\n",
        "m = np.array([1, 4, 3, 5, 6, 2, 8, 0])\n",
        "print(locmax(m).shape[0])\n",
        "locmax(m)"
      ],
      "metadata": {
        "id": "wjMpSkDjGgdp",
        "colab": {
          "base_uri": "https://localhost:8080/"
        },
        "outputId": "86011a9c-ca8e-4f17-fb89-46fc31cdd57e"
      },
      "execution_count": 13,
      "outputs": [
        {
          "output_type": "stream",
          "name": "stdout",
          "text": [
            "3\n"
          ]
        },
        {
          "output_type": "execute_result",
          "data": {
            "text/plain": [
              "array([4, 6, 8])"
            ]
          },
          "metadata": {},
          "execution_count": 13
        }
      ]
    },
    {
      "cell_type": "markdown",
      "source": [
        "**Задача 4.**\n",
        "\n",
        "Реализуйте функцию умножения двух матриц, без использования встроенной функции."
      ],
      "metadata": {
        "id": "sPTzH_1fGs1u"
      }
    },
    {
      "cell_type": "code",
      "source": [
        "def matmult(v, w):\n",
        "  s = np.zeros((w.shape[1], w.shape[0]))\n",
        "  for i in range(w.shape[1]):\n",
        "    for j in range(w.shape[0]):\n",
        "      s[i, j] = w[j, i]\n",
        "  q = np.zeros((v.shape[0], s.shape[0]))\n",
        "  for i in range(v.shape[0]):\n",
        "    for j in range(s.shape[0]):\n",
        "      q[i, j] = (v[i] * s[j]).sum()\n",
        "  return q\n",
        "\n",
        "v = np.array([[1, 2, 3], [4, 5, 6]])\n",
        "w = np.array([[1, 2], [3, 4], [5, 6]])\n",
        "matmult(v, w)"
      ],
      "metadata": {
        "id": "JzgPFrc0H6L0",
        "colab": {
          "base_uri": "https://localhost:8080/"
        },
        "outputId": "2f038a9b-ccec-4caa-abe7-50f932520ace"
      },
      "execution_count": 12,
      "outputs": [
        {
          "output_type": "execute_result",
          "data": {
            "text/plain": [
              "array([[22., 28.],\n",
              "       [49., 64.]])"
            ]
          },
          "metadata": {},
          "execution_count": 12
        }
      ]
    },
    {
      "cell_type": "markdown",
      "source": [
        "# Вариант 3."
      ],
      "metadata": {
        "id": "VoY_eabm8305"
      }
    },
    {
      "cell_type": "markdown",
      "source": [
        "Кто делает:\n",
        "\n",
        "1. Иванов Александр Андреевич \n",
        "2. Калентьев (Топилин) Константин Юрьевич\n",
        "3. Мартюшев Владислав Алексеевич\n",
        "4. Нечаев Никита Максимович"
      ],
      "metadata": {
        "id": "d6rHDdnINNgx"
      }
    },
    {
      "cell_type": "markdown",
      "source": [
        "**Задача 1.**\n",
        "\n",
        "На вход подаются 3 числа (каждое с новой строки):\n",
        "\n",
        "- start\n",
        "- stop\n",
        "- n\n",
        "\n",
        "Создайте функцию, которая возвращает список из n точек на отрезке [start, stop] в геометрической прогрессии, включая start и stop.\n",
        "\n",
        "Округлите значения точек до 3 знака после запятой."
      ],
      "metadata": {
        "id": "QpDCZUXS5INU"
      }
    },
    {
      "cell_type": "code",
      "source": [
        "# ваше решение"
      ],
      "metadata": {
        "id": "03G5iKfB85hI"
      },
      "execution_count": null,
      "outputs": []
    },
    {
      "cell_type": "markdown",
      "source": [
        "**Задача 2.**\n",
        "\n",
        "Дана матрица. Напишите функцию, которая принимает в качестве аргумента данную матрицу и возврщает транспонированную матрицу.\n",
        "\n",
        "**Немного теории**. *Транспонированной матрицей $A^T$ называется матрица, полученная из исходной матрицы $A$ заменой строк на столбцы. Формально: элементы матрицы $A^T$ определяются как ${a^T}_{ij} = a_{ji}$, где ${a^T}_{ij}$ — элемент матрицы $A^T$, стоящий на пересечении строки с номером $i$ и столбца с номером $j$.*\n",
        "\n",
        "P.s. использовать встроенные функции Numpy для транспонирования запрещено."
      ],
      "metadata": {
        "id": "wjZlfpQb9GPz"
      }
    },
    {
      "cell_type": "code",
      "source": [
        "# ваше решение"
      ],
      "metadata": {
        "id": "XS8HHgkQ9Eky"
      },
      "execution_count": null,
      "outputs": []
    },
    {
      "cell_type": "markdown",
      "source": [
        "**Задача 3.**\n",
        "\n",
        "Даны два массива A и B формы (8,3) и (2,2). \n",
        "Напишите фукнкцию, которая возвращает строки A, содержащие элементы каждой строки B, независимо от порядка элементов в B?"
      ],
      "metadata": {
        "id": "3SZK2iQNH9zf"
      }
    },
    {
      "cell_type": "code",
      "source": [
        "# ваше решение"
      ],
      "metadata": {
        "id": "O_XiMeOJJgDE"
      },
      "execution_count": null,
      "outputs": []
    },
    {
      "cell_type": "markdown",
      "source": [
        "**Задача 4.**\n",
        "\n",
        "Дан вектор. Реализуйте функцию, которая возвращает каждый элемент в двоичном предствалении в виде вектора.\n",
        "\n",
        "Например:\n",
        "\n",
        "Ввод:\n",
        "\n",
        "`[0, 1, 2, 3, 15, 16, 32, 64, 128]`\n",
        "\n",
        "Вывод:\n",
        "\n",
        "```\n",
        "[[0 0 0 0 0 0 0 0]\n",
        " [0 0 0 0 0 0 0 1]\n",
        " [0 0 0 0 0 0 1 0]\n",
        " [0 0 0 0 0 0 1 1]\n",
        " [0 0 0 0 1 1 1 1]\n",
        " [0 0 0 1 0 0 0 0]\n",
        " [0 0 1 0 0 0 0 0]\n",
        " [0 1 0 0 0 0 0 0]\n",
        " [1 0 0 0 0 0 0 0]]\n",
        " ```"
      ],
      "metadata": {
        "id": "AIM6Bm5Y5Vvs"
      }
    },
    {
      "cell_type": "code",
      "source": [
        "# ваше решение"
      ],
      "metadata": {
        "id": "Cc3dYkM7M8sY"
      },
      "execution_count": null,
      "outputs": []
    },
    {
      "cell_type": "markdown",
      "source": [
        "# Вариант 4."
      ],
      "metadata": {
        "id": "-QEGzcgoNVx_"
      }
    },
    {
      "cell_type": "markdown",
      "source": [
        "Кто делает:\n",
        "1. Нуромский Евгений Михайлович\n",
        "2. Родин Андрей Дмитриевич\n",
        "3. Рыженко Роман Владиславович\n",
        "4. Юлов Егор Владимирович "
      ],
      "metadata": {
        "id": "o7jyDAXVNXSI"
      }
    },
    {
      "cell_type": "markdown",
      "source": [
        "**Задача 1.**\n",
        "\n",
        "Реализовать функцию, которая принимает матрицу 3x3 и возвращает обратную по отношеную к ней матрицу.\n",
        "\n",
        "**Немного теории**. *Матрица $А^{-1}$ называется обратной матрицей по отношению к матрице $А$, если $А*А^{-1} = Е$, где $Е$ — единичная матрица n-го порядка. Обратная матрица может существовать только для квадратных матриц.*\n",
        "\n",
        "P.s. использовать встроенные функции запрещено."
      ],
      "metadata": {
        "id": "Y2AweIhaIhrl"
      }
    },
    {
      "cell_type": "code",
      "source": [
        "# ваше решение"
      ],
      "metadata": {
        "id": "wRH4GNSAJchA"
      },
      "execution_count": null,
      "outputs": []
    },
    {
      "cell_type": "markdown",
      "source": [
        "**Задача 2.**\n",
        "\n",
        "Дан одномернный массив. Создайте функцию, которая принимает данные массив и возвращает массив, состоящий из элементов, целая часть от деления которых больше 3."
      ],
      "metadata": {
        "id": "_CimGvMAJiw5"
      }
    },
    {
      "cell_type": "code",
      "source": [
        "# ваше решение"
      ],
      "metadata": {
        "id": "4vTLwhjQJj2L"
      },
      "execution_count": null,
      "outputs": []
    },
    {
      "cell_type": "markdown",
      "source": [
        "**Задача 3.**\n",
        "\n",
        "Дана матрица 4х3 (содержащаяя координаты 4х векторов, столбцы это соотсветсвенно x,y,z) и вектор (x,y,z). Напишите функцию которая возвращает ближащий вектор из матрицы к заданому вектору (согласно расстоянию между векторами)."
      ],
      "metadata": {
        "id": "SFdz-fHbJ7yt"
      }
    },
    {
      "cell_type": "code",
      "source": [
        "# ваше решение"
      ],
      "metadata": {
        "id": "dJny__RzKv3W"
      },
      "execution_count": null,
      "outputs": []
    },
    {
      "cell_type": "markdown",
      "source": [
        "**Задача 4.**\n",
        "\n",
        "Дан вектор из ненулевых элементов. Вставьте между каждыми элементами по три 0."
      ],
      "metadata": {
        "id": "KYTvVWDPLE43"
      }
    },
    {
      "cell_type": "code",
      "source": [
        "# ваше решение"
      ],
      "metadata": {
        "id": "g6RUeHBfLMPc"
      },
      "execution_count": null,
      "outputs": []
    }
  ]
}